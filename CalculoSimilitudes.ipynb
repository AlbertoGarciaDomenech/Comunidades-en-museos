{
 "cells": [
  {
   "cell_type": "markdown",
   "id": "f56e43ca-b8c8-4fce-b7f0-5134d4ba9895",
   "metadata": {
    "tags": []
   },
   "source": [
    "# Calculo de las matrices de similitud\n",
    "Calcular las similitudes entre obras y entre usuarios y generar matrices de similitud para usarlas posteriormente\n",
    "\n",
    "---"
   ]
  },
  {
   "cell_type": "code",
   "execution_count": 1,
   "id": "46068674-7691-4dac-bf13-8ae65c17cd99",
   "metadata": {},
   "outputs": [],
   "source": [
    "import numpy as np\n",
    "import pandas as pd\n",
    "import src.SimilarityUsers as su\n",
    "import src.SimilarityArtworks as sa"
   ]
  },
  {
   "cell_type": "markdown",
   "id": "dd3080d6-402b-44f7-9435-380b56978cc9",
   "metadata": {},
   "source": [
    "## 1. Similitud Cuadros"
   ]
  },
  {
   "cell_type": "code",
   "execution_count": 2,
   "id": "0bddaf49-11da-4839-a901-d379374b8dd3",
   "metadata": {},
   "outputs": [],
   "source": [
    "artworks_csv = pd.read_csv(sa.ARTWORKS_CSV)\n",
    "artworks_matrix = np.zeros((len(artworks_csv),len(artworks_csv)))\n",
    "\n",
    "i = 0\n",
    "for a in artworks_csv['ID']:\n",
    "    j = 0\n",
    "    for b in artworks_csv['ID']:\n",
    "        artworks_matrix[i][j] = sa.SimilarityArtworks().computeSimilarity(a, b)\n",
    "        j +=1\n",
    "    i+=1"
   ]
  },
  {
   "cell_type": "code",
   "execution_count": 3,
   "id": "c45ff854-02e7-410e-9be8-138c7741b96a",
   "metadata": {},
   "outputs": [],
   "source": [
    "artworks_sim = pd.DataFrame(artworks_matrix, index = [i for i in artworks_csv['ID']], columns = [i for i in artworks_csv['ID']])\n",
    "artworks_sim.to_csv('data/Prado_artworks_similarity.csv')"
   ]
  },
  {
   "cell_type": "markdown",
   "id": "aa23aadd-0021-4951-9127-e0ddb93976f0",
   "metadata": {},
   "source": [
    "## 2. Similitud usuarios"
   ]
  },
  {
   "cell_type": "code",
   "execution_count": 4,
   "id": "f7dd4c13-7458-4401-92a9-9db175cebb32",
   "metadata": {},
   "outputs": [],
   "source": [
    "users_csv = pd.read_csv(su.USERS_EMOTIONS_SCALED_CSV)\n",
    "# Tratar las listas de emociones para que no se lean como strings\n",
    "users_csv['positive'] = users_csv['positive'].apply(eval)\n",
    "users_csv['negative'] = users_csv['negative'].apply(eval)\n",
    "users_csv['mixed'] = users_csv['mixed'].apply(eval)\n",
    "users_matrix = []\n",
    "\n",
    "SimUsers = su.SimilarityUsers(age_index = np.count_nonzero(users_csv['age'].unique()), artworks_sim = artworks_sim)"
   ]
  },
  {
   "cell_type": "code",
   "execution_count": 8,
   "id": "0e526377-9773-469b-8e3e-ed5e8d0ced38",
   "metadata": {},
   "outputs": [],
   "source": [
    "for i in range(0, len(users_csv)):\n",
    "  sim_list = []\n",
    "  for j in range(0, len(users_csv)):\n",
    "    sim = SimUsers.computeSimilarity(users_csv.loc(0)[i]['userId'], users_csv.loc(0)[j]['userId'])\n",
    "    if sim >= 0:\n",
    "      sim_list.append(sim)\n",
    "    else:\n",
    "      sim_list.append(0)\n",
    "      \n",
    "  users_matrix.append(sim_list)"
   ]
  },
  {
   "cell_type": "code",
   "execution_count": 9,
   "id": "de9c5aec-2a42-4cd1-a542-cecc8a3a3b24",
   "metadata": {},
   "outputs": [],
   "source": [
    "users_sim = pd.DataFrame(users_matrix)\n",
    "users_sim.to_csv('data/Prado_users_similarity.csv')"
   ]
  }
 ],
 "metadata": {
  "kernelspec": {
   "display_name": "Python 3 (ipykernel)",
   "language": "python",
   "name": "python3"
  },
  "language_info": {
   "codemirror_mode": {
    "name": "ipython",
    "version": 3
   },
   "file_extension": ".py",
   "mimetype": "text/x-python",
   "name": "python",
   "nbconvert_exporter": "python",
   "pygments_lexer": "ipython3",
   "version": "3.9.7"
  }
 },
 "nbformat": 4,
 "nbformat_minor": 5
}

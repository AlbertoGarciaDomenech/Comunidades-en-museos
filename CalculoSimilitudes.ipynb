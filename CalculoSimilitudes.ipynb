{
 "cells": [
  {
   "cell_type": "markdown",
   "id": "f56e43ca-b8c8-4fce-b7f0-5134d4ba9895",
   "metadata": {
    "tags": []
   },
   "source": [
    "# Calculo de las matrices de similitud\n",
    "Calcular las similitudes entre obras y entre usuarios y generar matrices de similitud para usarlas posteriormente\n",
    "\n",
    "---"
   ]
  },
  {
   "cell_type": "code",
   "execution_count": 4,
   "id": "46068674-7691-4dac-bf13-8ae65c17cd99",
   "metadata": {},
   "outputs": [],
   "source": [
    "import pandas as pd\n",
    "import src.SimilarityUsers as su\n",
    "import src.SimilarityArtworks as sa\n",
    "# from src.SimilarityUsers import SimilarityUsers\n",
    "# from src.SimilarityArtworks import SimilarityArtworks"
   ]
  },
  {
   "cell_type": "markdown",
   "id": "dd3080d6-402b-44f7-9435-380b56978cc9",
   "metadata": {},
   "source": [
    "## 1. Similitud Cuadros"
   ]
  },
  {
   "cell_type": "code",
   "execution_count": 5,
   "id": "0bddaf49-11da-4839-a901-d379374b8dd3",
   "metadata": {},
   "outputs": [],
   "source": [
    "artworks_csv = pd.read_csv(sa.ARTWORKS_CSV)\n",
    "artworks_matrix = np.zeros((len(artworks_csv),len(artworks_csv)))\n",
    "\n",
    "i = 0\n",
    "for a in artworks_csv['ID']:\n",
    "    j = 0\n",
    "    for b in aux['ID']:\n",
    "        artworks_matrix[i][j] = SimilarityArtworks().computeSimilarity(a, b)\n",
    "        j +=1\n",
    "    i+=1"
   ]
  }
 ],
 "metadata": {
  "kernelspec": {
   "display_name": "Python 3 (ipykernel)",
   "language": "python",
   "name": "python3"
  },
  "language_info": {
   "codemirror_mode": {
    "name": "ipython",
    "version": 3
   },
   "file_extension": ".py",
   "mimetype": "text/x-python",
   "name": "python",
   "nbconvert_exporter": "python",
   "pygments_lexer": "ipython3",
   "version": "3.9.7"
  }
 },
 "nbformat": 4,
 "nbformat_minor": 5
}

{
 "cells": [
  {
   "cell_type": "code",
   "execution_count": 86,
   "id": "8b9c600e-5662-4480-ba2c-ca8149c45b32",
   "metadata": {
    "tags": []
   },
   "outputs": [],
   "source": [
    "import pandas as pd\n",
    "import numpy as np\n",
    "from pandas.core.series import Series\n",
    "import abc\n",
    "import json\n",
    "import colorsys\n",
    "import math"
   ]
  },
  {
   "cell_type": "code",
   "execution_count": 87,
   "id": "ebc7646d-0a22-465f-b2b8-a995dd1075ec",
   "metadata": {},
   "outputs": [],
   "source": [
    "USERS_CSV = 'data/Prado_users.csv'\n",
    "USERS_SCALED_CSV = 'data/Prado_users_scaled.csv'\n",
    "ARTWORKS_CSV = 'data/Prado_artworks_wikidata.csv'"
   ]
  },
  {
   "cell_type": "code",
   "execution_count": 88,
   "id": "d92a60b8-7c8a-4733-a03a-ee3c020d9fde",
   "metadata": {},
   "outputs": [
    {
     "name": "stdout",
     "output_type": "stream",
     "text": [
      "Francisco Goya\n",
      "Francisco Goya\n"
     ]
    },
    {
     "data": {
      "text/plain": [
       "True"
      ]
     },
     "execution_count": 88,
     "metadata": {},
     "output_type": "execute_result"
    }
   ],
   "source": [
    "aux = pd.read_csv(ARTWORKS_CSV)[['wd:paintingID', 'Artist', 'Category']] \n",
    "print(aux.loc[aux['wd:paintingID']=='Q920030']['Artist'].to_list()[0])\n",
    "print(aux.loc[aux['wd:paintingID']=='Q952796']['Artist'].to_list()[0])\n",
    "\n",
    "(aux.loc[aux['wd:paintingID']=='Q920030']['Artist'].to_list()[0]) == (aux.loc[aux['wd:paintingID']=='Q952796']['Artist'].to_list()[0])"
   ]
  },
  {
   "cell_type": "code",
   "execution_count": 89,
   "id": "9f3e61cd-ef89-460b-a74a-5667c979ebc5",
   "metadata": {},
   "outputs": [],
   "source": [
    "class SimilarityFunctionInterface(metaclass=abc.ABCMeta):\n",
    "    \n",
    "    @abc.abstractmethod\n",
    "    def computeSimilarity(self, A, B) -> float:\n",
    "        \"\"\"Compute similarity between two lists\"\"\"\n",
    "        raise NotImplementedError()"
   ]
  },
  {
   "cell_type": "code",
   "execution_count": 90,
   "id": "ea5dd7ef-8e5a-43e8-af2a-cdf2a72e62af",
   "metadata": {},
   "outputs": [],
   "source": [
    "class SimilarityAge(SimilarityFunctionInterface):\n",
    "    \"\"\"Compute similarity between people (by age)\"\"\"\n",
    "    def __init__(self, age_index):\n",
    "        self.age_index = age_index\n",
    "        \n",
    "    def computeSimilarity(self, A, B):\n",
    "        \"\"\"Overrides SimilarityFuntionInterface.computeSimilarity()\"\"\"\n",
    "        return 1 - (1 / (self.age_index - 1) * abs(A - B))\n",
    "    \n",
    "class SimilarityGender(SimilarityFunctionInterface):\n",
    "    \"\"\"Compute similarity between people (by age)\"\"\"\n",
    "        \n",
    "    def computeSimilarity(self, A, B):\n",
    "        \"\"\"Overrides SimilarityFuntionInterface.computeSimilarity()\"\"\"\n",
    "        return A == B\n",
    "    \n",
    "class SimilarityCountry(SimilarityFunctionInterface):\n",
    "    \"\"\"Compute similarity between people (by age)\"\"\"\n",
    "        \n",
    "    def computeSimilarity(self, A, B):\n",
    "        \"\"\"Overrides SimilarityFuntionInterface.computeSimilarity()\"\"\"\n",
    "        return A == B\n",
    "\n",
    "###################################################\n",
    "class SimilarityDemographic(SimilarityFunctionInterface):\n",
    "    \"\"\"Compute similarity between people (by demographic)\"\"\"\n",
    "    def __init__(self, age_index, country_weight=0.3, age_weight=0.5, gender_weight=0.2):\n",
    "        self.country_weight = country_weight\n",
    "        self.age_weight = age_weight\n",
    "        self.gender_weight = gender_weight\n",
    "        self.age_index = age_index\n",
    "    \n",
    "    def computeSimilarity(self, A, B):\n",
    "        \"\"\"Overrides SimilarityFuntionInterface.computeSimilarity()\"\"\"\n",
    "        country_sim = SimilarityCountry().computeSimilarity(A.country, B.country)\n",
    "        age_sim = SimilarityAge(self.age_index).computeSimilarity(A.age, B.age)\n",
    "        gender_sim = SimilarityGender().computeSimilarity(A.gender, B.gender)\n",
    "                       \n",
    "        return (country_sim*self.country_weight) + (age_sim*self.age_weight) + (gender_sim*self.gender_weight)\n",
    "    \n",
    "######################################################    \n",
    "class SimilarityPolarity(SimilarityFunctionInterface):\n",
    "    \"\"\"Compute similarity between people (by artwork tastes)\"\"\"\n",
    "    def __init__(self, artworks_sim, positive_weight=0.4, negative_weight=0.4, mixed_weight=0.2):\n",
    "        self.positive_weight = positive_weight\n",
    "        self.negative_weight = negative_weight\n",
    "        self.mixed_weight = mixed_weight\n",
    "        \n",
    "    def computeSimilarity(self, A, B):\n",
    "        \"\"\"Overrides SimilarityFunctionInterface.computeSimilarity()\"\"\"\n",
    "        positive_sim = 0\n",
    "        for art1 in A.positive:\n",
    "            for art2 in B.positive:\n",
    "                positive_sim += self.similitudCuadros[art1][art2]\n",
    "        positive_sim /= len(A.positive) if len(A.positive) > len(B.positive) else len(B.positive)\n",
    "        \n",
    "        negative_sim = 0\n",
    "        for art1 in A.negative:\n",
    "            for art2 in B.negative:\n",
    "                negative_sim += self.similitudCuadros[art1][art2]\n",
    "        negative_sim /= len(A.negative) if len(A.negative) > len(B.negative) else len(B.negative)\n",
    "        \n",
    "        mixed_sim = 0\n",
    "        for art1 in A.mixed:\n",
    "            for art2 in B.mixed:\n",
    "                mixed_sim += self.similitudCuadros[art1][art2]\n",
    "        mixed_sim /= len(A.mixed) if len(A.mixed) > len(B.mixed) else len(B.mixed)\n",
    "        \n",
    "        return (positive_sim * self.positive_weight) + (negative_sim * self.negative_weight) + (mixed * self.mixed_weight)"
   ]
  },
  {
   "cell_type": "code",
   "execution_count": 151,
   "id": "678d218a-afab-44c7-9690-a934ef966480",
   "metadata": {
    "tags": []
   },
   "outputs": [],
   "source": [
    "class SimilarityArtist(SimilarityFunctionInterface):\n",
    "    \"\"\"Compute similarity between artworks (by artist)\"\"\"\n",
    "    def __init__(self, data_csv=ARTWORKS_CSV):\n",
    "        self.data = pd.read_csv(data_csv)\n",
    "    \n",
    "    def computeSimilarity(self, A, B):\n",
    "        \"\"\"Overrides SimilarityFunctionInterface.computeSimilarity()\"\"\"\n",
    "        return (self.data.loc[aux['wd:paintingID'] == A]['Artist'].to_list()[0] == self.data.loc[aux['wd:paintingID'] == B]['Artist'].to_list()[0])\n",
    "        \n",
    "class SimilarityCategory(SimilarityFunctionInterface):\n",
    "    \"\"\"Compute similarity between artworks (by category)\"\"\"\n",
    "    def __init__(self, data_csv=ARTWORKS_CSV):\n",
    "        self.data = pd.read_csv(data_csv)\n",
    "\n",
    "    def computeSimilarity(self, A, B):\n",
    "        \"\"\"Overrides SimilarityFunctionInterface.computeSimilarity()\"\"\"\n",
    "        return(self.data.loc[aux['wd:paintingID'] == A]['Category'].to_list()[0] == self.data.loc[aux['wd:paintingID'] == B]['Category'].to_list()[0])\n",
    "\n",
    "class SimilarityColors(SimilarityFunctionInterface):\n",
    "    \"\"\"Compute similarity between artworks (by color)\"\"\"\n",
    "    def __init__(self, data_csv=ARTWORKS_CSV, colors_json='data/artworkColors.json'):\n",
    "        with open(colors_json)as f:\n",
    "            self.colors = json.load(f)\n",
    "        \n",
    "    def computeSimilarity(self, A, B):\n",
    "        \"\"\"Overrides SimilarityFunctionInterface.computeSimilarity()\"\"\"\n",
    "        max_a = int(max(self.colors.get(A).get('frequency'), key=self.colors.get(A).get('frequency').get))\n",
    "        max_b = int(max(self.colors.get(B).get('frequency'), key=self.colors.get(B).get('frequency').get))\n",
    "        \n",
    "        rgb_a = self.colors.get(A).get('colors')[max_a]\n",
    "        rgb_b = self.colors.get(B).get('colors')[max_b]\n",
    "        \n",
    "        hsv_a = colorsys.rgb_to_hsv(rgb_a[0], rgb_a[1], rgb_a[2])\n",
    "        hsv_b = colorsys.rgb_to_hsv(rgb_b[0], rgb_b[1], rgb_b[2])\n",
    "        \n",
    "        ### Sacado de año anterior ###\n",
    "        dh = min(abs(hsv_a[0]-hsv_b[0]), 360-abs(hsv_a[0]-hsv_b[0])) / 180.0\n",
    "        ds = abs(hsv_a[1] - hsv_b[1])\n",
    "        dv = abs(hsv_a[2] - hsv_b[2]) / 255.\n",
    "        distance = math.sqrt(dh * dh + ds * ds + dv * dv)\n",
    "        return round(1. - (distance), 2)\n",
    "    \n",
    "######################################################    \n",
    "class SimilarityArtworks(SimilarityFunctionInterface):\n",
    "    \"\"\"Compute similarity between artworks\"\"\"\n",
    "    def __init__(self, artist_weight=0.3, color_weight=0.3, category_weight = 0.4):\n",
    "        self.artist_weight = artist_weight\n",
    "        self.color_weight = color_weight\n",
    "        self.category_weight = category_weight\n",
    "        \n",
    "    def computeSimilarity(self, A, B):\n",
    "        \"\"\"Overrides SimilarityFunctionInterface.computeSimilarity()\"\"\"\n",
    "        artist_sim = SimilarityArtist().computeSimilarity(A, B)\n",
    "        color_sim = SimilarityColors().computeSimilarity(A, B)\n",
    "        cat_sim = SimilarityCategory().computeSimilarity(A,B)\n",
    "        \n",
    "        return (self.artist_weight * artist_sim) + (self.color_weight * color_sim)  + (self.category_weight * cat_sim)\n",
    "######################################################    \n",
    "class SimilarityPerson(SimilarityFunctionInterface):\n",
    "    \"\"\"Compute similarity between artworks\"\"\"\n",
    "    def __init__(self, demog_weight = 0.5, artw_weight = 0.5):\n",
    "        self.demog_weight = demog_weight\n",
    "        self.artw_weight = artw_weight\n",
    "        \n",
    "    def computeSimilarity(self, A, B):\n",
    "        \"\"\"Overrides SimilarityFunctionInterface.computeSimilarity()\"\"\"\n",
    "        demog_sim = SimilarityDemographic().computeSimilarity(A, B)\n",
    "        artw_sim = SimilarityPolarity().computeSimilarity(A, B)                                                \n",
    "        return (self.demog_weight * demog_sim) + (self.artw_weight * artw_sim)"
   ]
  },
  {
   "cell_type": "code",
   "execution_count": 152,
   "id": "4e304466-8a91-41fe-8355-df2ca13cc760",
   "metadata": {},
   "outputs": [
    {
     "data": {
      "text/plain": [
       "0.10200000000000001"
      ]
     },
     "execution_count": 152,
     "metadata": {},
     "output_type": "execute_result"
    }
   ],
   "source": [
    "SimilarityArtworks().computeSimilarity('Q920030', 'Q124362')"
   ]
  },
  {
   "cell_type": "code",
   "execution_count": 153,
   "id": "c385eadb-d812-4a99-9a94-bf2e5437ac6c",
   "metadata": {},
   "outputs": [],
   "source": [
    "similitudCuadros=np.zeros((len(aux),len(aux)))\n",
    "i = 0\n",
    "for a in aux['wd:paintingID']:\n",
    "    j = 0\n",
    "    for b in aux['wd:paintingID']:\n",
    "        similitudCuadros[i][j] = SimilarityArtworks().computeSimilarity(a, b)\n",
    "        j +=1\n",
    "    i+=1"
   ]
  },
  {
   "cell_type": "code",
   "execution_count": 154,
   "id": "6383e3b8-1b17-463a-81a9-06d7b1902866",
   "metadata": {},
   "outputs": [],
   "source": [
    "simCuadros = pd.DataFrame(similitudCuadros, index = [i for i in aux['wd:paintingID']], columns = [i for i in aux['wd:paintingID']])\n",
    "simCuadros.to_csv('data/simCuadros.csv')"
   ]
  },
  {
   "cell_type": "code",
   "execution_count": 155,
   "id": "dc6b886f-fe4f-4a2a-944b-ec64be49ddc1",
   "metadata": {},
   "outputs": [],
   "source": [
    "# class SimilarityDemographic(SimilarityFunctionInterface):\n",
    "#     \"\"\"Compute similarity between people (by demographic)\"\"\"\n",
    "#     def __init__(self, age_index, country_weight=0.3, age_weight=0.5, gender_weight=0.2):\n",
    "#         self.country_weight = country_weight\n",
    "#         self.age_weight = age_weight\n",
    "#         self.gender_weight = gender_weight\n",
    "#         self.age_index = age_index\n",
    "    \n",
    "#     def computeSimilarity(self, A, B):\n",
    "#         \"\"\"Overrides SimilarityFuntionInterface.computeSimilarity()\"\"\"\n",
    "#         country_sim = (A.country == B.country)\n",
    "#         age_sim = 1 - (1 / (self.age_index - 1) * abs(A.age - B.age))\n",
    "#         gender_sim = (A.gender == B.gender)\n",
    "                       \n",
    "#         return (country_sim*self.country_weight) + (age_sim*self.age_weight) + (gender_sim*self.gender_weight)"
   ]
  },
  {
   "cell_type": "code",
   "execution_count": 156,
   "id": "2728db31-95de-4977-98c0-6ee9a59b766a",
   "metadata": {},
   "outputs": [],
   "source": [
    "s = SimilarityDemographic(4)"
   ]
  },
  {
   "cell_type": "code",
   "execution_count": 157,
   "id": "28031161-6e41-482d-9f03-6f147267757b",
   "metadata": {},
   "outputs": [
    {
     "data": {
      "text/html": [
       "<div>\n",
       "<style scoped>\n",
       "    .dataframe tbody tr th:only-of-type {\n",
       "        vertical-align: middle;\n",
       "    }\n",
       "\n",
       "    .dataframe tbody tr th {\n",
       "        vertical-align: top;\n",
       "    }\n",
       "\n",
       "    .dataframe thead th {\n",
       "        text-align: right;\n",
       "    }\n",
       "</style>\n",
       "<table border=\"1\" class=\"dataframe\">\n",
       "  <thead>\n",
       "    <tr style=\"text-align: right;\">\n",
       "      <th></th>\n",
       "      <th>age</th>\n",
       "      <th>gender</th>\n",
       "      <th>country</th>\n",
       "    </tr>\n",
       "  </thead>\n",
       "  <tbody>\n",
       "    <tr>\n",
       "      <th>0</th>\n",
       "      <td>4.107400</td>\n",
       "      <td>2.021723</td>\n",
       "      <td>1.787405</td>\n",
       "    </tr>\n",
       "    <tr>\n",
       "      <th>1</th>\n",
       "      <td>2.347123</td>\n",
       "      <td>0.000000</td>\n",
       "      <td>1.787405</td>\n",
       "    </tr>\n",
       "  </tbody>\n",
       "</table>\n",
       "</div>"
      ],
      "text/plain": [
       "        age    gender   country\n",
       "0  4.107400  2.021723  1.787405\n",
       "1  2.347123  0.000000  1.787405"
      ]
     },
     "execution_count": 157,
     "metadata": {},
     "output_type": "execute_result"
    }
   ],
   "source": [
    "u = pd.DataFrame([[4.1074, 2.021723, 1.787405], [2.347123, 0.000000, 1.787405]], columns=['age', 'gender', 'country'])\n",
    "u"
   ]
  },
  {
   "cell_type": "code",
   "execution_count": 158,
   "id": "0ded1a7f-bfd8-4bc8-8558-4984876cb234",
   "metadata": {},
   "outputs": [
    {
     "data": {
      "text/plain": [
       "pandas.core.series.Series"
      ]
     },
     "execution_count": 158,
     "metadata": {},
     "output_type": "execute_result"
    }
   ],
   "source": [
    "type(u.loc(0)[0])"
   ]
  },
  {
   "cell_type": "code",
   "execution_count": 159,
   "id": "af3cbf5e-2278-465e-94c1-7f8f695c4710",
   "metadata": {},
   "outputs": [
    {
     "data": {
      "text/plain": [
       "0.5066204999999999"
      ]
     },
     "execution_count": 159,
     "metadata": {},
     "output_type": "execute_result"
    }
   ],
   "source": [
    "s.computeSimilarity(u.loc(0)[0], u.loc(0)[1])"
   ]
  },
  {
   "cell_type": "code",
   "execution_count": 160,
   "id": "08a7194e-a421-4ccc-acc2-2a39582e7485",
   "metadata": {},
   "outputs": [],
   "source": [
    "import pandas as pd"
   ]
  },
  {
   "cell_type": "code",
   "execution_count": 161,
   "id": "55ad5c4a-e0d3-4786-b460-a9621d110f43",
   "metadata": {},
   "outputs": [],
   "source": [
    "users = pd.read_csv(\"data/Prado_users_scaled.csv\")"
   ]
  },
  {
   "cell_type": "code",
   "execution_count": 162,
   "id": "73e20862-5d4e-4e17-bd2d-878e8a146a56",
   "metadata": {},
   "outputs": [
    {
     "data": {
      "text/plain": [
       "1.0"
      ]
     },
     "execution_count": 162,
     "metadata": {},
     "output_type": "execute_result"
    }
   ],
   "source": [
    "s.computeSimilarity(users.loc(0)[0], users.loc(0)[0])"
   ]
  },
  {
   "cell_type": "code",
   "execution_count": 163,
   "id": "2a9f16e1-3379-4b01-ac88-9abb9e38ecc7",
   "metadata": {},
   "outputs": [
    {
     "data": {
      "text/html": [
       "<div>\n",
       "<style scoped>\n",
       "    .dataframe tbody tr th:only-of-type {\n",
       "        vertical-align: middle;\n",
       "    }\n",
       "\n",
       "    .dataframe tbody tr th {\n",
       "        vertical-align: top;\n",
       "    }\n",
       "\n",
       "    .dataframe thead th {\n",
       "        text-align: right;\n",
       "    }\n",
       "</style>\n",
       "<table border=\"1\" class=\"dataframe\">\n",
       "  <thead>\n",
       "    <tr style=\"text-align: right;\">\n",
       "      <th></th>\n",
       "      <th>age</th>\n",
       "      <th>gender</th>\n",
       "      <th>country</th>\n",
       "    </tr>\n",
       "  </thead>\n",
       "  <tbody>\n",
       "    <tr>\n",
       "      <th>0</th>\n",
       "      <td>4.107464</td>\n",
       "      <td>2.021723</td>\n",
       "      <td>1.787405</td>\n",
       "    </tr>\n",
       "    <tr>\n",
       "      <th>1</th>\n",
       "      <td>2.347123</td>\n",
       "      <td>0.000000</td>\n",
       "      <td>1.787405</td>\n",
       "    </tr>\n",
       "    <tr>\n",
       "      <th>2</th>\n",
       "      <td>1.760342</td>\n",
       "      <td>0.000000</td>\n",
       "      <td>1.787405</td>\n",
       "    </tr>\n",
       "    <tr>\n",
       "      <th>3</th>\n",
       "      <td>1.760342</td>\n",
       "      <td>0.000000</td>\n",
       "      <td>1.787405</td>\n",
       "    </tr>\n",
       "    <tr>\n",
       "      <th>4</th>\n",
       "      <td>2.933903</td>\n",
       "      <td>2.021723</td>\n",
       "      <td>1.787405</td>\n",
       "    </tr>\n",
       "    <tr>\n",
       "      <th>...</th>\n",
       "      <td>...</td>\n",
       "      <td>...</td>\n",
       "      <td>...</td>\n",
       "    </tr>\n",
       "    <tr>\n",
       "      <th>166</th>\n",
       "      <td>3.520684</td>\n",
       "      <td>2.021723</td>\n",
       "      <td>1.787405</td>\n",
       "    </tr>\n",
       "    <tr>\n",
       "      <th>167</th>\n",
       "      <td>3.520684</td>\n",
       "      <td>2.021723</td>\n",
       "      <td>1.787405</td>\n",
       "    </tr>\n",
       "    <tr>\n",
       "      <th>168</th>\n",
       "      <td>2.347123</td>\n",
       "      <td>0.000000</td>\n",
       "      <td>1.787405</td>\n",
       "    </tr>\n",
       "    <tr>\n",
       "      <th>169</th>\n",
       "      <td>3.520684</td>\n",
       "      <td>2.021723</td>\n",
       "      <td>1.787405</td>\n",
       "    </tr>\n",
       "    <tr>\n",
       "      <th>170</th>\n",
       "      <td>4.107464</td>\n",
       "      <td>2.021723</td>\n",
       "      <td>1.787405</td>\n",
       "    </tr>\n",
       "  </tbody>\n",
       "</table>\n",
       "<p>171 rows × 3 columns</p>\n",
       "</div>"
      ],
      "text/plain": [
       "          age    gender   country\n",
       "0    4.107464  2.021723  1.787405\n",
       "1    2.347123  0.000000  1.787405\n",
       "2    1.760342  0.000000  1.787405\n",
       "3    1.760342  0.000000  1.787405\n",
       "4    2.933903  2.021723  1.787405\n",
       "..        ...       ...       ...\n",
       "166  3.520684  2.021723  1.787405\n",
       "167  3.520684  2.021723  1.787405\n",
       "168  2.347123  0.000000  1.787405\n",
       "169  3.520684  2.021723  1.787405\n",
       "170  4.107464  2.021723  1.787405\n",
       "\n",
       "[171 rows x 3 columns]"
      ]
     },
     "execution_count": 163,
     "metadata": {},
     "output_type": "execute_result"
    }
   ],
   "source": [
    "users_clean = users.drop(columns=\"userId\")\n",
    "users_clean"
   ]
  },
  {
   "cell_type": "code",
   "execution_count": 164,
   "id": "06507abc-7dc6-42f9-861d-bf3247320769",
   "metadata": {},
   "outputs": [
    {
     "data": {
      "text/html": [
       "<div>\n",
       "<style scoped>\n",
       "    .dataframe tbody tr th:only-of-type {\n",
       "        vertical-align: middle;\n",
       "    }\n",
       "\n",
       "    .dataframe tbody tr th {\n",
       "        vertical-align: top;\n",
       "    }\n",
       "\n",
       "    .dataframe thead th {\n",
       "        text-align: right;\n",
       "    }\n",
       "</style>\n",
       "<table border=\"1\" class=\"dataframe\">\n",
       "  <thead>\n",
       "    <tr style=\"text-align: right;\">\n",
       "      <th></th>\n",
       "      <th>age</th>\n",
       "      <th>gender</th>\n",
       "      <th>country</th>\n",
       "      <th>userId</th>\n",
       "    </tr>\n",
       "  </thead>\n",
       "  <tbody>\n",
       "    <tr>\n",
       "      <th>0</th>\n",
       "      <td>4.107464</td>\n",
       "      <td>2.021723</td>\n",
       "      <td>1.787405</td>\n",
       "      <td>1</td>\n",
       "    </tr>\n",
       "    <tr>\n",
       "      <th>1</th>\n",
       "      <td>2.347123</td>\n",
       "      <td>0.000000</td>\n",
       "      <td>1.787405</td>\n",
       "      <td>2</td>\n",
       "    </tr>\n",
       "    <tr>\n",
       "      <th>2</th>\n",
       "      <td>1.760342</td>\n",
       "      <td>0.000000</td>\n",
       "      <td>1.787405</td>\n",
       "      <td>3</td>\n",
       "    </tr>\n",
       "    <tr>\n",
       "      <th>3</th>\n",
       "      <td>1.760342</td>\n",
       "      <td>0.000000</td>\n",
       "      <td>1.787405</td>\n",
       "      <td>4</td>\n",
       "    </tr>\n",
       "    <tr>\n",
       "      <th>4</th>\n",
       "      <td>2.933903</td>\n",
       "      <td>2.021723</td>\n",
       "      <td>1.787405</td>\n",
       "      <td>5</td>\n",
       "    </tr>\n",
       "    <tr>\n",
       "      <th>...</th>\n",
       "      <td>...</td>\n",
       "      <td>...</td>\n",
       "      <td>...</td>\n",
       "      <td>...</td>\n",
       "    </tr>\n",
       "    <tr>\n",
       "      <th>166</th>\n",
       "      <td>3.520684</td>\n",
       "      <td>2.021723</td>\n",
       "      <td>1.787405</td>\n",
       "      <td>298</td>\n",
       "    </tr>\n",
       "    <tr>\n",
       "      <th>167</th>\n",
       "      <td>3.520684</td>\n",
       "      <td>2.021723</td>\n",
       "      <td>1.787405</td>\n",
       "      <td>299</td>\n",
       "    </tr>\n",
       "    <tr>\n",
       "      <th>168</th>\n",
       "      <td>2.347123</td>\n",
       "      <td>0.000000</td>\n",
       "      <td>1.787405</td>\n",
       "      <td>300</td>\n",
       "    </tr>\n",
       "    <tr>\n",
       "      <th>169</th>\n",
       "      <td>3.520684</td>\n",
       "      <td>2.021723</td>\n",
       "      <td>1.787405</td>\n",
       "      <td>301</td>\n",
       "    </tr>\n",
       "    <tr>\n",
       "      <th>170</th>\n",
       "      <td>4.107464</td>\n",
       "      <td>2.021723</td>\n",
       "      <td>1.787405</td>\n",
       "      <td>306</td>\n",
       "    </tr>\n",
       "  </tbody>\n",
       "</table>\n",
       "<p>171 rows × 4 columns</p>\n",
       "</div>"
      ],
      "text/plain": [
       "          age    gender   country  userId\n",
       "0    4.107464  2.021723  1.787405       1\n",
       "1    2.347123  0.000000  1.787405       2\n",
       "2    1.760342  0.000000  1.787405       3\n",
       "3    1.760342  0.000000  1.787405       4\n",
       "4    2.933903  2.021723  1.787405       5\n",
       "..        ...       ...       ...     ...\n",
       "166  3.520684  2.021723  1.787405     298\n",
       "167  3.520684  2.021723  1.787405     299\n",
       "168  2.347123  0.000000  1.787405     300\n",
       "169  3.520684  2.021723  1.787405     301\n",
       "170  4.107464  2.021723  1.787405     306\n",
       "\n",
       "[171 rows x 4 columns]"
      ]
     },
     "execution_count": 164,
     "metadata": {},
     "output_type": "execute_result"
    }
   ],
   "source": [
    "users"
   ]
  },
  {
   "cell_type": "code",
   "execution_count": 165,
   "id": "70c3423b-6bdf-4a58-a488-7ba2abc9757a",
   "metadata": {},
   "outputs": [],
   "source": [
    "users_similarity = []\n",
    "for i in range(0, len(users)):\n",
    "    sim_list = []\n",
    "    for j in range(0, len(users)):\n",
    "        sim = s.computeSimilarity(users_clean.loc(0)[i], users_clean.loc(0)[j])\n",
    "        if(sim >= 0):\n",
    "            sim_list.append(sim)\n",
    "        else:\n",
    "            sim_list.append(0)\n",
    "        \n",
    "    users_similarity.append(sim_list)"
   ]
  },
  {
   "cell_type": "code",
   "execution_count": 166,
   "id": "048a03be-a01e-4b1d-a1d6-906c7b0cbe45",
   "metadata": {},
   "outputs": [],
   "source": [
    "userSim = pd.DataFrame(users_similarity)\n",
    "userSim\n",
    "userSim.to_csv('data/usersSim.csv')"
   ]
  },
  {
   "cell_type": "code",
   "execution_count": 168,
   "id": "e56ca2d9-f34a-4e62-945d-0c871e10af8f",
   "metadata": {},
   "outputs": [
    {
     "data": {
      "text/plain": [
       "1.0"
      ]
     },
     "execution_count": 168,
     "metadata": {},
     "output_type": "execute_result"
    }
   ],
   "source": [
    "s.computeSimilarity(users_clean.loc(0)[3], users_clean.loc(0)[2])"
   ]
  }
 ],
 "metadata": {
  "kernelspec": {
   "display_name": "Python 3 (ipykernel)",
   "language": "python",
   "name": "python3"
  },
  "language_info": {
   "codemirror_mode": {
    "name": "ipython",
    "version": 3
   },
   "file_extension": ".py",
   "mimetype": "text/x-python",
   "name": "python",
   "nbconvert_exporter": "python",
   "pygments_lexer": "ipython3",
   "version": "3.9.5"
  }
 },
 "nbformat": 4,
 "nbformat_minor": 5
}

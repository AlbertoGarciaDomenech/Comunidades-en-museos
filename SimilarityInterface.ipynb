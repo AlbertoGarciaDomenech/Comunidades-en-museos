{
 "cells": [
  {
   "cell_type": "code",
   "execution_count": 1,
   "id": "8b9c600e-5662-4480-ba2c-ca8149c45b32",
   "metadata": {},
   "outputs": [],
   "source": [
    "import pandas as pd\n",
    "from pandas.core.series import Series\n",
    "import abc"
   ]
  },
  {
   "cell_type": "code",
   "execution_count": 3,
   "id": "9f3e61cd-ef89-460b-a74a-5667c979ebc5",
   "metadata": {},
   "outputs": [],
   "source": [
    "class SimilarityFunctionInterface(metaclass=abc.ABCMeta):\n",
    "    \n",
    "    @abc.abstractmethod\n",
    "    def computeSimilarity(self, elem1, elem2) -> float:\n",
    "        \"\"\"Compute similarity between two lists\"\"\"\n",
    "        raise NotImplementedError"
   ]
  },
  {
   "cell_type": "code",
   "execution_count": 13,
   "id": "a9ac0cf7-39f5-4695-917e-c795e0dfdd06",
   "metadata": {},
   "outputs": [],
   "source": [
    "class SimilarityAge(SimilarityFunctionInterface):\n",
    "    \"\"\"Compute similarity between people (by age)\"\"\"\n",
    "    def __init__(self, age_index):\n",
    "        self.age_index = age_index\n",
    "        \n",
    "    def computeSimilarity(self, elem1, elem2):\n",
    "        \"\"\"Overrides SimilarityFuntionInterface.computeSimilarity()\"\"\"\n",
    "        return 1 - (1 / (self.age_index - 1) * abs(elem1 - elem2))\n",
    "    \n",
    "class SimilarityGender(SimilarityFunctionInterface):\n",
    "    \"\"\"Compute similarity between people (by age)\"\"\"\n",
    "        \n",
    "    def computeSimilarity(self, elem1, elem2):\n",
    "        \"\"\"Overrides SimilarityFuntionInterface.computeSimilarity()\"\"\"\n",
    "        return elem1 == elem2\n",
    "    \n",
    "class SimilarityCountry(SimilarityFunctionInterface):\n",
    "    \"\"\"Compute similarity between people (by age)\"\"\"\n",
    "        \n",
    "    def computeSimilarity(self, elem1, elem2):\n",
    "        \"\"\"Overrides SimilarityFuntionInterface.computeSimilarity()\"\"\"\n",
    "        return elem1 == elem2\n",
    "\n",
    "###################################################\n",
    "class SimilarityDemographic(SimilarityFunctionInterface):\n",
    "    \"\"\"Compute similarity between people (by demographic)\"\"\"\n",
    "    def __init__(self, age_index, country_weight=0.3, age_weight=0.5, gender_weight=0.2):\n",
    "        self.country_weight = country_weight\n",
    "        self.age_weight = age_weight\n",
    "        self.gender_weight = gender_weight\n",
    "        self.age_index = age_index\n",
    "    \n",
    "    def computeSimilarity(self, elem1, elem2):\n",
    "        \"\"\"Overrides SimilarityFuntionInterface.computeSimilarity()\"\"\"\n",
    "        country_sim = SimilarityCountry().computeSimilarity(elem1.country, elem2.country)\n",
    "        age_sim = SimilarityAge(self.age_index).computeSimilarity(elem1.age, elem2.age)\n",
    "        gender_sim = SimilarityGender().computeSimilarity(elem1.gender, elem2.gender)\n",
    "                       \n",
    "        return (country_sim*self.country_weight) + (age_sim*self.age_weight) + (gender_sim*self.gender_weight)"
   ]
  },
  {
   "cell_type": "code",
   "execution_count": 45,
   "id": "dc6b886f-fe4f-4a2a-944b-ec64be49ddc1",
   "metadata": {},
   "outputs": [],
   "source": [
    "class SimilarityDemographic(SimilarityFunctionInterface):\n",
    "    \"\"\"Compute similarity between people (by demographic)\"\"\"\n",
    "    def __init__(self, age_index, country_weight=0.3, age_weight=0.5, gender_weight=0.2):\n",
    "        self.country_weight = country_weight\n",
    "        self.age_weight = age_weight\n",
    "        self.gender_weight = gender_weight\n",
    "        self.age_index = age_index\n",
    "    \n",
    "    def computeSimilarity(self, list1, list2):\n",
    "        \"\"\"Overrides SimilarityFuntionInterface.computeSimilarity()\"\"\"\n",
    "        country_sim = (list1.country == list2.country)\n",
    "        age_sim = 1 - (1 / (self.age_index - 1) * abs(list1.age - list2.age))\n",
    "        gender_sim = (list1.gender == list2.gender)\n",
    "                       \n",
    "        return (country_sim*self.country_weight) + (age_sim*self.age_weight) + (gender_sim*self.gender_weight)"
   ]
  },
  {
   "cell_type": "code",
   "execution_count": 14,
   "id": "2728db31-95de-4977-98c0-6ee9a59b766a",
   "metadata": {},
   "outputs": [],
   "source": [
    "s = SimilarityDemographic(4)"
   ]
  },
  {
   "cell_type": "code",
   "execution_count": 15,
   "id": "28031161-6e41-482d-9f03-6f147267757b",
   "metadata": {},
   "outputs": [
    {
     "data": {
      "text/html": [
       "<div>\n",
       "<style scoped>\n",
       "    .dataframe tbody tr th:only-of-type {\n",
       "        vertical-align: middle;\n",
       "    }\n",
       "\n",
       "    .dataframe tbody tr th {\n",
       "        vertical-align: top;\n",
       "    }\n",
       "\n",
       "    .dataframe thead th {\n",
       "        text-align: right;\n",
       "    }\n",
       "</style>\n",
       "<table border=\"1\" class=\"dataframe\">\n",
       "  <thead>\n",
       "    <tr style=\"text-align: right;\">\n",
       "      <th></th>\n",
       "      <th>age</th>\n",
       "      <th>gender</th>\n",
       "      <th>country</th>\n",
       "    </tr>\n",
       "  </thead>\n",
       "  <tbody>\n",
       "    <tr>\n",
       "      <th>0</th>\n",
       "      <td>4.107400</td>\n",
       "      <td>2.021723</td>\n",
       "      <td>1.787405</td>\n",
       "    </tr>\n",
       "    <tr>\n",
       "      <th>1</th>\n",
       "      <td>2.347123</td>\n",
       "      <td>0.000000</td>\n",
       "      <td>1.787405</td>\n",
       "    </tr>\n",
       "  </tbody>\n",
       "</table>\n",
       "</div>"
      ],
      "text/plain": [
       "        age    gender   country\n",
       "0  4.107400  2.021723  1.787405\n",
       "1  2.347123  0.000000  1.787405"
      ]
     },
     "execution_count": 15,
     "metadata": {},
     "output_type": "execute_result"
    }
   ],
   "source": [
    "u = pd.DataFrame([[4.1074, 2.021723, 1.787405], [2.347123, 0.000000, 1.787405]], columns=['age', 'gender', 'country'])\n",
    "u"
   ]
  },
  {
   "cell_type": "code",
   "execution_count": 16,
   "id": "0ded1a7f-bfd8-4bc8-8558-4984876cb234",
   "metadata": {},
   "outputs": [
    {
     "data": {
      "text/plain": [
       "pandas.core.series.Series"
      ]
     },
     "execution_count": 16,
     "metadata": {},
     "output_type": "execute_result"
    }
   ],
   "source": [
    "type(u.loc(0)[0])"
   ]
  },
  {
   "cell_type": "code",
   "execution_count": 17,
   "id": "af3cbf5e-2278-465e-94c1-7f8f695c4710",
   "metadata": {},
   "outputs": [
    {
     "data": {
      "text/plain": [
       "0.5066204999999999"
      ]
     },
     "execution_count": 17,
     "metadata": {},
     "output_type": "execute_result"
    }
   ],
   "source": [
    "s.computeSimilarity(u.loc(0)[0], u.loc(0)[1])"
   ]
  }
 ],
 "metadata": {
  "kernelspec": {
   "display_name": "Python 3 (ipykernel)",
   "language": "python",
   "name": "python3"
  },
  "language_info": {
   "codemirror_mode": {
    "name": "ipython",
    "version": 3
   },
   "file_extension": ".py",
   "mimetype": "text/x-python",
   "name": "python",
   "nbconvert_exporter": "python",
   "pygments_lexer": "ipython3",
   "version": "3.9.7"
  }
 },
 "nbformat": 4,
 "nbformat_minor": 5
}

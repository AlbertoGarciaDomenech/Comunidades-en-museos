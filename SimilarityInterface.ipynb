{
 "cells": [
  {
   "cell_type": "code",
   "execution_count": 1,
   "id": "8b9c600e-5662-4480-ba2c-ca8149c45b32",
   "metadata": {
    "tags": []
   },
   "outputs": [],
   "source": [
    "import pandas as pd\n",
    "import numpy as np\n",
    "from pandas.core.series import Series\n",
    "import abc\n",
    "import json\n",
    "import colorsys\n",
    "import math"
   ]
  },
  {
   "cell_type": "code",
   "execution_count": 2,
   "id": "ebc7646d-0a22-465f-b2b8-a995dd1075ec",
   "metadata": {},
   "outputs": [],
   "source": [
    "USERS_CSV = 'data/Prado_users.csv'\n",
    "USERS_SCALED_CSV = 'data/Prado_users_scaled.csv'\n",
    "ARTWORKS_CSV = 'data/Prado_artworks_wikidata.csv'\n",
    "\n",
    "USERS_EMOTIONS_CSV = 'data/Prado_users_emotions.csv'\n",
    "USERS_EMOTIONS_SCALED_CSV = 'data/Prado_users_emotions_scaled.csv'"
   ]
  },
  {
   "cell_type": "code",
   "execution_count": 3,
   "id": "9f3e61cd-ef89-460b-a74a-5667c979ebc5",
   "metadata": {},
   "outputs": [],
   "source": [
    "class SimilarityFunctionInterface(metaclass=abc.ABCMeta):\n",
    "    \n",
    "    @abc.abstractmethod\n",
    "    def computeSimilarity(self, A, B) -> float:\n",
    "        \"\"\"Compute similarity between two lists\"\"\"\n",
    "        raise NotImplementedError()"
   ]
  },
  {
   "cell_type": "code",
   "execution_count": 97,
   "id": "ea5dd7ef-8e5a-43e8-af2a-cdf2a72e62af",
   "metadata": {},
   "outputs": [],
   "source": [
    "class SimilarityAge(SimilarityFunctionInterface):\n",
    "    \"\"\"Compute similarity between users (by age)\"\"\"\n",
    "    def __init__(self, age_index, data_csv=USERS_EMOTIONS_SCALED_CSV):\n",
    "        self.age_index = age_index\n",
    "        self.data = pd.read_csv(data_csv)\n",
    "        \n",
    "    def computeSimilarity(self, A, B):\n",
    "        \"\"\"Overrides SimilarityFuntionInterface.computeSimilarity()\"\"\"\n",
    "        ageA = self.data.loc[self.data['userId'] == A]['age'].to_list()[0]\n",
    "        ageB = self.data.loc[self.data['userId'] == B]['age'].to_list()[0]\n",
    "        return 1 - (1 / (self.age_index - 1) * abs(ageA - ageB))\n",
    "    \n",
    "class SimilarityGender(SimilarityFunctionInterface):\n",
    "    \"\"\"Compute similarity between users (by age)\"\"\"\n",
    "    def __init__(self, data_csv=USERS_EMOTIONS_SCALED_CSV):\n",
    "        self.data = pd.read_csv(data_csv)\n",
    "      \n",
    "    def computeSimilarity(self, A, B):\n",
    "        \"\"\"Overrides SimilarityFuntionInterface.computeSimilarity()\"\"\"\n",
    "        genderA = self.data.loc[self.data['userId'] == A]['gender'].to_list()[0]\n",
    "        genderB = self.data.loc[self.data['userId'] == B]['gender'].to_list()[0]\n",
    "        return genderA == genderB\n",
    "    \n",
    "class SimilarityCountry(SimilarityFunctionInterface):\n",
    "    \"\"\"Compute similarity between users (by age)\"\"\"\n",
    "    def __init__(self, data_csv=USERS_EMOTIONS_SCALED_CSV):\n",
    "        self.data = pd.read_csv(data_csv)\n",
    "        \n",
    "    def computeSimilarity(self, A, B):\n",
    "        \"\"\"Overrides SimilarityFuntionInterface.computeSimilarity()\"\"\"\n",
    "        countryA = self.data.loc[self.data['userId'] == A]['country'].to_list()[0]\n",
    "        countryB = self.data.loc[self.data['userId'] == B]['country'].to_list()[0]\n",
    "        return countryA == countryB\n",
    "\n",
    "###################################################\n",
    "class SimilarityDemographic(SimilarityFunctionInterface):\n",
    "    \"\"\"Compute similarity between users (by demographic)\"\"\"\n",
    "    def __init__(self, age_index, country_weight=0.3, age_weight=0.5, gender_weight=0.2, data_csv=USERS_EMOTIONS_SCALED_CSV):\n",
    "        self.country_weight = country_weight\n",
    "        self.age_weight = age_weight\n",
    "        self.gender_weight = gender_weight\n",
    "        self.age_index = age_index\n",
    "        self.data = pd.read_csv(data_csv)\n",
    "    \n",
    "    def computeSimilarity(self, A, B):\n",
    "        \"\"\"Overrides SimilarityFuntionInterface.computeSimilarity()\"\"\"\n",
    "        country_sim = SimilarityCountry().computeSimilarity(A, B)\n",
    "        age_sim = SimilarityAge(self.age_index).computeSimilarity(A, B)\n",
    "        gender_sim = SimilarityGender().computeSimilarity(A, B)\n",
    "                       \n",
    "        return (country_sim*self.country_weight) + (age_sim*self.age_weight) + (gender_sim*self.gender_weight)\n",
    "    \n",
    "######################################################    \n",
    "class SimilarityPolarity(SimilarityFunctionInterface):\n",
    "    \"\"\"Compute similarity between users (by artwork tastes)\"\"\"\n",
    "    def __init__(self, artworks_sim, positive_weight=0.4, negative_weight=0.4, mixed_weight=0.2, data_csv=USERS_EMOTIONS_SCALED_CSV):\n",
    "        self.positive_weight = positive_weight\n",
    "        self.negative_weight = negative_weight\n",
    "        self.mixed_weight = mixed_weight\n",
    "        self.artworks_sim = artworks_sim\n",
    "        self.data = pd.read_csv(data_csv)\n",
    "        \n",
    "    def computeSimilarity(self, A, B):\n",
    "        \"\"\"Overrides SimilarityFunctionInterface.computeSimilarity()\"\"\"\n",
    "        positiveA = self.data.loc[self.data['userId'] == A]['positive'].apply(eval).to_list()[0]\n",
    "        positiveB = self.data.loc[self.data['userId'] == B]['positive'].apply(eval).to_list()[0]\n",
    "        negativeA = self.data.loc[self.data['userId'] == A]['negative'].apply(eval).to_list()[0]\n",
    "        negativeB = self.data.loc[self.data['userId'] == B]['negative'].apply(eval).to_list()[0]\n",
    "        mixedA = self.data.loc[self.data['userId'] == A]['mixed'].apply(eval).to_list()[0]\n",
    "        mixedB = self.data.loc[self.data['userId'] == B]['mixed'].apply(eval).to_list()[0]\n",
    "        \n",
    "        positive_sim = 0\n",
    "        i = 0\n",
    "        for art1 in positiveA:\n",
    "            for art2 in positiveB:\n",
    "                positive_sim += self.artworks_sim[art1][art2]\n",
    "                i += 1\n",
    "        positive_sim /= i if i > 0 else 1\n",
    "        \n",
    "        negative_sim = 0\n",
    "        i = 0\n",
    "        for art1 in negativeA:\n",
    "            for art2 in negativeB:\n",
    "                negative_sim += self.artworks_sim[art1][art2]\n",
    "                i += 1\n",
    "        negative_sim /= i if i > 0 else 1\n",
    "        \n",
    "        mixed_sim = 0\n",
    "        i = 0\n",
    "        for art1 in mixedA:\n",
    "            for art2 in mixedB:\n",
    "                mixed_sim += self.artworks_sim[art1][art2]\n",
    "                i += 1\n",
    "        mixed_sim /= i if i > 0 else 1\n",
    "        \n",
    "        return (positive_sim * self.positive_weight) + (negative_sim * self.negative_weight) + (mixed_sim * self.mixed_weight)\n",
    "    \n",
    "######################################################    \n",
    "class SimilarityUsers(SimilarityFunctionInterface):\n",
    "    \"\"\"Compute similarity between users\"\"\"\n",
    "    def __init__(self, age_index, artworks_sim, demog_weight = 0.5, artw_weight = 0.5):\n",
    "        self.demog_weight = demog_weight\n",
    "        self.artw_weight = artw_weight\n",
    "        self.age_index = age_index\n",
    "        self.artworks_sim = artworks_sim\n",
    "        \n",
    "    def computeSimilarity(self, A, B):\n",
    "        \"\"\"Overrides SimilarityFunctionInterface.computeSimilarity()\"\"\"\n",
    "        demog_sim = SimilarityDemographic(self.age_index).computeSimilarity(A, B)\n",
    "        artw_sim = SimilarityPolarity(self.artworks_sim).computeSimilarity(A, B)                                                \n",
    "        return (self.demog_weight * demog_sim) + (self.artw_weight * artw_sim)"
   ]
  },
  {
   "cell_type": "code",
   "execution_count": 98,
   "id": "678d218a-afab-44c7-9690-a934ef966480",
   "metadata": {
    "tags": []
   },
   "outputs": [],
   "source": [
    "class SimilarityArtist(SimilarityFunctionInterface):\n",
    "    \"\"\"Compute similarity between artworks (by artist)\"\"\"\n",
    "    def __init__(self, data_csv=ARTWORKS_CSV):\n",
    "        self.data = pd.read_csv(data_csv)\n",
    "    \n",
    "    def computeSimilarity(self, A, B):\n",
    "        \"\"\"Overrides SimilarityFunctionInterface.computeSimilarity()\"\"\"\n",
    "        return (self.data.loc[self.data['ID'] == A]['Artist'].to_list()[0] == self.data.loc[self.data['ID'] == B]['Artist'].to_list()[0])\n",
    "        \n",
    "class SimilarityCategory(SimilarityFunctionInterface):\n",
    "    \"\"\"Compute similarity between artworks (by category)\"\"\"\n",
    "    def __init__(self, data_csv=ARTWORKS_CSV):\n",
    "        self.data = pd.read_csv(data_csv)\n",
    "\n",
    "    def computeSimilarity(self, A, B):\n",
    "        \"\"\"Overrides SimilarityFunctionInterface.computeSimilarity()\"\"\"\n",
    "        return(self.data.loc[self.data['ID'] == A]['Category'].to_list()[0] == self.data.loc[self.data['ID'] == B]['Category'].to_list()[0])\n",
    "\n",
    "class SimilarityColors(SimilarityFunctionInterface):\n",
    "    \"\"\"Compute similarity between artworks (by color)\"\"\"\n",
    "    def __init__(self, data_csv=ARTWORKS_CSV, colors_json='data/artworkColors.json'):\n",
    "        with open(colors_json)as f:\n",
    "            self.colors = json.load(f)\n",
    "            self.data = pd.read_csv(data_csv) \n",
    "        \n",
    "    def computeSimilarity(self, A, B):\n",
    "        \"\"\"Overrides SimilarityFunctionInterface.computeSimilarity()\"\"\"\n",
    "        A = list(self.data[self.data['ID'] == A]['wd:paintingID'])[0]\n",
    "        B = list(self.data[self.data['ID'] == B]['wd:paintingID'])[0]\n",
    "        max_a = int(max(self.colors.get(A).get('frequency'), key=self.colors.get(A).get('frequency').get))\n",
    "        max_b = int(max(self.colors.get(B).get('frequency'), key=self.colors.get(B).get('frequency').get))\n",
    "        \n",
    "        rgb_a = self.colors.get(A).get('colors')[max_a]\n",
    "        rgb_b = self.colors.get(B).get('colors')[max_b]\n",
    "        \n",
    "        hsv_a = colorsys.rgb_to_hsv(rgb_a[0], rgb_a[1], rgb_a[2])\n",
    "        hsv_b = colorsys.rgb_to_hsv(rgb_b[0], rgb_b[1], rgb_b[2])\n",
    "        \n",
    "        ### Sacado de año anterior ###\n",
    "        dh = min(abs(hsv_a[0]-hsv_b[0]), 360-abs(hsv_a[0]-hsv_b[0])) / 180.0\n",
    "        ds = abs(hsv_a[1] - hsv_b[1])\n",
    "        dv = abs(hsv_a[2] - hsv_b[2]) / 255.\n",
    "        distance = math.sqrt(dh * dh + ds * ds + dv * dv)\n",
    "        return round(1. - (distance), 2)\n",
    "    \n",
    "######################################################    \n",
    "class SimilarityArtworks(SimilarityFunctionInterface):\n",
    "    \"\"\"Compute similarity between artworks\"\"\"\n",
    "    def __init__(self, artist_weight=0.3, color_weight=0.3, category_weight = 0.4):\n",
    "        self.artist_weight = artist_weight\n",
    "        self.color_weight = color_weight\n",
    "        self.category_weight = category_weight\n",
    "        \n",
    "    def computeSimilarity(self, A, B):\n",
    "        \"\"\"Overrides SimilarityFunctionInterface.computeSimilarity()\"\"\"\n",
    "        artist_sim = SimilarityArtist().computeSimilarity(A, B)\n",
    "        color_sim = SimilarityColors().computeSimilarity(A, B)\n",
    "        cat_sim = SimilarityCategory().computeSimilarity(A,B)\n",
    "        \n",
    "        return (self.artist_weight * artist_sim) + (self.color_weight * color_sim)  + (self.category_weight * cat_sim)"
   ]
  },
  {
   "cell_type": "code",
   "execution_count": 99,
   "id": "fac42c7f-7ade-4b52-b985-a1f6b537a5dc",
   "metadata": {},
   "outputs": [
    {
     "data": {
      "text/plain": [
       "0.88"
      ]
     },
     "execution_count": 99,
     "metadata": {},
     "output_type": "execute_result"
    }
   ],
   "source": [
    "SimilarityArtworks().computeSimilarity('57726f48edc2cb3880ba012f', '57726f56edc2cb3880ba7233')"
   ]
  },
  {
   "cell_type": "code",
   "execution_count": 100,
   "id": "b94ef8f4-108f-4771-8c29-32c63fc40add",
   "metadata": {},
   "outputs": [
    {
     "data": {
      "text/plain": [
       "0.41624931509712826"
      ]
     },
     "execution_count": 100,
     "metadata": {},
     "output_type": "execute_result"
    }
   ],
   "source": [
    "SimilarityUsers(age_index=9, artworks_sim=simCuadros).computeSimilarity(1, 2)"
   ]
  },
  {
   "cell_type": "code",
   "execution_count": 11,
   "id": "c385eadb-d812-4a99-9a94-bf2e5437ac6c",
   "metadata": {},
   "outputs": [],
   "source": [
    "aux = pd.read_csv(ARTWORKS_CSV)\n",
    "\n",
    "similitudCuadros=np.zeros((len(aux),len(aux)))\n",
    "i = 0\n",
    "for a in aux['ID']:\n",
    "    j = 0\n",
    "    for b in aux['ID']:\n",
    "        similitudCuadros[i][j] = SimilarityArtworks().computeSimilarity(a, b)\n",
    "        j +=1\n",
    "    i+=1"
   ]
  },
  {
   "cell_type": "code",
   "execution_count": 12,
   "id": "6383e3b8-1b17-463a-81a9-06d7b1902866",
   "metadata": {},
   "outputs": [],
   "source": [
    "simCuadros = pd.DataFrame(similitudCuadros, index = [i for i in aux['ID']], columns = [i for i in aux['ID']])\n",
    "simCuadros.to_csv('data/simCuadros.csv')"
   ]
  },
  {
   "cell_type": "code",
   "execution_count": 20,
   "id": "dc6b886f-fe4f-4a2a-944b-ec64be49ddc1",
   "metadata": {},
   "outputs": [],
   "source": [
    "# class SimilarityDemographic(SimilarityFunctionInterface):\n",
    "#     \"\"\"Compute similarity between people (by demographic)\"\"\"\n",
    "#     def __init__(self, age_index, country_weight=0.3, age_weight=0.5, gender_weight=0.2):\n",
    "#         self.country_weight = country_weight\n",
    "#         self.age_weight = age_weight\n",
    "#         self.gender_weight = gender_weight\n",
    "#         self.age_index = age_index\n",
    "    \n",
    "#     def computeSimilarity(self, A, B):\n",
    "#         \"\"\"Overrides SimilarityFuntionInterface.computeSimilarity()\"\"\"\n",
    "#         country_sim = (A.country == B.country)\n",
    "#         age_sim = 1 - (1 / (self.age_index - 1) * abs(A.age - B.age))\n",
    "#         gender_sim = (A.gender == B.gender)\n",
    "                       \n",
    "#         return (country_sim*self.country_weight) + (age_sim*self.age_weight) + (gender_sim*self.gender_weight)"
   ]
  },
  {
   "cell_type": "code",
   "execution_count": 21,
   "id": "2728db31-95de-4977-98c0-6ee9a59b766a",
   "metadata": {},
   "outputs": [],
   "source": [
    "s = SimilarityDemographic(4)"
   ]
  },
  {
   "cell_type": "code",
   "execution_count": 22,
   "id": "28031161-6e41-482d-9f03-6f147267757b",
   "metadata": {},
   "outputs": [
    {
     "data": {
      "text/html": [
       "<div>\n",
       "<style scoped>\n",
       "    .dataframe tbody tr th:only-of-type {\n",
       "        vertical-align: middle;\n",
       "    }\n",
       "\n",
       "    .dataframe tbody tr th {\n",
       "        vertical-align: top;\n",
       "    }\n",
       "\n",
       "    .dataframe thead th {\n",
       "        text-align: right;\n",
       "    }\n",
       "</style>\n",
       "<table border=\"1\" class=\"dataframe\">\n",
       "  <thead>\n",
       "    <tr style=\"text-align: right;\">\n",
       "      <th></th>\n",
       "      <th>age</th>\n",
       "      <th>gender</th>\n",
       "      <th>country</th>\n",
       "    </tr>\n",
       "  </thead>\n",
       "  <tbody>\n",
       "    <tr>\n",
       "      <th>0</th>\n",
       "      <td>4.107400</td>\n",
       "      <td>2.021723</td>\n",
       "      <td>1.787405</td>\n",
       "    </tr>\n",
       "    <tr>\n",
       "      <th>1</th>\n",
       "      <td>2.347123</td>\n",
       "      <td>0.000000</td>\n",
       "      <td>1.787405</td>\n",
       "    </tr>\n",
       "  </tbody>\n",
       "</table>\n",
       "</div>"
      ],
      "text/plain": [
       "        age    gender   country\n",
       "0  4.107400  2.021723  1.787405\n",
       "1  2.347123  0.000000  1.787405"
      ]
     },
     "execution_count": 22,
     "metadata": {},
     "output_type": "execute_result"
    }
   ],
   "source": [
    "u = pd.DataFrame([[4.1074, 2.021723, 1.787405], [2.347123, 0.000000, 1.787405]], columns=['age', 'gender', 'country'])\n",
    "u"
   ]
  },
  {
   "cell_type": "code",
   "execution_count": 23,
   "id": "0ded1a7f-bfd8-4bc8-8558-4984876cb234",
   "metadata": {},
   "outputs": [
    {
     "data": {
      "text/plain": [
       "pandas.core.series.Series"
      ]
     },
     "execution_count": 23,
     "metadata": {},
     "output_type": "execute_result"
    }
   ],
   "source": [
    "type(u.loc(0)[0])"
   ]
  },
  {
   "cell_type": "code",
   "execution_count": 24,
   "id": "af3cbf5e-2278-465e-94c1-7f8f695c4710",
   "metadata": {},
   "outputs": [
    {
     "data": {
      "text/plain": [
       "0.5066204999999999"
      ]
     },
     "execution_count": 24,
     "metadata": {},
     "output_type": "execute_result"
    }
   ],
   "source": [
    "s.computeSimilarity(u.loc(0)[0], u.loc(0)[1])"
   ]
  },
  {
   "cell_type": "code",
   "execution_count": 25,
   "id": "08a7194e-a421-4ccc-acc2-2a39582e7485",
   "metadata": {},
   "outputs": [],
   "source": [
    "import pandas as pd"
   ]
  },
  {
   "cell_type": "code",
   "execution_count": 26,
   "id": "55ad5c4a-e0d3-4786-b460-a9621d110f43",
   "metadata": {},
   "outputs": [],
   "source": [
    "users = pd.read_csv(\"data/Prado_users_emotions_scaled.csv\")\n",
    "users['positive'] = users['positive'].apply(eval)\n",
    "users['negative'] = users['negative'].apply(eval)\n",
    "users['mixed'] = users['mixed'].apply(eval)"
   ]
  },
  {
   "cell_type": "code",
   "execution_count": 27,
   "id": "5c7696dd-9e03-4d1f-b4b3-ba9181cf0674",
   "metadata": {},
   "outputs": [
    {
     "data": {
      "text/plain": [
       "age                                                  4.107464\n",
       "gender                                               2.021723\n",
       "country                                              1.787405\n",
       "userId                                                      1\n",
       "positive    [57726f4cedc2cb3880ba07ed, 57726f4cedc2cb3880b...\n",
       "negative    [577278d5edc2cb3880d94196, 57727015edc2cb3880b...\n",
       "mixed       [5772700eedc2cb3880bc82ce, 5772700eedc2cb3880b...\n",
       "Name: 0, dtype: object"
      ]
     },
     "execution_count": 27,
     "metadata": {},
     "output_type": "execute_result"
    }
   ],
   "source": [
    "users.loc(0)[0]"
   ]
  },
  {
   "cell_type": "code",
   "execution_count": 46,
   "id": "70c3423b-6bdf-4a58-a488-7ba2abc9757a",
   "metadata": {
    "tags": []
   },
   "outputs": [
    {
     "ename": "TypeError",
     "evalue": "object of type 'SimilarityUsers' has no len()",
     "output_type": "error",
     "traceback": [
      "\u001b[1;31m---------------------------------------------------------------------------\u001b[0m",
      "\u001b[1;31mTypeError\u001b[0m                                 Traceback (most recent call last)",
      "\u001b[1;32m~\\AppData\\Local\\Temp/ipykernel_13140/3040470399.py\u001b[0m in \u001b[0;36m<module>\u001b[1;34m\u001b[0m\n\u001b[0;32m      2\u001b[0m \u001b[0musers_similarity\u001b[0m \u001b[1;33m=\u001b[0m \u001b[1;33m[\u001b[0m\u001b[1;33m]\u001b[0m\u001b[1;33m\u001b[0m\u001b[1;33m\u001b[0m\u001b[0m\n\u001b[0;32m      3\u001b[0m \u001b[1;33m\u001b[0m\u001b[0m\n\u001b[1;32m----> 4\u001b[1;33m \u001b[1;32mfor\u001b[0m \u001b[0mi\u001b[0m \u001b[1;32min\u001b[0m \u001b[0mrange\u001b[0m\u001b[1;33m(\u001b[0m\u001b[1;36m0\u001b[0m\u001b[1;33m,\u001b[0m \u001b[0mlen\u001b[0m\u001b[1;33m(\u001b[0m\u001b[0ms\u001b[0m\u001b[1;33m)\u001b[0m\u001b[1;33m)\u001b[0m\u001b[1;33m:\u001b[0m\u001b[1;33m\u001b[0m\u001b[1;33m\u001b[0m\u001b[0m\n\u001b[0m\u001b[0;32m      5\u001b[0m     \u001b[0msim_list\u001b[0m \u001b[1;33m=\u001b[0m \u001b[1;33m[\u001b[0m\u001b[1;33m]\u001b[0m\u001b[1;33m\u001b[0m\u001b[1;33m\u001b[0m\u001b[0m\n\u001b[0;32m      6\u001b[0m     \u001b[1;32mfor\u001b[0m \u001b[0mj\u001b[0m \u001b[1;32min\u001b[0m \u001b[0mrange\u001b[0m\u001b[1;33m(\u001b[0m\u001b[1;36m0\u001b[0m\u001b[1;33m,\u001b[0m \u001b[0mlen\u001b[0m\u001b[1;33m(\u001b[0m\u001b[0ms\u001b[0m\u001b[1;33m)\u001b[0m\u001b[1;33m)\u001b[0m\u001b[1;33m:\u001b[0m\u001b[1;33m\u001b[0m\u001b[1;33m\u001b[0m\u001b[0m\n",
      "\u001b[1;31mTypeError\u001b[0m: object of type 'SimilarityUsers' has no len()"
     ]
    }
   ],
   "source": [
    "s = SimilarityUsers(age_index = 9, artworks_sim = simCuadros)\n",
    "users_similarity = []\n",
    "\n",
    "for i in range(0, len(users)):\n",
    "    sim_list = []\n",
    "    for j in range(0, len(users)):\n",
    "        sim = s.computeSimilarity(users.loc(0)[i], users.loc(0)[j])\n",
    "        if(sim >= 0):\n",
    "            sim_list.append(sim)\n",
    "        else:\n",
    "            sim_list.append(0)\n",
    "        \n",
    "    users_similarity.append(sim_list)"
   ]
  },
  {
   "cell_type": "code",
   "execution_count": 29,
   "id": "048a03be-a01e-4b1d-a1d6-906c7b0cbe45",
   "metadata": {},
   "outputs": [],
   "source": [
    "userSim = pd.DataFrame(users_similarity)\n",
    "userSim\n",
    "userSim.to_csv('data/usersSim.csv')"
   ]
  },
  {
   "cell_type": "code",
   "execution_count": 30,
   "id": "e56ca2d9-f34a-4e62-945d-0c871e10af8f",
   "metadata": {},
   "outputs": [
    {
     "ename": "NameError",
     "evalue": "name 'users_clean' is not defined",
     "output_type": "error",
     "traceback": [
      "\u001b[1;31m---------------------------------------------------------------------------\u001b[0m",
      "\u001b[1;31mNameError\u001b[0m                                 Traceback (most recent call last)",
      "\u001b[1;32m~\\AppData\\Local\\Temp/ipykernel_8976/3127911775.py\u001b[0m in \u001b[0;36m<module>\u001b[1;34m\u001b[0m\n\u001b[1;32m----> 1\u001b[1;33m \u001b[0ms\u001b[0m\u001b[1;33m.\u001b[0m\u001b[0mcomputeSimilarity\u001b[0m\u001b[1;33m(\u001b[0m\u001b[0musers_clean\u001b[0m\u001b[1;33m.\u001b[0m\u001b[0mloc\u001b[0m\u001b[1;33m(\u001b[0m\u001b[1;36m0\u001b[0m\u001b[1;33m)\u001b[0m\u001b[1;33m[\u001b[0m\u001b[1;36m3\u001b[0m\u001b[1;33m]\u001b[0m\u001b[1;33m,\u001b[0m \u001b[0musers_clean\u001b[0m\u001b[1;33m.\u001b[0m\u001b[0mloc\u001b[0m\u001b[1;33m(\u001b[0m\u001b[1;36m0\u001b[0m\u001b[1;33m)\u001b[0m\u001b[1;33m[\u001b[0m\u001b[1;36m2\u001b[0m\u001b[1;33m]\u001b[0m\u001b[1;33m)\u001b[0m\u001b[1;33m\u001b[0m\u001b[1;33m\u001b[0m\u001b[0m\n\u001b[0m",
      "\u001b[1;31mNameError\u001b[0m: name 'users_clean' is not defined"
     ]
    }
   ],
   "source": [
    "s.computeSimilarity(users_clean.loc(0)[3], users_clean.loc(0)[2])"
   ]
  }
 ],
 "metadata": {
  "kernelspec": {
   "display_name": "Python 3 (ipykernel)",
   "language": "python",
   "name": "python3"
  },
  "language_info": {
   "codemirror_mode": {
    "name": "ipython",
    "version": 3
   },
   "file_extension": ".py",
   "mimetype": "text/x-python",
   "name": "python",
   "nbconvert_exporter": "python",
   "pygments_lexer": "ipython3",
   "version": "3.9.7"
  }
 },
 "nbformat": 4,
 "nbformat_minor": 5
}

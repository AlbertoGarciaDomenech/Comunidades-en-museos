{
 "cells": [
  {
   "cell_type": "code",
   "execution_count": 86,
   "id": "8b9c600e-5662-4480-ba2c-ca8149c45b32",
   "metadata": {
    "tags": []
   },
   "outputs": [],
   "source": [
    "import pandas as pd\n",
    "import numpy as np\n",
    "from pandas.core.series import Series\n",
    "import abc\n",
    "import json\n",
    "import colorsys\n",
    "import math"
   ]
  },
  {
   "cell_type": "code",
   "execution_count": 87,
   "id": "ebc7646d-0a22-465f-b2b8-a995dd1075ec",
   "metadata": {},
   "outputs": [],
   "source": [
    "USERS_CSV = 'data/Prado_users.csv'\n",
    "USERS_SCALED_CSV = 'data/Prado_users_scaled.csv'\n",
    "ARTWORKS_CSV = 'data/Prado_artworks_wikidata.csv'"
   ]
  },
  {
   "cell_type": "code",
   "execution_count": 88,
   "id": "d92a60b8-7c8a-4733-a03a-ee3c020d9fde",
   "metadata": {},
   "outputs": [
    {
     "name": "stdout",
     "output_type": "stream",
     "text": [
      "Francisco Goya\n",
      "Francisco Goya\n"
     ]
    },
    {
     "data": {
      "text/plain": [
       "True"
      ]
     },
     "execution_count": 88,
     "metadata": {},
     "output_type": "execute_result"
    }
   ],
   "source": [
    "aux = pd.read_csv(ARTWORKS_CSV)[['wd:paintingID', 'Artist', 'Category']] \n",
    "print(aux.loc[aux['wd:paintingID']=='Q920030']['Artist'].to_list()[0])\n",
    "print(aux.loc[aux['wd:paintingID']=='Q952796']['Artist'].to_list()[0])\n",
    "\n",
    "(aux.loc[aux['wd:paintingID']=='Q920030']['Artist'].to_list()[0]) == (aux.loc[aux['wd:paintingID']=='Q952796']['Artist'].to_list()[0])"
   ]
  },
  {
   "cell_type": "code",
   "execution_count": 89,
   "id": "9f3e61cd-ef89-460b-a74a-5667c979ebc5",
   "metadata": {},
   "outputs": [],
   "source": [
    "class SimilarityFunctionInterface(metaclass=abc.ABCMeta):\n",
    "    \n",
    "    @abc.abstractmethod\n",
    "    def computeSimilarity(self, A, B) -> float:\n",
    "        \"\"\"Compute similarity between two lists\"\"\"\n",
    "        raise NotImplementedError()"
   ]
  },
  {
   "cell_type": "code",
   "execution_count": 90,
   "id": "ea5dd7ef-8e5a-43e8-af2a-cdf2a72e62af",
   "metadata": {},
   "outputs": [],
   "source": [
    "class SimilarityAge(SimilarityFunctionInterface):\n",
    "    \"\"\"Compute similarity between people (by age)\"\"\"\n",
    "    def __init__(self, age_index):\n",
    "        self.age_index = age_index\n",
    "        \n",
    "    def computeSimilarity(self, A, B):\n",
    "        \"\"\"Overrides SimilarityFuntionInterface.computeSimilarity()\"\"\"\n",
    "        return 1 - (1 / (self.age_index - 1) * abs(A - B))\n",
    "    \n",
    "class SimilarityGender(SimilarityFunctionInterface):\n",
    "    \"\"\"Compute similarity between people (by age)\"\"\"\n",
    "        \n",
    "    def computeSimilarity(self, A, B):\n",
    "        \"\"\"Overrides SimilarityFuntionInterface.computeSimilarity()\"\"\"\n",
    "        return A == B\n",
    "    \n",
    "class SimilarityCountry(SimilarityFunctionInterface):\n",
    "    \"\"\"Compute similarity between people (by age)\"\"\"\n",
    "        \n",
    "    def computeSimilarity(self, A, B):\n",
    "        \"\"\"Overrides SimilarityFuntionInterface.computeSimilarity()\"\"\"\n",
    "        return A == B\n",
    "\n",
    "###################################################\n",
    "class SimilarityDemographic(SimilarityFunctionInterface):\n",
    "    \"\"\"Compute similarity between people (by demographic)\"\"\"\n",
    "    def __init__(self, age_index, country_weight=0.3, age_weight=0.5, gender_weight=0.2):\n",
    "        self.country_weight = country_weight\n",
    "        self.age_weight = age_weight\n",
    "        self.gender_weight = gender_weight\n",
    "        self.age_index = age_index\n",
    "    \n",
    "    def computeSimilarity(self, A, B):\n",
    "        \"\"\"Overrides SimilarityFuntionInterface.computeSimilarity()\"\"\"\n",
    "        country_sim = SimilarityCountry().computeSimilarity(A.country, B.country)\n",
    "        age_sim = SimilarityAge(self.age_index).computeSimilarity(A.age, B.age)\n",
    "        gender_sim = SimilarityGender().computeSimilarity(A.gender, B.gender)\n",
    "                       \n",
    "        return (country_sim*self.country_weight) + (age_sim*self.age_weight) + (gender_sim*self.gender_weight)\n",
    "    \n",
    "######################################################    \n",
    "class SimilarityPolarity(SimilarityFunctionInterface):\n",
    "    \"\"\"Compute similarity between people (by artwork tastes)\"\"\"\n",
    "    def __init__(self, artworks_sim, positive_weight=0.4, negative_weight=0.4, mixed_weight=0.2):\n",
    "        self.positive_weight = positive_weight\n",
    "        self.negative_weight = negative_weight\n",
    "        self.mixed_weight = mixed_weight\n",
    "        \n",
    "    def computeSimilarity(self, A, B):\n",
    "        \"\"\"Overrides SimilarityFunctionInterface.computeSimilarity()\"\"\"\n",
    "        positive_sim = 0\n",
    "        for art1 in A.positive:\n",
    "            for art2 in B.positive:\n",
    "                positive_sim += self.similitudCuadros[art1][art2]\n",
    "        positive_sim /= len(A.positive) if len(A.positive) > len(B.positive) else len(B.positive)\n",
    "        \n",
    "        negative_sim = 0\n",
    "        for art1 in A.negative:\n",
    "            for art2 in B.negative:\n",
    "                negative_sim += self.similitudCuadros[art1][art2]\n",
    "        negative_sim /= len(A.negative) if len(A.negative) > len(B.negative) else len(B.negative)\n",
    "        \n",
    "        mixed_sim = 0\n",
    "        for art1 in A.mixed:\n",
    "            for art2 in B.mixed:\n",
    "                mixed_sim += self.similitudCuadros[art1][art2]\n",
    "        mixed_sim /= len(A.mixed) if len(A.mixed) > len(B.mixed) else len(B.mixed)\n",
    "        \n",
    "        return (positive_sim * self.positive_weight) + (negative_sim * self.negative_weight) + (mixed * self.mixed_weight)"
   ]
  },
  {
   "cell_type": "code",
   "execution_count": 91,
   "id": "678d218a-afab-44c7-9690-a934ef966480",
   "metadata": {
    "tags": []
   },
   "outputs": [],
   "source": [
    "class SimilarityArtist(SimilarityFunctionInterface):\n",
    "    \"\"\"Compute similarity between artworks (by artist)\"\"\"\n",
    "    def __init__(self, data_csv=ARTWORKS_CSV):\n",
    "        self.data = pd.read_csv(data_csv)\n",
    "    \n",
    "    def computeSimilarity(self, A, B):\n",
    "        \"\"\"Overrides SimilarityFunctionInterface.computeSimilarity()\"\"\"\n",
    "        return (self.data.loc[aux['wd:paintingID'] == A]['Artist'].to_list()[0] == self.data.loc[aux['wd:paintingID'] == B]['Artist'].to_list()[0])\n",
    "        \n",
    "class SimilarityCategory(SimilarityFunctionInterface):\n",
    "    \"\"\"Compute similarity between artworks (by category)\"\"\"\n",
    "    def __init__(self, data_csv=ARTWORKS_CSV):\n",
    "        self.data = pd.read_csv(data_csv)\n",
    "\n",
    "    def computeSimilarity(self, A, B):\n",
    "        \"\"\"Overrides SimilarityFunctionInterface.computeSimilarity()\"\"\"\n",
    "        return(self.data.loc[aux['wd:paintingID'] == A]['Category'].to_list()[0] == self.data.loc[aux['wd:paintingID'] == B]['Category'].to_list()[0])\n",
    "\n",
    "class SimilarityColors(SimilarityFunctionInterface):\n",
    "    \"\"\"Compute similarity between artworks (by color)\"\"\"\n",
    "    def __init__(self, data_csv=ARTWORKS_CSV, colors_json='data/artworkColors.json'):\n",
    "        with open(colors_json)as f:\n",
    "            self.colors = json.load(f)\n",
    "        \n",
    "    def computeSimilarity(self, A, B):\n",
    "        \"\"\"Overrides SimilarityFunctionInterface.computeSimilarity()\"\"\"\n",
    "        max_a = int(max(self.colors.get(A).get('frequency'), key=self.colors.get(A).get('frequency').get))\n",
    "        max_b = int(max(self.colors.get(B).get('frequency'), key=self.colors.get(B).get('frequency').get))\n",
    "        \n",
    "        rgb_a = self.colors.get(A).get('colors')[max_a]\n",
    "        rgb_b = self.colors.get(B).get('colors')[max_b]\n",
    "        \n",
    "        hsv_a = colorsys.rgb_to_hsv(rgb_a[0], rgb_a[1], rgb_a[2])\n",
    "        hsv_b = colorsys.rgb_to_hsv(rgb_b[0], rgb_b[1], rgb_b[2])\n",
    "        \n",
    "        ### Sacado de año anterior ###\n",
    "        dh = min(abs(hsv_a[0]-hsv_b[0]), 360-abs(hsv_a[0]-hsv_b[0])) / 180.0\n",
    "        ds = abs(hsv_a[1] - hsv_b[1])\n",
    "        dv = abs(hsv_a[2] - hsv_b[2]) / 255.\n",
    "        distance = math.sqrt(dh * dh + ds * ds + dv * dv)\n",
    "        return round(1. - (distance), 2)\n",
    "    \n",
    "######################################################    \n",
    "class SimilarityArtworks(SimilarityFunctionInterface):\n",
    "    \"\"\"Compute similarity between artworks\"\"\"\n",
    "    def __init__(self, artist_weight=0.3, color_weight=0.3, category_weight = 0.4):\n",
    "        self.artist_weight = artist_weight\n",
    "        self.color_weight = color_weight\n",
    "        self.category_weight = category_weight\n",
    "        \n",
    "    def computeSimilarity(self, A, B):\n",
    "        \"\"\"Overrides SimilarityFunctionInterface.computeSimilarity()\"\"\"\n",
    "        artist_sim = SimilarityArtist().computeSimilarity(A, B)\n",
    "        color_sim = SimilarityColors().computeSimilarity(A, B)\n",
    "        cat_sim = SimilarityCategory().computeSimilarity(A,B)\n",
    "        \n",
    "        return (self.artist_weight * artist_sim) + (self.color_weight * color_sim)  + (self.category_weight * cat_sim)\n",
    "######################################################    \n",
    "class SimilarityPerson(SimilarityFunctionInterface):\n",
    "    \"\"\"Compute similarity between artworks\"\"\"\n",
    "    def __init__(self, demog_weight = 0.5, artw_weight = 0.5):\n",
    "        self.demog_weight = demog_weight\n",
    "        self.artw_weight = artw_weight\n",
    "        \n",
    "    def computeSimilarity(self, A, B):\n",
    "        \"\"\"Overrides SimilarityFunctionInterface.computeSimilarity()\"\"\"\n",
    "        demog_sim = SimilarityDemographic().computeSimilarity(A, B)\n",
    "        artw_sim = SimilarityColors().computeSimilarity(A, B)                                                \n",
    "        return (self.demog_weight * demog_sim) + (self.artw_weight * artw_sim)"
   ]
  },
  {
   "cell_type": "code",
   "execution_count": 92,
   "id": "4e304466-8a91-41fe-8355-df2ca13cc760",
   "metadata": {},
   "outputs": [
    {
     "data": {
      "text/plain": [
       "0.10200000000000001"
      ]
     },
     "execution_count": 92,
     "metadata": {},
     "output_type": "execute_result"
    }
   ],
   "source": [
    "SimilarityArtworks().computeSimilarity('Q920030', 'Q124362')"
   ]
  },
  {
   "cell_type": "code",
   "execution_count": 93,
   "id": "c385eadb-d812-4a99-9a94-bf2e5437ac6c",
   "metadata": {},
   "outputs": [],
   "source": [
    "similitudCuadros=np.zeros((len(aux),len(aux)))\n",
    "i = 0\n",
    "for a in aux['wd:paintingID']:\n",
    "    j = 0\n",
    "    for b in aux['wd:paintingID']:\n",
    "        similitudCuadros[i][j] = SimilarityArtworks().computeSimilarity(a, b)\n",
    "        j +=1\n",
    "    i+=1"
   ]
  },
  {
   "cell_type": "code",
   "execution_count": 94,
   "id": "6383e3b8-1b17-463a-81a9-06d7b1902866",
   "metadata": {},
   "outputs": [],
   "source": [
    "simCuadros = pd.DataFrame(similitudCuadros, index = [i for i in aux['wd:paintingID']], columns = [i for i in aux['wd:paintingID']])\n",
    "simCuadros.to_csv('data/simCuadros.csv')"
   ]
  },
  {
   "cell_type": "code",
   "execution_count": 95,
   "id": "dc6b886f-fe4f-4a2a-944b-ec64be49ddc1",
   "metadata": {},
   "outputs": [],
   "source": [
    "# class SimilarityDemographic(SimilarityFunctionInterface):\n",
    "#     \"\"\"Compute similarity between people (by demographic)\"\"\"\n",
    "#     def __init__(self, age_index, country_weight=0.3, age_weight=0.5, gender_weight=0.2):\n",
    "#         self.country_weight = country_weight\n",
    "#         self.age_weight = age_weight\n",
    "#         self.gender_weight = gender_weight\n",
    "#         self.age_index = age_index\n",
    "    \n",
    "#     def computeSimilarity(self, A, B):\n",
    "#         \"\"\"Overrides SimilarityFuntionInterface.computeSimilarity()\"\"\"\n",
    "#         country_sim = (A.country == B.country)\n",
    "#         age_sim = 1 - (1 / (self.age_index - 1) * abs(A.age - B.age))\n",
    "#         gender_sim = (A.gender == B.gender)\n",
    "                       \n",
    "#         return (country_sim*self.country_weight) + (age_sim*self.age_weight) + (gender_sim*self.gender_weight)"
   ]
  },
  {
   "cell_type": "code",
   "execution_count": 96,
   "id": "2728db31-95de-4977-98c0-6ee9a59b766a",
   "metadata": {},
   "outputs": [],
   "source": [
    "s = SimilarityDemographic(4)"
   ]
  },
  {
   "cell_type": "code",
   "execution_count": 97,
   "id": "28031161-6e41-482d-9f03-6f147267757b",
   "metadata": {},
   "outputs": [
    {
     "data": {
      "text/html": [
       "<div>\n",
       "<style scoped>\n",
       "    .dataframe tbody tr th:only-of-type {\n",
       "        vertical-align: middle;\n",
       "    }\n",
       "\n",
       "    .dataframe tbody tr th {\n",
       "        vertical-align: top;\n",
       "    }\n",
       "\n",
       "    .dataframe thead th {\n",
       "        text-align: right;\n",
       "    }\n",
       "</style>\n",
       "<table border=\"1\" class=\"dataframe\">\n",
       "  <thead>\n",
       "    <tr style=\"text-align: right;\">\n",
       "      <th></th>\n",
       "      <th>age</th>\n",
       "      <th>gender</th>\n",
       "      <th>country</th>\n",
       "    </tr>\n",
       "  </thead>\n",
       "  <tbody>\n",
       "    <tr>\n",
       "      <th>0</th>\n",
       "      <td>4.107400</td>\n",
       "      <td>2.021723</td>\n",
       "      <td>1.787405</td>\n",
       "    </tr>\n",
       "    <tr>\n",
       "      <th>1</th>\n",
       "      <td>2.347123</td>\n",
       "      <td>0.000000</td>\n",
       "      <td>1.787405</td>\n",
       "    </tr>\n",
       "  </tbody>\n",
       "</table>\n",
       "</div>"
      ],
      "text/plain": [
       "        age    gender   country\n",
       "0  4.107400  2.021723  1.787405\n",
       "1  2.347123  0.000000  1.787405"
      ]
     },
     "execution_count": 97,
     "metadata": {},
     "output_type": "execute_result"
    }
   ],
   "source": [
    "u = pd.DataFrame([[4.1074, 2.021723, 1.787405], [2.347123, 0.000000, 1.787405]], columns=['age', 'gender', 'country'])\n",
    "u"
   ]
  },
  {
   "cell_type": "code",
   "execution_count": 98,
   "id": "0ded1a7f-bfd8-4bc8-8558-4984876cb234",
   "metadata": {},
   "outputs": [
    {
     "data": {
      "text/plain": [
       "pandas.core.series.Series"
      ]
     },
     "execution_count": 98,
     "metadata": {},
     "output_type": "execute_result"
    }
   ],
   "source": [
    "type(u.loc(0)[0])"
   ]
  },
  {
   "cell_type": "code",
   "execution_count": 99,
   "id": "af3cbf5e-2278-465e-94c1-7f8f695c4710",
   "metadata": {},
   "outputs": [
    {
     "data": {
      "text/plain": [
       "0.5066204999999999"
      ]
     },
     "execution_count": 99,
     "metadata": {},
     "output_type": "execute_result"
    }
   ],
   "source": [
    "s.computeSimilarity(u.loc(0)[0], u.loc(0)[1])"
   ]
  },
  {
   "cell_type": "code",
   "execution_count": 100,
   "id": "08a7194e-a421-4ccc-acc2-2a39582e7485",
   "metadata": {},
   "outputs": [],
   "source": [
    "import pandas as pd"
   ]
  },
  {
   "cell_type": "code",
   "execution_count": 101,
   "id": "55ad5c4a-e0d3-4786-b460-a9621d110f43",
   "metadata": {},
   "outputs": [
    {
     "ename": "FileNotFoundError",
     "evalue": "[Errno 2] No such file or directory: 'data/Prado_users_scaled.csv'",
     "output_type": "error",
     "traceback": [
      "\u001b[1;31m---------------------------------------------------------------------------\u001b[0m",
      "\u001b[1;31mFileNotFoundError\u001b[0m                         Traceback (most recent call last)",
      "\u001b[1;32m~\\AppData\\Local\\Temp/ipykernel_7016/1401864565.py\u001b[0m in \u001b[0;36m<module>\u001b[1;34m\u001b[0m\n\u001b[1;32m----> 1\u001b[1;33m \u001b[0musers\u001b[0m \u001b[1;33m=\u001b[0m \u001b[0mpd\u001b[0m\u001b[1;33m.\u001b[0m\u001b[0mread_csv\u001b[0m\u001b[1;33m(\u001b[0m\u001b[1;34m\"data/Prado_users_scaled.csv\"\u001b[0m\u001b[1;33m)\u001b[0m\u001b[1;33m\u001b[0m\u001b[1;33m\u001b[0m\u001b[0m\n\u001b[0m",
      "\u001b[1;32mc:\\users\\alberto\\appdata\\local\\programs\\python\\python39\\lib\\site-packages\\pandas\\util\\_decorators.py\u001b[0m in \u001b[0;36mwrapper\u001b[1;34m(*args, **kwargs)\u001b[0m\n\u001b[0;32m    309\u001b[0m                     \u001b[0mstacklevel\u001b[0m\u001b[1;33m=\u001b[0m\u001b[0mstacklevel\u001b[0m\u001b[1;33m,\u001b[0m\u001b[1;33m\u001b[0m\u001b[1;33m\u001b[0m\u001b[0m\n\u001b[0;32m    310\u001b[0m                 )\n\u001b[1;32m--> 311\u001b[1;33m             \u001b[1;32mreturn\u001b[0m \u001b[0mfunc\u001b[0m\u001b[1;33m(\u001b[0m\u001b[1;33m*\u001b[0m\u001b[0margs\u001b[0m\u001b[1;33m,\u001b[0m \u001b[1;33m**\u001b[0m\u001b[0mkwargs\u001b[0m\u001b[1;33m)\u001b[0m\u001b[1;33m\u001b[0m\u001b[1;33m\u001b[0m\u001b[0m\n\u001b[0m\u001b[0;32m    312\u001b[0m \u001b[1;33m\u001b[0m\u001b[0m\n\u001b[0;32m    313\u001b[0m         \u001b[1;32mreturn\u001b[0m \u001b[0mwrapper\u001b[0m\u001b[1;33m\u001b[0m\u001b[1;33m\u001b[0m\u001b[0m\n",
      "\u001b[1;32mc:\\users\\alberto\\appdata\\local\\programs\\python\\python39\\lib\\site-packages\\pandas\\io\\parsers\\readers.py\u001b[0m in \u001b[0;36mread_csv\u001b[1;34m(filepath_or_buffer, sep, delimiter, header, names, index_col, usecols, squeeze, prefix, mangle_dupe_cols, dtype, engine, converters, true_values, false_values, skipinitialspace, skiprows, skipfooter, nrows, na_values, keep_default_na, na_filter, verbose, skip_blank_lines, parse_dates, infer_datetime_format, keep_date_col, date_parser, dayfirst, cache_dates, iterator, chunksize, compression, thousands, decimal, lineterminator, quotechar, quoting, doublequote, escapechar, comment, encoding, encoding_errors, dialect, error_bad_lines, warn_bad_lines, on_bad_lines, delim_whitespace, low_memory, memory_map, float_precision, storage_options)\u001b[0m\n\u001b[0;32m    584\u001b[0m     \u001b[0mkwds\u001b[0m\u001b[1;33m.\u001b[0m\u001b[0mupdate\u001b[0m\u001b[1;33m(\u001b[0m\u001b[0mkwds_defaults\u001b[0m\u001b[1;33m)\u001b[0m\u001b[1;33m\u001b[0m\u001b[1;33m\u001b[0m\u001b[0m\n\u001b[0;32m    585\u001b[0m \u001b[1;33m\u001b[0m\u001b[0m\n\u001b[1;32m--> 586\u001b[1;33m     \u001b[1;32mreturn\u001b[0m \u001b[0m_read\u001b[0m\u001b[1;33m(\u001b[0m\u001b[0mfilepath_or_buffer\u001b[0m\u001b[1;33m,\u001b[0m \u001b[0mkwds\u001b[0m\u001b[1;33m)\u001b[0m\u001b[1;33m\u001b[0m\u001b[1;33m\u001b[0m\u001b[0m\n\u001b[0m\u001b[0;32m    587\u001b[0m \u001b[1;33m\u001b[0m\u001b[0m\n\u001b[0;32m    588\u001b[0m \u001b[1;33m\u001b[0m\u001b[0m\n",
      "\u001b[1;32mc:\\users\\alberto\\appdata\\local\\programs\\python\\python39\\lib\\site-packages\\pandas\\io\\parsers\\readers.py\u001b[0m in \u001b[0;36m_read\u001b[1;34m(filepath_or_buffer, kwds)\u001b[0m\n\u001b[0;32m    480\u001b[0m \u001b[1;33m\u001b[0m\u001b[0m\n\u001b[0;32m    481\u001b[0m     \u001b[1;31m# Create the parser.\u001b[0m\u001b[1;33m\u001b[0m\u001b[1;33m\u001b[0m\u001b[1;33m\u001b[0m\u001b[0m\n\u001b[1;32m--> 482\u001b[1;33m     \u001b[0mparser\u001b[0m \u001b[1;33m=\u001b[0m \u001b[0mTextFileReader\u001b[0m\u001b[1;33m(\u001b[0m\u001b[0mfilepath_or_buffer\u001b[0m\u001b[1;33m,\u001b[0m \u001b[1;33m**\u001b[0m\u001b[0mkwds\u001b[0m\u001b[1;33m)\u001b[0m\u001b[1;33m\u001b[0m\u001b[1;33m\u001b[0m\u001b[0m\n\u001b[0m\u001b[0;32m    483\u001b[0m \u001b[1;33m\u001b[0m\u001b[0m\n\u001b[0;32m    484\u001b[0m     \u001b[1;32mif\u001b[0m \u001b[0mchunksize\u001b[0m \u001b[1;32mor\u001b[0m \u001b[0miterator\u001b[0m\u001b[1;33m:\u001b[0m\u001b[1;33m\u001b[0m\u001b[1;33m\u001b[0m\u001b[0m\n",
      "\u001b[1;32mc:\\users\\alberto\\appdata\\local\\programs\\python\\python39\\lib\\site-packages\\pandas\\io\\parsers\\readers.py\u001b[0m in \u001b[0;36m__init__\u001b[1;34m(self, f, engine, **kwds)\u001b[0m\n\u001b[0;32m    809\u001b[0m             \u001b[0mself\u001b[0m\u001b[1;33m.\u001b[0m\u001b[0moptions\u001b[0m\u001b[1;33m[\u001b[0m\u001b[1;34m\"has_index_names\"\u001b[0m\u001b[1;33m]\u001b[0m \u001b[1;33m=\u001b[0m \u001b[0mkwds\u001b[0m\u001b[1;33m[\u001b[0m\u001b[1;34m\"has_index_names\"\u001b[0m\u001b[1;33m]\u001b[0m\u001b[1;33m\u001b[0m\u001b[1;33m\u001b[0m\u001b[0m\n\u001b[0;32m    810\u001b[0m \u001b[1;33m\u001b[0m\u001b[0m\n\u001b[1;32m--> 811\u001b[1;33m         \u001b[0mself\u001b[0m\u001b[1;33m.\u001b[0m\u001b[0m_engine\u001b[0m \u001b[1;33m=\u001b[0m \u001b[0mself\u001b[0m\u001b[1;33m.\u001b[0m\u001b[0m_make_engine\u001b[0m\u001b[1;33m(\u001b[0m\u001b[0mself\u001b[0m\u001b[1;33m.\u001b[0m\u001b[0mengine\u001b[0m\u001b[1;33m)\u001b[0m\u001b[1;33m\u001b[0m\u001b[1;33m\u001b[0m\u001b[0m\n\u001b[0m\u001b[0;32m    812\u001b[0m \u001b[1;33m\u001b[0m\u001b[0m\n\u001b[0;32m    813\u001b[0m     \u001b[1;32mdef\u001b[0m \u001b[0mclose\u001b[0m\u001b[1;33m(\u001b[0m\u001b[0mself\u001b[0m\u001b[1;33m)\u001b[0m\u001b[1;33m:\u001b[0m\u001b[1;33m\u001b[0m\u001b[1;33m\u001b[0m\u001b[0m\n",
      "\u001b[1;32mc:\\users\\alberto\\appdata\\local\\programs\\python\\python39\\lib\\site-packages\\pandas\\io\\parsers\\readers.py\u001b[0m in \u001b[0;36m_make_engine\u001b[1;34m(self, engine)\u001b[0m\n\u001b[0;32m   1038\u001b[0m             )\n\u001b[0;32m   1039\u001b[0m         \u001b[1;31m# error: Too many arguments for \"ParserBase\"\u001b[0m\u001b[1;33m\u001b[0m\u001b[1;33m\u001b[0m\u001b[1;33m\u001b[0m\u001b[0m\n\u001b[1;32m-> 1040\u001b[1;33m         \u001b[1;32mreturn\u001b[0m \u001b[0mmapping\u001b[0m\u001b[1;33m[\u001b[0m\u001b[0mengine\u001b[0m\u001b[1;33m]\u001b[0m\u001b[1;33m(\u001b[0m\u001b[0mself\u001b[0m\u001b[1;33m.\u001b[0m\u001b[0mf\u001b[0m\u001b[1;33m,\u001b[0m \u001b[1;33m**\u001b[0m\u001b[0mself\u001b[0m\u001b[1;33m.\u001b[0m\u001b[0moptions\u001b[0m\u001b[1;33m)\u001b[0m  \u001b[1;31m# type: ignore[call-arg]\u001b[0m\u001b[1;33m\u001b[0m\u001b[1;33m\u001b[0m\u001b[0m\n\u001b[0m\u001b[0;32m   1041\u001b[0m \u001b[1;33m\u001b[0m\u001b[0m\n\u001b[0;32m   1042\u001b[0m     \u001b[1;32mdef\u001b[0m \u001b[0m_failover_to_python\u001b[0m\u001b[1;33m(\u001b[0m\u001b[0mself\u001b[0m\u001b[1;33m)\u001b[0m\u001b[1;33m:\u001b[0m\u001b[1;33m\u001b[0m\u001b[1;33m\u001b[0m\u001b[0m\n",
      "\u001b[1;32mc:\\users\\alberto\\appdata\\local\\programs\\python\\python39\\lib\\site-packages\\pandas\\io\\parsers\\c_parser_wrapper.py\u001b[0m in \u001b[0;36m__init__\u001b[1;34m(self, src, **kwds)\u001b[0m\n\u001b[0;32m     49\u001b[0m \u001b[1;33m\u001b[0m\u001b[0m\n\u001b[0;32m     50\u001b[0m         \u001b[1;31m# open handles\u001b[0m\u001b[1;33m\u001b[0m\u001b[1;33m\u001b[0m\u001b[1;33m\u001b[0m\u001b[0m\n\u001b[1;32m---> 51\u001b[1;33m         \u001b[0mself\u001b[0m\u001b[1;33m.\u001b[0m\u001b[0m_open_handles\u001b[0m\u001b[1;33m(\u001b[0m\u001b[0msrc\u001b[0m\u001b[1;33m,\u001b[0m \u001b[0mkwds\u001b[0m\u001b[1;33m)\u001b[0m\u001b[1;33m\u001b[0m\u001b[1;33m\u001b[0m\u001b[0m\n\u001b[0m\u001b[0;32m     52\u001b[0m         \u001b[1;32massert\u001b[0m \u001b[0mself\u001b[0m\u001b[1;33m.\u001b[0m\u001b[0mhandles\u001b[0m \u001b[1;32mis\u001b[0m \u001b[1;32mnot\u001b[0m \u001b[1;32mNone\u001b[0m\u001b[1;33m\u001b[0m\u001b[1;33m\u001b[0m\u001b[0m\n\u001b[0;32m     53\u001b[0m \u001b[1;33m\u001b[0m\u001b[0m\n",
      "\u001b[1;32mc:\\users\\alberto\\appdata\\local\\programs\\python\\python39\\lib\\site-packages\\pandas\\io\\parsers\\base_parser.py\u001b[0m in \u001b[0;36m_open_handles\u001b[1;34m(self, src, kwds)\u001b[0m\n\u001b[0;32m    220\u001b[0m         \u001b[0mLet\u001b[0m \u001b[0mthe\u001b[0m \u001b[0mreaders\u001b[0m \u001b[0mopen\u001b[0m \u001b[0mIOHandles\u001b[0m \u001b[0mafter\u001b[0m \u001b[0mthey\u001b[0m \u001b[0mare\u001b[0m \u001b[0mdone\u001b[0m \u001b[1;32mwith\u001b[0m \u001b[0mtheir\u001b[0m \u001b[0mpotential\u001b[0m \u001b[0mraises\u001b[0m\u001b[1;33m.\u001b[0m\u001b[1;33m\u001b[0m\u001b[1;33m\u001b[0m\u001b[0m\n\u001b[0;32m    221\u001b[0m         \"\"\"\n\u001b[1;32m--> 222\u001b[1;33m         self.handles = get_handle(\n\u001b[0m\u001b[0;32m    223\u001b[0m             \u001b[0msrc\u001b[0m\u001b[1;33m,\u001b[0m\u001b[1;33m\u001b[0m\u001b[1;33m\u001b[0m\u001b[0m\n\u001b[0;32m    224\u001b[0m             \u001b[1;34m\"r\"\u001b[0m\u001b[1;33m,\u001b[0m\u001b[1;33m\u001b[0m\u001b[1;33m\u001b[0m\u001b[0m\n",
      "\u001b[1;32mc:\\users\\alberto\\appdata\\local\\programs\\python\\python39\\lib\\site-packages\\pandas\\io\\common.py\u001b[0m in \u001b[0;36mget_handle\u001b[1;34m(path_or_buf, mode, encoding, compression, memory_map, is_text, errors, storage_options)\u001b[0m\n\u001b[0;32m    700\u001b[0m         \u001b[1;32mif\u001b[0m \u001b[0mioargs\u001b[0m\u001b[1;33m.\u001b[0m\u001b[0mencoding\u001b[0m \u001b[1;32mand\u001b[0m \u001b[1;34m\"b\"\u001b[0m \u001b[1;32mnot\u001b[0m \u001b[1;32min\u001b[0m \u001b[0mioargs\u001b[0m\u001b[1;33m.\u001b[0m\u001b[0mmode\u001b[0m\u001b[1;33m:\u001b[0m\u001b[1;33m\u001b[0m\u001b[1;33m\u001b[0m\u001b[0m\n\u001b[0;32m    701\u001b[0m             \u001b[1;31m# Encoding\u001b[0m\u001b[1;33m\u001b[0m\u001b[1;33m\u001b[0m\u001b[1;33m\u001b[0m\u001b[0m\n\u001b[1;32m--> 702\u001b[1;33m             handle = open(\n\u001b[0m\u001b[0;32m    703\u001b[0m                 \u001b[0mhandle\u001b[0m\u001b[1;33m,\u001b[0m\u001b[1;33m\u001b[0m\u001b[1;33m\u001b[0m\u001b[0m\n\u001b[0;32m    704\u001b[0m                 \u001b[0mioargs\u001b[0m\u001b[1;33m.\u001b[0m\u001b[0mmode\u001b[0m\u001b[1;33m,\u001b[0m\u001b[1;33m\u001b[0m\u001b[1;33m\u001b[0m\u001b[0m\n",
      "\u001b[1;31mFileNotFoundError\u001b[0m: [Errno 2] No such file or directory: 'data/Prado_users_scaled.csv'"
     ]
    }
   ],
   "source": [
    "users = pd.read_csv(\"data/Prado_users_scaled.csv\")"
   ]
  },
  {
   "cell_type": "code",
   "execution_count": null,
   "id": "73e20862-5d4e-4e17-bd2d-878e8a146a56",
   "metadata": {},
   "outputs": [],
   "source": [
    "s.computeSimilarity(users.loc(0)[0], users.loc(0)[0])"
   ]
  },
  {
   "cell_type": "code",
   "execution_count": null,
   "id": "2a9f16e1-3379-4b01-ac88-9abb9e38ecc7",
   "metadata": {},
   "outputs": [],
   "source": [
    "users_clean = users.drop(columns=\"userId\")\n",
    "users_clean"
   ]
  },
  {
   "cell_type": "code",
   "execution_count": null,
   "id": "06507abc-7dc6-42f9-861d-bf3247320769",
   "metadata": {},
   "outputs": [],
   "source": [
    "users"
   ]
  },
  {
   "cell_type": "code",
   "execution_count": null,
   "id": "70c3423b-6bdf-4a58-a488-7ba2abc9757a",
   "metadata": {},
   "outputs": [],
   "source": [
    "users_similarity = []\n",
    "for i in range(0, len(users)):\n",
    "    sim_list = []\n",
    "    for j in range(0, len(users)):\n",
    "        sim = s.computeSimilarity(users_clean.loc(0)[i], users_clean.loc(0)[j])\n",
    "        sim_list.append(sim)\n",
    "        \n",
    "    users_similarity.append(sim_list)"
   ]
  },
  {
   "cell_type": "code",
   "execution_count": null,
   "id": "8626ff5e-d001-4c49-bafb-6bfef22cd5d9",
   "metadata": {},
   "outputs": [],
   "source": [
    "print(users_similarity[2][2])"
   ]
  },
  {
   "cell_type": "code",
   "execution_count": null,
   "id": "bf0eb068-f0aa-4597-8c5a-399e5e291085",
   "metadata": {},
   "outputs": [],
   "source": [
    "for i in range(len(users_similarity)):\n",
    "    users_similarity"
   ]
  }
 ],
 "metadata": {
  "kernelspec": {
   "display_name": "Python 3 (ipykernel)",
   "language": "python",
   "name": "python3"
  },
  "language_info": {
   "codemirror_mode": {
    "name": "ipython",
    "version": 3
   },
   "file_extension": ".py",
   "mimetype": "text/x-python",
   "name": "python",
   "nbconvert_exporter": "python",
   "pygments_lexer": "ipython3",
   "version": "3.9.5"
  }
 },
 "nbformat": 4,
 "nbformat_minor": 5
}

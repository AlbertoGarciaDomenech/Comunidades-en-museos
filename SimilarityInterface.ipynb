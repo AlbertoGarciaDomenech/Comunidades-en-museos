{
 "cells": [
  {
   "cell_type": "code",
   "execution_count": 7,
   "id": "8b9c600e-5662-4480-ba2c-ca8149c45b32",
   "metadata": {},
   "outputs": [],
   "source": [
    "import pandas as pd\n",
    "from pandas.core.series import Series\n",
    "import abc"
   ]
  },
  {
   "cell_type": "code",
   "execution_count": 8,
   "id": "9f3e61cd-ef89-460b-a74a-5667c979ebc5",
   "metadata": {},
   "outputs": [],
   "source": [
    "class SimilarityFunctionInterface(metaclass=abc.ABCMeta):\n",
    "    \n",
    "    @abc.abstractmethod\n",
    "    def computeSimilarity(self, A, B) -> float:\n",
    "        \"\"\"Compute similarity between two lists\"\"\"\n",
    "        raise NotImplementedError()"
   ]
  },
  {
   "cell_type": "code",
   "execution_count": 9,
   "id": "a9ac0cf7-39f5-4695-917e-c795e0dfdd06",
   "metadata": {},
   "outputs": [],
   "source": [
    "class SimilarityAge(SimilarityFunctionInterface):\n",
    "    \"\"\"Compute similarity between people (by age)\"\"\"\n",
    "    def __init__(self, age_index):\n",
    "        self.age_index = age_index\n",
    "        \n",
    "    def computeSimilarity(self, A, B):\n",
    "        \"\"\"Overrides SimilarityFuntionInterface.computeSimilarity()\"\"\"\n",
    "        return 1 - (1 / (self.age_index - 1) * abs(A - B))\n",
    "    \n",
    "class SimilarityGender(SimilarityFunctionInterface):\n",
    "    \"\"\"Compute similarity between people (by age)\"\"\"\n",
    "        \n",
    "    def computeSimilarity(self, A, B):\n",
    "        \"\"\"Overrides SimilarityFuntionInterface.computeSimilarity()\"\"\"\n",
    "        return A == B\n",
    "    \n",
    "class SimilarityCountry(SimilarityFunctionInterface):\n",
    "    \"\"\"Compute similarity between people (by age)\"\"\"\n",
    "        \n",
    "    def computeSimilarity(self, A, B):\n",
    "        \"\"\"Overrides SimilarityFuntionInterface.computeSimilarity()\"\"\"\n",
    "        return A == B\n",
    "\n",
    "###################################################\n",
    "class SimilarityDemographic(SimilarityFunctionInterface):\n",
    "    \"\"\"Compute similarity between people (by demographic)\"\"\"\n",
    "    def __init__(self, age_index, country_weight=0.3, age_weight=0.5, gender_weight=0.2):\n",
    "        self.country_weight = country_weight\n",
    "        self.age_weight = age_weight\n",
    "        self.gender_weight = gender_weight\n",
    "        self.age_index = age_index\n",
    "    \n",
    "    def computeSimilarity(self, A, B):\n",
    "        \"\"\"Overrides SimilarityFuntionInterface.computeSimilarity()\"\"\"\n",
    "        country_sim = SimilarityCountry().computeSimilarity(A.country, B.country)\n",
    "        age_sim = SimilarityAge(self.age_index).computeSimilarity(A.age, B.age)\n",
    "        gender_sim = SimilarityGender().computeSimilarity(A.gender, B.gender)\n",
    "                       \n",
    "        return (country_sim*self.country_weight) + (age_sim*self.age_weight) + (gender_sim*self.gender_weight)\n",
    "    \n",
    "######################################################    \n",
    "class SimilarityArtworks(SimilarityFunctionInterface):\n",
    "    \"\"\"Compute similarity between people (by artwork tastes)\"\"\"\n",
    "    def __init__(self, artworks_sim, positive_weight=0.4, negative_weight=0.4, mixed_weight=0.2):\n",
    "        self.positive_weight = positive_weight\n",
    "        self.negative_weight = negative_weight\n",
    "        self.mixed_weight = mixed_weight\n",
    "        \n",
    "    def computeSimilarity(self, A, B):\n",
    "        \"\"\"Overrides SimilarityFunctionInterface.computeSimilarity()\"\"\"\n",
    "        positive_sim = 0\n",
    "        for art1 in A.positive:\n",
    "            for art2 in B.positive:\n",
    "                positive_sim += self.artworks_sim[art1][art2]\n",
    "        positive_sim /= len(A.positive) if len(A.positive) > len(B.positive) else len(B.positive)\n",
    "        \n",
    "        negative_sim = 0\n",
    "        for art1 in A.negative:\n",
    "            for art2 in B.negative:\n",
    "                negative_sim += self.artworks_sim[art1][art2]\n",
    "        negative_sim /= len(A.negative) if len(A.negative) > len(B.negative) else len(B.negative)\n",
    "        \n",
    "        mixed_sim = 0\n",
    "        for art1 in A.mixed:\n",
    "            for art2 in B.mixed:\n",
    "                mixed_sim += self.artworks_sim[art1][art2]\n",
    "        mixed_sim /= len(A.mixed) if len(A.mixed) > len(B.mixed) else len(B.mixed)\n",
    "        \n",
    "        return (positive_sim * self.positive_weight) + (negative_sim * self.negative_weight) + (mixed * self.mixed_weight)"
   ]
  },
  {
   "cell_type": "code",
   "execution_count": 114,
   "id": "dc6b886f-fe4f-4a2a-944b-ec64be49ddc1",
   "metadata": {},
   "outputs": [],
   "source": [
    "# class SimilarityDemographic(SimilarityFunctionInterface):\n",
    "#     \"\"\"Compute similarity between people (by demographic)\"\"\"\n",
    "#     def __init__(self, age_index, country_weight=0.3, age_weight=0.5, gender_weight=0.2):\n",
    "#         self.country_weight = country_weight\n",
    "#         self.age_weight = age_weight\n",
    "#         self.gender_weight = gender_weight\n",
    "#         self.age_index = age_index\n",
    "    \n",
    "#     def computeSimilarity(self, A, B):\n",
    "#         \"\"\"Overrides SimilarityFuntionInterface.computeSimilarity()\"\"\"\n",
    "#         country_sim = (A.country == B.country)\n",
    "#         age_sim = 1 - (1 / (self.age_index - 1) * abs(A.age - B.age))\n",
    "#         gender_sim = (A.gender == B.gender)\n",
    "                       \n",
    "#         return (country_sim*self.country_weight) + (age_sim*self.age_weight) + (gender_sim*self.gender_weight)"
   ]
  },
  {
   "cell_type": "code",
   "execution_count": 115,
   "id": "2728db31-95de-4977-98c0-6ee9a59b766a",
   "metadata": {},
   "outputs": [],
   "source": [
    "s = SimilarityDemographic(4)"
   ]
  },
  {
   "cell_type": "code",
   "execution_count": 116,
   "id": "28031161-6e41-482d-9f03-6f147267757b",
   "metadata": {},
   "outputs": [
    {
     "data": {
      "text/html": [
       "<div>\n",
       "<style scoped>\n",
       "    .dataframe tbody tr th:only-of-type {\n",
       "        vertical-align: middle;\n",
       "    }\n",
       "\n",
       "    .dataframe tbody tr th {\n",
       "        vertical-align: top;\n",
       "    }\n",
       "\n",
       "    .dataframe thead th {\n",
       "        text-align: right;\n",
       "    }\n",
       "</style>\n",
       "<table border=\"1\" class=\"dataframe\">\n",
       "  <thead>\n",
       "    <tr style=\"text-align: right;\">\n",
       "      <th></th>\n",
       "      <th>age</th>\n",
       "      <th>gender</th>\n",
       "      <th>country</th>\n",
       "    </tr>\n",
       "  </thead>\n",
       "  <tbody>\n",
       "    <tr>\n",
       "      <th>0</th>\n",
       "      <td>4.107400</td>\n",
       "      <td>2.021723</td>\n",
       "      <td>1.787405</td>\n",
       "    </tr>\n",
       "    <tr>\n",
       "      <th>1</th>\n",
       "      <td>2.347123</td>\n",
       "      <td>0.000000</td>\n",
       "      <td>1.787405</td>\n",
       "    </tr>\n",
       "  </tbody>\n",
       "</table>\n",
       "</div>"
      ],
      "text/plain": [
       "        age    gender   country\n",
       "0  4.107400  2.021723  1.787405\n",
       "1  2.347123  0.000000  1.787405"
      ]
     },
     "execution_count": 116,
     "metadata": {},
     "output_type": "execute_result"
    }
   ],
   "source": [
    "u = pd.DataFrame([[4.1074, 2.021723, 1.787405], [2.347123, 0.000000, 1.787405]], columns=['age', 'gender', 'country'])\n",
    "u"
   ]
  },
  {
   "cell_type": "code",
   "execution_count": 117,
   "id": "0ded1a7f-bfd8-4bc8-8558-4984876cb234",
   "metadata": {},
   "outputs": [
    {
     "data": {
      "text/plain": [
       "pandas.core.series.Series"
      ]
     },
     "execution_count": 117,
     "metadata": {},
     "output_type": "execute_result"
    }
   ],
   "source": [
    "type(u.loc(0)[0])"
   ]
  },
  {
   "cell_type": "code",
   "execution_count": 118,
   "id": "af3cbf5e-2278-465e-94c1-7f8f695c4710",
   "metadata": {},
   "outputs": [
    {
     "data": {
      "text/plain": [
       "0.5066204999999999"
      ]
     },
     "execution_count": 118,
     "metadata": {},
     "output_type": "execute_result"
    }
   ],
   "source": [
    "s.computeSimilarity(u.loc(0)[0], u.loc(0)[1])"
   ]
  },
  {
   "cell_type": "code",
   "execution_count": 119,
   "id": "08a7194e-a421-4ccc-acc2-2a39582e7485",
   "metadata": {},
   "outputs": [],
   "source": [
    "import pandas as pd"
   ]
  },
  {
   "cell_type": "code",
   "execution_count": 120,
   "id": "55ad5c4a-e0d3-4786-b460-a9621d110f43",
   "metadata": {},
   "outputs": [],
   "source": [
    "users = pd.read_csv(\"data/Prado_users_scaled.csv\")"
   ]
  },
  {
   "cell_type": "code",
   "execution_count": 121,
   "id": "73e20862-5d4e-4e17-bd2d-878e8a146a56",
   "metadata": {},
   "outputs": [
    {
     "data": {
      "text/plain": [
       "1.0"
      ]
     },
     "execution_count": 121,
     "metadata": {},
     "output_type": "execute_result"
    }
   ],
   "source": [
    "s.computeSimilarity(users.loc(0)[0], users.loc(0)[0])"
   ]
  },
  {
   "cell_type": "code",
   "execution_count": 128,
   "id": "2a9f16e1-3379-4b01-ac88-9abb9e38ecc7",
   "metadata": {},
   "outputs": [
    {
     "data": {
      "text/html": [
       "<div>\n",
       "<style scoped>\n",
       "    .dataframe tbody tr th:only-of-type {\n",
       "        vertical-align: middle;\n",
       "    }\n",
       "\n",
       "    .dataframe tbody tr th {\n",
       "        vertical-align: top;\n",
       "    }\n",
       "\n",
       "    .dataframe thead th {\n",
       "        text-align: right;\n",
       "    }\n",
       "</style>\n",
       "<table border=\"1\" class=\"dataframe\">\n",
       "  <thead>\n",
       "    <tr style=\"text-align: right;\">\n",
       "      <th></th>\n",
       "      <th>age</th>\n",
       "      <th>gender</th>\n",
       "      <th>country</th>\n",
       "    </tr>\n",
       "  </thead>\n",
       "  <tbody>\n",
       "    <tr>\n",
       "      <th>0</th>\n",
       "      <td>4.107464</td>\n",
       "      <td>2.021723</td>\n",
       "      <td>1.787405</td>\n",
       "    </tr>\n",
       "    <tr>\n",
       "      <th>1</th>\n",
       "      <td>2.347123</td>\n",
       "      <td>0.000000</td>\n",
       "      <td>1.787405</td>\n",
       "    </tr>\n",
       "    <tr>\n",
       "      <th>2</th>\n",
       "      <td>1.760342</td>\n",
       "      <td>0.000000</td>\n",
       "      <td>1.787405</td>\n",
       "    </tr>\n",
       "    <tr>\n",
       "      <th>3</th>\n",
       "      <td>1.760342</td>\n",
       "      <td>0.000000</td>\n",
       "      <td>1.787405</td>\n",
       "    </tr>\n",
       "    <tr>\n",
       "      <th>4</th>\n",
       "      <td>2.933903</td>\n",
       "      <td>2.021723</td>\n",
       "      <td>1.787405</td>\n",
       "    </tr>\n",
       "    <tr>\n",
       "      <th>...</th>\n",
       "      <td>...</td>\n",
       "      <td>...</td>\n",
       "      <td>...</td>\n",
       "    </tr>\n",
       "    <tr>\n",
       "      <th>166</th>\n",
       "      <td>3.520684</td>\n",
       "      <td>2.021723</td>\n",
       "      <td>1.787405</td>\n",
       "    </tr>\n",
       "    <tr>\n",
       "      <th>167</th>\n",
       "      <td>3.520684</td>\n",
       "      <td>2.021723</td>\n",
       "      <td>1.787405</td>\n",
       "    </tr>\n",
       "    <tr>\n",
       "      <th>168</th>\n",
       "      <td>2.347123</td>\n",
       "      <td>0.000000</td>\n",
       "      <td>1.787405</td>\n",
       "    </tr>\n",
       "    <tr>\n",
       "      <th>169</th>\n",
       "      <td>3.520684</td>\n",
       "      <td>2.021723</td>\n",
       "      <td>1.787405</td>\n",
       "    </tr>\n",
       "    <tr>\n",
       "      <th>170</th>\n",
       "      <td>4.107464</td>\n",
       "      <td>2.021723</td>\n",
       "      <td>1.787405</td>\n",
       "    </tr>\n",
       "  </tbody>\n",
       "</table>\n",
       "<p>171 rows × 3 columns</p>\n",
       "</div>"
      ],
      "text/plain": [
       "          age    gender   country\n",
       "0    4.107464  2.021723  1.787405\n",
       "1    2.347123  0.000000  1.787405\n",
       "2    1.760342  0.000000  1.787405\n",
       "3    1.760342  0.000000  1.787405\n",
       "4    2.933903  2.021723  1.787405\n",
       "..        ...       ...       ...\n",
       "166  3.520684  2.021723  1.787405\n",
       "167  3.520684  2.021723  1.787405\n",
       "168  2.347123  0.000000  1.787405\n",
       "169  3.520684  2.021723  1.787405\n",
       "170  4.107464  2.021723  1.787405\n",
       "\n",
       "[171 rows x 3 columns]"
      ]
     },
     "execution_count": 128,
     "metadata": {},
     "output_type": "execute_result"
    }
   ],
   "source": [
    "users_clean = users.drop(columns=\"userId\")\n",
    "users_clean"
   ]
  },
  {
   "cell_type": "code",
   "execution_count": 129,
   "id": "06507abc-7dc6-42f9-861d-bf3247320769",
   "metadata": {},
   "outputs": [
    {
     "data": {
      "text/html": [
       "<div>\n",
       "<style scoped>\n",
       "    .dataframe tbody tr th:only-of-type {\n",
       "        vertical-align: middle;\n",
       "    }\n",
       "\n",
       "    .dataframe tbody tr th {\n",
       "        vertical-align: top;\n",
       "    }\n",
       "\n",
       "    .dataframe thead th {\n",
       "        text-align: right;\n",
       "    }\n",
       "</style>\n",
       "<table border=\"1\" class=\"dataframe\">\n",
       "  <thead>\n",
       "    <tr style=\"text-align: right;\">\n",
       "      <th></th>\n",
       "      <th>age</th>\n",
       "      <th>gender</th>\n",
       "      <th>country</th>\n",
       "      <th>userId</th>\n",
       "    </tr>\n",
       "  </thead>\n",
       "  <tbody>\n",
       "    <tr>\n",
       "      <th>0</th>\n",
       "      <td>4.107464</td>\n",
       "      <td>2.021723</td>\n",
       "      <td>1.787405</td>\n",
       "      <td>1</td>\n",
       "    </tr>\n",
       "    <tr>\n",
       "      <th>1</th>\n",
       "      <td>2.347123</td>\n",
       "      <td>0.000000</td>\n",
       "      <td>1.787405</td>\n",
       "      <td>2</td>\n",
       "    </tr>\n",
       "    <tr>\n",
       "      <th>2</th>\n",
       "      <td>1.760342</td>\n",
       "      <td>0.000000</td>\n",
       "      <td>1.787405</td>\n",
       "      <td>3</td>\n",
       "    </tr>\n",
       "    <tr>\n",
       "      <th>3</th>\n",
       "      <td>1.760342</td>\n",
       "      <td>0.000000</td>\n",
       "      <td>1.787405</td>\n",
       "      <td>4</td>\n",
       "    </tr>\n",
       "    <tr>\n",
       "      <th>4</th>\n",
       "      <td>2.933903</td>\n",
       "      <td>2.021723</td>\n",
       "      <td>1.787405</td>\n",
       "      <td>5</td>\n",
       "    </tr>\n",
       "    <tr>\n",
       "      <th>...</th>\n",
       "      <td>...</td>\n",
       "      <td>...</td>\n",
       "      <td>...</td>\n",
       "      <td>...</td>\n",
       "    </tr>\n",
       "    <tr>\n",
       "      <th>166</th>\n",
       "      <td>3.520684</td>\n",
       "      <td>2.021723</td>\n",
       "      <td>1.787405</td>\n",
       "      <td>298</td>\n",
       "    </tr>\n",
       "    <tr>\n",
       "      <th>167</th>\n",
       "      <td>3.520684</td>\n",
       "      <td>2.021723</td>\n",
       "      <td>1.787405</td>\n",
       "      <td>299</td>\n",
       "    </tr>\n",
       "    <tr>\n",
       "      <th>168</th>\n",
       "      <td>2.347123</td>\n",
       "      <td>0.000000</td>\n",
       "      <td>1.787405</td>\n",
       "      <td>300</td>\n",
       "    </tr>\n",
       "    <tr>\n",
       "      <th>169</th>\n",
       "      <td>3.520684</td>\n",
       "      <td>2.021723</td>\n",
       "      <td>1.787405</td>\n",
       "      <td>301</td>\n",
       "    </tr>\n",
       "    <tr>\n",
       "      <th>170</th>\n",
       "      <td>4.107464</td>\n",
       "      <td>2.021723</td>\n",
       "      <td>1.787405</td>\n",
       "      <td>306</td>\n",
       "    </tr>\n",
       "  </tbody>\n",
       "</table>\n",
       "<p>171 rows × 4 columns</p>\n",
       "</div>"
      ],
      "text/plain": [
       "          age    gender   country  userId\n",
       "0    4.107464  2.021723  1.787405       1\n",
       "1    2.347123  0.000000  1.787405       2\n",
       "2    1.760342  0.000000  1.787405       3\n",
       "3    1.760342  0.000000  1.787405       4\n",
       "4    2.933903  2.021723  1.787405       5\n",
       "..        ...       ...       ...     ...\n",
       "166  3.520684  2.021723  1.787405     298\n",
       "167  3.520684  2.021723  1.787405     299\n",
       "168  2.347123  0.000000  1.787405     300\n",
       "169  3.520684  2.021723  1.787405     301\n",
       "170  4.107464  2.021723  1.787405     306\n",
       "\n",
       "[171 rows x 4 columns]"
      ]
     },
     "execution_count": 129,
     "metadata": {},
     "output_type": "execute_result"
    }
   ],
   "source": [
    "users"
   ]
  },
  {
   "cell_type": "code",
   "execution_count": 131,
   "id": "70c3423b-6bdf-4a58-a488-7ba2abc9757a",
   "metadata": {},
   "outputs": [],
   "source": [
    "users_similarity = []\n",
    "for i in range(0, len(users)):\n",
    "    sim_list = []\n",
    "    for j in range(0, len(users)):\n",
    "        sim = s.computeSimilarity(users_clean.loc(0)[i], users_clean.loc(0)[j])\n",
    "        sim_list.append(sim)\n",
    "        \n",
    "    users_similarity.append(sim_list)"
   ]
  },
  {
   "cell_type": "code",
   "execution_count": 132,
   "id": "8626ff5e-d001-4c49-bafb-6bfef22cd5d9",
   "metadata": {},
   "outputs": [
    {
     "name": "stdout",
     "output_type": "stream",
     "text": [
      "1.0\n"
     ]
    }
   ],
   "source": [
    "print(users_similarity[2][2])"
   ]
  },
  {
   "cell_type": "code",
   "execution_count": 133,
   "id": "bf0eb068-f0aa-4597-8c5a-399e5e291085",
   "metadata": {},
   "outputs": [],
   "source": [
    "for i in range(len(users_similarity)):\n",
    "    users_similarity"
   ]
  }
 ],
 "metadata": {
  "kernelspec": {
   "display_name": "Python 3 (ipykernel)",
   "language": "python",
   "name": "python3"
  },
  "language_info": {
   "codemirror_mode": {
    "name": "ipython",
    "version": 3
   },
   "file_extension": ".py",
   "mimetype": "text/x-python",
   "name": "python",
   "nbconvert_exporter": "python",
   "pygments_lexer": "ipython3",
   "version": "3.9.7"
  }
 },
 "nbformat": 4,
 "nbformat_minor": 5
}

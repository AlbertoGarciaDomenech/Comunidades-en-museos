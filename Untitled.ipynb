{
 "cells": [
  {
   "cell_type": "code",
   "execution_count": 1,
   "id": "04e2deae-6427-4687-89c3-d41579e33b8d",
   "metadata": {},
   "outputs": [],
   "source": [
    "from src.SimilarityUsers import SimilarityUsers\n",
    "from src.SimilarityArtworks import SimilarityArtworks"
   ]
  },
  {
   "cell_type": "code",
   "execution_count": 3,
   "id": "cd85ca24-4586-4b2d-a154-df793aac840b",
   "metadata": {},
   "outputs": [
    {
     "data": {
      "text/plain": [
       "0.88"
      ]
     },
     "execution_count": 3,
     "metadata": {},
     "output_type": "execute_result"
    }
   ],
   "source": [
    "SimilarityArtworks().computeSimilarity('57726f48edc2cb3880ba012f', '57726f56edc2cb3880ba7233')"
   ]
  }
 ],
 "metadata": {
  "kernelspec": {
   "display_name": "Python 3 (ipykernel)",
   "language": "python",
   "name": "python3"
  },
  "language_info": {
   "codemirror_mode": {
    "name": "ipython",
    "version": 3
   },
   "file_extension": ".py",
   "mimetype": "text/x-python",
   "name": "python",
   "nbconvert_exporter": "python",
   "pygments_lexer": "ipython3",
   "version": "3.9.7"
  }
 },
 "nbformat": 4,
 "nbformat_minor": 5
}

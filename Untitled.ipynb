{
 "cells": [
  {
   "cell_type": "code",
   "execution_count": 1,
   "id": "6df249d7-b0e7-4109-a6f9-de685d5e06b4",
   "metadata": {},
   "outputs": [],
   "source": [
    "import pandas as pd\n",
    "import ipywidgets as widgets\n",
    "from os import listdir\n",
    "from os.path import isfile, join\n",
    "import pandas as pd\n",
    "\n",
    "from src.SimilarityUsers import SimilarityUsers\n",
    "from src.SimilarityArtworks import SimilarityArtworks\n",
    "from src.UsersClustering import UsersClustering\n",
    "from src.AverageUser import AverageUser\n",
    "from src.ArtworksMatrix import ArtworksMatrix\n",
    "from src.UsersMatrix import UsersMatrix\n",
    "from src.gephiVisualization import GephiVisualization"
   ]
  },
  {
   "cell_type": "code",
   "execution_count": 2,
   "id": "7d49e3a5-c709-46cc-aed8-8e62c17570ec",
   "metadata": {},
   "outputs": [],
   "source": [
    "import inspect\n",
    "\n",
    "def inner_classes_list(cls):\n",
    "    return [cls_attribute.__name__ for cls_attribute in cls.__dict__.values()\n",
    "            if inspect.isclass(cls_attribute)]\n",
    "            # and issubclass(cls_attribute, SimilarityFunctionInterface)]"
   ]
  },
  {
   "cell_type": "code",
   "execution_count": 51,
   "id": "0f638c24-f01e-4199-8b07-2d8a2e540448",
   "metadata": {},
   "outputs": [
    {
     "name": "stdout",
     "output_type": "stream",
     "text": [
      "Hello, please push the continue button\n"
     ]
    },
    {
     "data": {
      "application/vnd.jupyter.widget-view+json": {
       "model_id": "15ba179008a3474f81ca8b66f96350f7",
       "version_major": 2,
       "version_minor": 0
      },
      "text/plain": [
       "Button(description='continue', style=ButtonStyle())"
      ]
     },
     "metadata": {},
     "output_type": "display_data"
    },
    {
     "data": {
      "application/vnd.jupyter.widget-view+json": {
       "model_id": "be4437e4bfa84692872093e8da2e8795",
       "version_major": 2,
       "version_minor": 0
      },
      "text/plain": [
       "Output()"
      ]
     },
     "metadata": {},
     "output_type": "display_data"
    }
   ],
   "source": [
    "output = widgets.Output()\n",
    "\n",
    "@output.capture(clear_output=False,wait=True) \n",
    "def sayHello(b):\n",
    "    print(\"You have pushed the button, congratulations I guess.\")\n",
    "\n",
    "run_button = widgets.Button(\n",
    "      description = 'continue'\n",
    ")\n",
    "print(\"Hello, please push the continue button\")\n",
    "run_button.on_click(sayHello)\n",
    "display(run_button)\n",
    "output"
   ]
  },
  {
   "cell_type": "code",
   "execution_count": null,
   "id": "96de4042-8c71-48a3-bae9-f7992cf450c0",
   "metadata": {},
   "outputs": [
    {
     "data": {
      "application/vnd.jupyter.widget-view+json": {
       "model_id": "79db6b880a5b489fbc4b2821860c20e9",
       "version_major": 2,
       "version_minor": 0
      },
      "text/plain": [
       "Dropdown(description='Users:', index=14, options=('artworkColors.json', 'artworkEmotions.json', 'Clean_users.c…"
      ]
     },
     "metadata": {},
     "output_type": "display_data"
    },
    {
     "data": {
      "application/vnd.jupyter.widget-view+json": {
       "model_id": "b2ef3a173bf04f20ae1909f9cace7d95",
       "version_major": 2,
       "version_minor": 0
      },
      "text/plain": [
       "Dropdown(description='Items:', index=8, options=('artworkColors.json', 'artworkEmotions.json', 'Clean_users.cs…"
      ]
     },
     "metadata": {},
     "output_type": "display_data"
    },
    {
     "name": "stdin",
     "output_type": "stream",
     "text": [
      "1 \n"
     ]
    },
    {
     "data": {
      "application/vnd.jupyter.widget-view+json": {
       "model_id": "7e4f5ad22d7e4939a18d5e3e0cf37096",
       "version_major": 2,
       "version_minor": 0
      },
      "text/plain": [
       "Dropdown(description='ID', options=(None, 'SimilarityArtist', 'SimilarityCategory', 'SimilarityColors'), value…"
      ]
     },
     "metadata": {},
     "output_type": "display_data"
    },
    {
     "data": {
      "application/vnd.jupyter.widget-view+json": {
       "model_id": "7ac270b9619b4bec92233f8ae62a13cd",
       "version_major": 2,
       "version_minor": 0
      },
      "text/plain": [
       "Dropdown(description='Category', options=(None, 'SimilarityArtist', 'SimilarityCategory', 'SimilarityColors'),…"
      ]
     },
     "metadata": {},
     "output_type": "display_data"
    },
    {
     "data": {
      "application/vnd.jupyter.widget-view+json": {
       "model_id": "bc5f452160ff4b0b8331837074bef35f",
       "version_major": 2,
       "version_minor": 0
      },
      "text/plain": [
       "Dropdown(description='Artist', options=(None, 'SimilarityArtist', 'SimilarityCategory', 'SimilarityColors'), v…"
      ]
     },
     "metadata": {},
     "output_type": "display_data"
    },
    {
     "data": {
      "application/vnd.jupyter.widget-view+json": {
       "model_id": "74b9f0a141f942a184fdb0f7420af9be",
       "version_major": 2,
       "version_minor": 0
      },
      "text/plain": [
       "Dropdown(description='Title', options=(None, 'SimilarityArtist', 'SimilarityCategory', 'SimilarityColors'), va…"
      ]
     },
     "metadata": {},
     "output_type": "display_data"
    },
    {
     "data": {
      "application/vnd.jupyter.widget-view+json": {
       "model_id": "d04bd44a290a4701b6367eeec2d60994",
       "version_major": 2,
       "version_minor": 0
      },
      "text/plain": [
       "Dropdown(description='Year', options=(None, 'SimilarityArtist', 'SimilarityCategory', 'SimilarityColors'), val…"
      ]
     },
     "metadata": {},
     "output_type": "display_data"
    },
    {
     "data": {
      "application/vnd.jupyter.widget-view+json": {
       "model_id": "eeb097a228de450d98f92962ae4d1217",
       "version_major": 2,
       "version_minor": 0
      },
      "text/plain": [
       "Dropdown(description='Image URL', options=(None, 'SimilarityArtist', 'SimilarityCategory', 'SimilarityColors')…"
      ]
     },
     "metadata": {},
     "output_type": "display_data"
    },
    {
     "data": {
      "application/vnd.jupyter.widget-view+json": {
       "model_id": "378c517bed6b4cb4aa1c362d6ca04c62",
       "version_major": 2,
       "version_minor": 0
      },
      "text/plain": [
       "Dropdown(description='Painting Info URL', options=(None, 'SimilarityArtist', 'SimilarityCategory', 'Similarity…"
      ]
     },
     "metadata": {},
     "output_type": "display_data"
    },
    {
     "data": {
      "application/vnd.jupyter.widget-view+json": {
       "model_id": "e18789696faf45ba877a2b6007d49b65",
       "version_major": 2,
       "version_minor": 0
      },
      "text/plain": [
       "Dropdown(description='Artist Info URL', options=(None, 'SimilarityArtist', 'SimilarityCategory', 'SimilarityCo…"
      ]
     },
     "metadata": {},
     "output_type": "display_data"
    },
    {
     "data": {
      "application/vnd.jupyter.widget-view+json": {
       "model_id": "a50c8d2a3a8847088ad18107f2af51d1",
       "version_major": 2,
       "version_minor": 0
      },
      "text/plain": [
       "Dropdown(description='Location', options=(None, 'SimilarityArtist', 'SimilarityCategory', 'SimilarityColors'),…"
      ]
     },
     "metadata": {},
     "output_type": "display_data"
    },
    {
     "data": {
      "application/vnd.jupyter.widget-view+json": {
       "model_id": "65d74fdac502471fac7d0754dc13de44",
       "version_major": 2,
       "version_minor": 0
      },
      "text/plain": [
       "Dropdown(description='wd:paintingID', options=(None, 'SimilarityArtist', 'SimilarityCategory', 'SimilarityColo…"
      ]
     },
     "metadata": {},
     "output_type": "display_data"
    },
    {
     "data": {
      "application/vnd.jupyter.widget-view+json": {
       "model_id": "df341a38b58e4401a59821e700daaa87",
       "version_major": 2,
       "version_minor": 0
      },
      "text/plain": [
       "Dropdown(description='wd:paintingURL', options=(None, 'SimilarityArtist', 'SimilarityCategory', 'SimilarityCol…"
      ]
     },
     "metadata": {},
     "output_type": "display_data"
    },
    {
     "data": {
      "application/vnd.jupyter.widget-view+json": {
       "model_id": "ea1445e74bee41f69d83026b014522e7",
       "version_major": 2,
       "version_minor": 0
      },
      "text/plain": [
       "Dropdown(description='wd:artistID', options=(None, 'SimilarityArtist', 'SimilarityCategory', 'SimilarityColors…"
      ]
     },
     "metadata": {},
     "output_type": "display_data"
    },
    {
     "data": {
      "application/vnd.jupyter.widget-view+json": {
       "model_id": "5d55b0fb3c4345d1bb62a4e237c67d7c",
       "version_major": 2,
       "version_minor": 0
      },
      "text/plain": [
       "Dropdown(description='wd:artistURL', options=(None, 'SimilarityArtist', 'SimilarityCategory', 'SimilarityColor…"
      ]
     },
     "metadata": {},
     "output_type": "display_data"
    },
    {
     "data": {
      "application/vnd.jupyter.widget-view+json": {
       "model_id": "e1d966c2912f407a9f81e3e945a7fd69",
       "version_major": 2,
       "version_minor": 0
      },
      "text/plain": [
       "Dropdown(description='Colors', options=('artworkColors.json', 'artworkEmotions.json', 'Clean_users.csv', 'coun…"
      ]
     },
     "metadata": {},
     "output_type": "display_data"
    }
   ],
   "source": [
    "def cargarDatos():\n",
    "  mypath = 'data'\n",
    "  files = [f for f in listdir(mypath) if isfile(join(mypath, f))]\n",
    "\n",
    "  usersDropdown = widgets.Dropdown(\n",
    "      options=files,\n",
    "      value='Prado_users_emotions_OnePolarity.csv',\n",
    "      description='Users:',\n",
    "      disabled=False,\n",
    "  )\n",
    "  itemsDropdown = widgets.Dropdown(\n",
    "      options=files,\n",
    "      value='Prado_artworks_wikidata.csv',\n",
    "      description='Items:',\n",
    "      disabled=False,\n",
    "  )\n",
    "\n",
    "  display(usersDropdown)\n",
    "  display(itemsDropdown)\n",
    "  \n",
    "  \n",
    "  return usersDropdown, itemsDropdown\n",
    "\n",
    "def elegirSimilitudItems(usersDropdown, itemsDropdown):\n",
    "  mypath = 'data'\n",
    "  files = [f for f in listdir(mypath) if isfile(join(mypath, f))]\n",
    "  users = pd.read_csv(mypath + '/' + usersDropdown.value, index_col=0)\n",
    "  artworks = pd.read_csv(mypath + '/' + itemsDropdown.value)\n",
    "  functions = [None]\n",
    "  functions.extend(inner_classes_list(SimilarityArtworks))\n",
    "\n",
    "  dropdowns = {}\n",
    "  for col in artworks.columns:\n",
    "    dropdowns[col] = widgets.Dropdown(options=functions, value=None, description=col, disabled=False)\n",
    "\n",
    "  colorDropdown = widgets.Dropdown(options=files, value=None, description='Colors', disabled=False)\n",
    "\n",
    "  for key, value in dropdowns.items():\n",
    "    display(value)\n",
    "  display(colorDropdown)\n",
    "\n",
    "def elegirPesosItems():\n",
    "  mypath = 'data'\n",
    "  files = [f for f in listdir(mypath) if isfile(join(mypath, f))]\n",
    "  floatTexts = {}\n",
    "  for key, value in dropdowns.items():\n",
    "    if value.value is not None:\n",
    "      floatTexts[key] = widgets.FloatText(value=0.3, description=key, disabled=False)\n",
    "\n",
    "  if colorDropdown.value is not None:\n",
    "    colorFloatText = widgets.FloatText(value=0.3, description='Colors', disabled=False)\n",
    "\n",
    "  for key, value in floatTexts.items():\n",
    "    display(value)\n",
    "\n",
    "  if colorDropdown.value is not None:\n",
    "    display(colorFloatText)  \n",
    "\n",
    "def main():\n",
    "  output = widgets.Output()\n",
    "  users, artworks = cargarDatos()\n",
    "  wait = input(1)\n",
    "  elegirSimilitudItems(users, artworks)\n",
    "  wait = input(2)\n",
    "  elegirPesosItems()\n",
    "  # wait = input(3)\n",
    "\n",
    "  # elegirSimilitudItems()\n",
    "  # # Boton\n",
    "  # elegirPesosItems()\n",
    "  # # Boton\n",
    "  # calcularSimItems()\n",
    "      \n",
    "main()"
   ]
  },
  {
   "cell_type": "code",
   "execution_count": 5,
   "id": "ca135ac3-eae3-4039-b0f8-1610e307a01a",
   "metadata": {},
   "outputs": [
    {
     "data": {
      "application/vnd.jupyter.widget-view+json": {
       "model_id": "7492644e002948a5a7dc5c19d39fad9c",
       "version_major": 2,
       "version_minor": 0
      },
      "text/plain": [
       "HBox(children=(Button(description='wow', style=ButtonStyle()), Button(description='wow2', style=ButtonStyle())…"
      ]
     },
     "metadata": {},
     "output_type": "display_data"
    },
    {
     "name": "stdout",
     "output_type": "stream",
     "text": [
      "going to tag  one\n"
     ]
    }
   ],
   "source": [
    "from ipywidgets import Button, HBox #<----- Add HBox for displaying multiple buttons\n",
    "import asyncio\n",
    "\n",
    "def wait_for_change(widget1, widget2): #<------ Rename to widget1, and add widget2\n",
    "    future = asyncio.Future()\n",
    "    def getvalue(change):\n",
    "        future.set_result(change.description)\n",
    "        widget1.on_click(getvalue, remove=True) #<------ Rename to widget1\n",
    "        widget2.on_click(getvalue, remove=True) #<------ New widget2\n",
    "        # we need to free up the binding to getvalue to avoid an IvalidState error\n",
    "        # buttons don't support unobserve\n",
    "        # so use `remove=True` \n",
    "    widget1.on_click(getvalue) #<------ Rename to widget1\n",
    "    widget2.on_click(getvalue) #<------ New widget2\n",
    "    return future\n",
    "\n",
    "button1=Button(description=\"wow\") #<------ Rename to button1\n",
    "button2=Button(description=\"wow2\") #<------ New button2 and description\n",
    "\n",
    "list_to_tag = [\"one\", \"two\", \"three\", \"four\"]\n",
    "\n",
    "async def f():\n",
    "    for i in list_to_tag:\n",
    "        print('going to tag ', i)\n",
    "        x = await wait_for_change(button1,button2) #<---- Pass both buttons into the function\n",
    "        if x == \"wow\": #<--- use if statement to trigger different events for the two buttons\n",
    "            print(\"tagged \", i, \"with  %s\"%x)\n",
    "        else:\n",
    "            print(i, \"tagged with %s\"%x)\n",
    "        print(\"\")\n",
    "        print(\"\")\n",
    "\n",
    "asyncio.create_task(f())\n",
    "HBox([button1,button2]) #<----Display both buttons in an HBox"
   ]
  },
  {
   "cell_type": "code",
   "execution_count": 43,
   "id": "3c4d45a5-cc21-47a4-84d4-2150ee438d60",
   "metadata": {},
   "outputs": [
    {
     "data": {
      "application/vnd.jupyter.widget-view+json": {
       "model_id": "f8f4e54d693e441cb47bf0a39002b2ef",
       "version_major": 2,
       "version_minor": 0
      },
      "text/plain": [
       "Button(description='DONE', style=ButtonStyle())"
      ]
     },
     "metadata": {},
     "output_type": "display_data"
    },
    {
     "data": {
      "application/vnd.jupyter.widget-view+json": {
       "model_id": "1a7c2062ee1b4f44af8cb003b8897090",
       "version_major": 2,
       "version_minor": 0
      },
      "text/plain": [
       "Output()"
      ]
     },
     "metadata": {},
     "output_type": "display_data"
    }
   ],
   "source": [
    "output = widgets.Output()\n",
    "\n",
    "@output.capture(clear_output=False,wait=True) \n",
    "def cargarDatos(b):\n",
    "  mypath = 'data'\n",
    "  files = [f for f in listdir(mypath) if isfile(join(mypath, f))]\n",
    "\n",
    "  usersDropdown = widgets.Dropdown(\n",
    "      options=files,\n",
    "      value='Prado_users_emotions_OnePolarity.csv',\n",
    "      description='Users:',\n",
    "      disabled=False,\n",
    "  )\n",
    "  itemsDropdown = widgets.Dropdown(\n",
    "      options=files,\n",
    "      value='Prado_artworks_wikidata.csv',\n",
    "      description='Items:',\n",
    "      disabled=False,\n",
    "  )\n",
    "\n",
    "  display(usersDropdown)\n",
    "  display(itemsDropdown)\n",
    "  \n",
    "\n",
    "@output.capture(clear_output=False,wait=True) \n",
    "def paso1(b):\n",
    "  users = pd.read_csv(mypath + '/' + usersDropdown.value, index_col=0)\n",
    "  artworks = pd.read_csv(mypath + '/' + itemsDropdown.value)\n",
    "  \n",
    "  functions = [None]\n",
    "  functions.extend(inner_classes_list(SimilarityArtworks))\n",
    "\n",
    "  dropdowns = {}\n",
    "  for col in artworks.columns:\n",
    "    dropdowns[col] = widgets.Dropdown(options=functions, value=None, description=col, disabled=False)\n",
    "\n",
    "  colorDropdown = widgets.Dropdown(options=files, value=None, description='Colors', disabled=False)\n",
    "\n",
    "  for key, value in dropdowns.items():\n",
    "    display(value)\n",
    "  display(colorDropdown)\n",
    "\n",
    "\n",
    "# Boton\n",
    "run_button = widgets.Button(\n",
    "    description = 'DONE'\n",
    ")\n",
    "run_button.on_click(cargarDatos)\n",
    "display(run_button)\n",
    "\n",
    "output\n",
    "# elegirSimilitudItems()\n",
    "# # Boton\n",
    "# elegirPesosItems()\n",
    "# # Boton\n",
    "# calcularSimItems()"
   ]
  },
  {
   "cell_type": "code",
   "execution_count": 65,
   "id": "06272229-7a2f-433a-9af4-579766e1fbd0",
   "metadata": {},
   "outputs": [
    {
     "data": {
      "application/vnd.jupyter.widget-view+json": {
       "model_id": "e48833de82b04f0ca56bc455d5d13a06",
       "version_major": 2,
       "version_minor": 0
      },
      "text/plain": [
       "Dropdown(description='Users:', index=14, options=('artworkColors.json', 'artworkEmotions.json', 'Clean_users.c…"
      ]
     },
     "metadata": {},
     "output_type": "display_data"
    },
    {
     "data": {
      "application/vnd.jupyter.widget-view+json": {
       "model_id": "ab0a8a19064c47388cff55e117386563",
       "version_major": 2,
       "version_minor": 0
      },
      "text/plain": [
       "Dropdown(description='Items:', index=8, options=('artworkColors.json', 'artworkEmotions.json', 'Clean_users.cs…"
      ]
     },
     "metadata": {},
     "output_type": "display_data"
    },
    {
     "data": {
      "application/vnd.jupyter.widget-view+json": {
       "model_id": "7ac55d94d63f4c1297094e0c638f47e2",
       "version_major": 2,
       "version_minor": 0
      },
      "text/plain": [
       "Button(description='DONE', style=ButtonStyle())"
      ]
     },
     "metadata": {},
     "output_type": "display_data"
    },
    {
     "data": {
      "application/vnd.jupyter.widget-view+json": {
       "model_id": "9e236dd8de55429ca7872dc82a93c370",
       "version_major": 2,
       "version_minor": 0
      },
      "text/plain": [
       "Output()"
      ]
     },
     "metadata": {},
     "output_type": "display_data"
    }
   ],
   "source": [
    "output = widgets.Output()\n",
    "\n",
    "mypath = 'data'\n",
    "files = [f for f in listdir(mypath) if isfile(join(mypath, f))]\n",
    "\n",
    "usersDropdown = widgets.Dropdown(\n",
    "    options=files,\n",
    "    value='Prado_users_emotions_OnePolarity.csv',\n",
    "    description='Users:',\n",
    "    disabled=False,\n",
    ")\n",
    "itemsDropdown = widgets.Dropdown(\n",
    "    options=files,\n",
    "    value='Prado_artworks_wikidata.csv',\n",
    "    description='Items:',\n",
    "    disabled=False,\n",
    ")\n",
    "\n",
    "display(usersDropdown)\n",
    "display(itemsDropdown)\n",
    "\n",
    "@output.capture(clear_output=False,wait=True) \n",
    "def paso1(b):\n",
    "  users = pd.read_csv(mypath + '/' + usersDropdown.value, index_col=0)\n",
    "  artworks = pd.read_csv(mypath + '/' + itemsDropdown.value)\n",
    "  \n",
    "  return users, artworks\n",
    "  \n",
    "  # run_button = widgets.Button(\n",
    "  #       description = 'DONE'\n",
    "  # )\n",
    "  # run_button.on_click(paso2)\n",
    "  # display(run_button)\n",
    "  # output\n",
    "\n",
    "#####\n",
    "run_button = widgets.Button(\n",
    "      description = 'DONE'\n",
    ")\n",
    "run_button.on_click(paso1)\n",
    "display(run_button)\n",
    "\n",
    "#####\n",
    "\n",
    "@output.capture(clear_output=False,wait=True) \n",
    "def paso2(b):\n",
    "  floatTexts = {}\n",
    "  for key, value in dropdowns.items():\n",
    "    if value.value is not None:\n",
    "      floatTexts[key] = widgets.FloatText(value=0.3, description=key, disabled=False)\n",
    "\n",
    "  if colorDropdown.value is not None:\n",
    "    colorFloatText = widgets.FloatText(value=0.3, description='Colors', disabled=False)\n",
    "\n",
    "  for key, value in floatTexts.items():\n",
    "    display(value)\n",
    "\n",
    "  if colorDropdown.value is not None:\n",
    "    display(colorFloatText)\n",
    "    \n",
    "    \n",
    "output"
   ]
  },
  {
   "cell_type": "code",
   "execution_count": null,
   "id": "6b098134-b237-40b7-9054-fda1c1a709ca",
   "metadata": {},
   "outputs": [],
   "source": []
  }
 ],
 "metadata": {
  "kernelspec": {
   "display_name": "Python 3 (ipykernel)",
   "language": "python",
   "name": "python3"
  },
  "language_info": {
   "codemirror_mode": {
    "name": "ipython",
    "version": 3
   },
   "file_extension": ".py",
   "mimetype": "text/x-python",
   "name": "python",
   "nbconvert_exporter": "python",
   "pygments_lexer": "ipython3",
   "version": "3.9.7"
  }
 },
 "nbformat": 4,
 "nbformat_minor": 5
}

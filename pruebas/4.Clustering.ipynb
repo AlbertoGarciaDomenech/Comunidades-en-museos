{
 "cells": [
  {
   "cell_type": "markdown",
   "id": "733eb3af-5dd2-49f7-ab5a-e0403c897df6",
   "metadata": {
    "tags": []
   },
   "source": [
    "# Clustering de usuarios\n",
    "Agrupar a los usuarios en función de las funciones de las matrices de similitud generadas\n",
    "\n",
    "---"
   ]
  },
  {
   "cell_type": "code",
   "execution_count": 1,
   "id": "d65df0b6-e015-4006-bd1b-1199b18e1154",
   "metadata": {},
   "outputs": [],
   "source": [
    "import numpy as np\n",
    "import pandas as pd\n",
    "import matplotlib.pyplot as plt\n",
    "import seaborn as sns\n",
    "\n",
    "from sklearn_extra.cluster import KMedoids\n",
    "from sklearn.metrics import davies_bouldin_score"
   ]
  },
  {
   "cell_type": "code",
   "execution_count": 2,
   "id": "d60eef35-3dd4-47cb-bf4a-bf4149bf4907",
   "metadata": {},
   "outputs": [],
   "source": [
    "users = pd.read_csv('data/Prado_users_similarity_OnePolarity.csv', index_col=0)\n",
    "##users = pd.read_csv('data/Prado_users_similarity.csv', index_col=0)\n",
    "prado_users = pd.read_csv('data/Prado_users_scaled.csv', index_col=0)"
   ]
  },
  {
   "cell_type": "markdown",
   "id": "7c98e8c0-f2fd-42e9-8615-295d3b02f641",
   "metadata": {},
   "source": [
    "## 1. Número óptimo de clusters"
   ]
  },
  {
   "cell_type": "code",
   "execution_count": 5,
   "id": "b874fe81-de5f-447e-81ff-4a741c6fae70",
   "metadata": {},
   "outputs": [
    {
     "ename": "ValueError",
     "evalue": "Number of labels is 1. Valid values are 2 to n_samples - 1 (inclusive)",
     "output_type": "error",
     "traceback": [
      "\u001b[1;31m---------------------------------------------------------------------------\u001b[0m",
      "\u001b[1;31mValueError\u001b[0m                                Traceback (most recent call last)",
      "\u001b[1;32m~\\AppData\\Local\\Temp/ipykernel_20856/4056394690.py\u001b[0m in \u001b[0;36m<module>\u001b[1;34m\u001b[0m\n\u001b[0;32m      5\u001b[0m     \u001b[0mkm\u001b[0m \u001b[1;33m=\u001b[0m \u001b[0mKMedoids\u001b[0m\u001b[1;33m(\u001b[0m\u001b[0mmetric\u001b[0m\u001b[1;33m=\u001b[0m\u001b[1;34m'precomputed'\u001b[0m\u001b[1;33m,\u001b[0m \u001b[0mn_clusters\u001b[0m\u001b[1;33m=\u001b[0m\u001b[0mk\u001b[0m\u001b[1;33m)\u001b[0m\u001b[1;33m\u001b[0m\u001b[1;33m\u001b[0m\u001b[0m\n\u001b[0;32m      6\u001b[0m     \u001b[0mkm\u001b[0m\u001b[1;33m.\u001b[0m\u001b[0mfit\u001b[0m\u001b[1;33m(\u001b[0m\u001b[0musers\u001b[0m\u001b[1;33m)\u001b[0m\u001b[1;33m\u001b[0m\u001b[1;33m\u001b[0m\u001b[0m\n\u001b[1;32m----> 7\u001b[1;33m     \u001b[0mdavies_boulding\u001b[0m\u001b[1;33m[\u001b[0m\u001b[0mk\u001b[0m\u001b[1;33m-\u001b[0m\u001b[1;36m1\u001b[0m\u001b[1;33m]\u001b[0m \u001b[1;33m=\u001b[0m \u001b[0mdavies_bouldin_score\u001b[0m\u001b[1;33m(\u001b[0m\u001b[0musers\u001b[0m\u001b[1;33m,\u001b[0m \u001b[0mkm\u001b[0m\u001b[1;33m.\u001b[0m\u001b[0mlabels_\u001b[0m\u001b[1;33m)\u001b[0m\u001b[1;33m\u001b[0m\u001b[1;33m\u001b[0m\u001b[0m\n\u001b[0m",
      "\u001b[1;32m~\\AppData\\Roaming\\Python\\Python39\\site-packages\\sklearn\\metrics\\cluster\\_unsupervised.py\u001b[0m in \u001b[0;36mdavies_bouldin_score\u001b[1;34m(X, labels)\u001b[0m\n\u001b[0;32m    342\u001b[0m     \u001b[0mn_samples\u001b[0m\u001b[1;33m,\u001b[0m \u001b[0m_\u001b[0m \u001b[1;33m=\u001b[0m \u001b[0mX\u001b[0m\u001b[1;33m.\u001b[0m\u001b[0mshape\u001b[0m\u001b[1;33m\u001b[0m\u001b[1;33m\u001b[0m\u001b[0m\n\u001b[0;32m    343\u001b[0m     \u001b[0mn_labels\u001b[0m \u001b[1;33m=\u001b[0m \u001b[0mlen\u001b[0m\u001b[1;33m(\u001b[0m\u001b[0mle\u001b[0m\u001b[1;33m.\u001b[0m\u001b[0mclasses_\u001b[0m\u001b[1;33m)\u001b[0m\u001b[1;33m\u001b[0m\u001b[1;33m\u001b[0m\u001b[0m\n\u001b[1;32m--> 344\u001b[1;33m     \u001b[0mcheck_number_of_labels\u001b[0m\u001b[1;33m(\u001b[0m\u001b[0mn_labels\u001b[0m\u001b[1;33m,\u001b[0m \u001b[0mn_samples\u001b[0m\u001b[1;33m)\u001b[0m\u001b[1;33m\u001b[0m\u001b[1;33m\u001b[0m\u001b[0m\n\u001b[0m\u001b[0;32m    345\u001b[0m \u001b[1;33m\u001b[0m\u001b[0m\n\u001b[0;32m    346\u001b[0m     \u001b[0mintra_dists\u001b[0m \u001b[1;33m=\u001b[0m \u001b[0mnp\u001b[0m\u001b[1;33m.\u001b[0m\u001b[0mzeros\u001b[0m\u001b[1;33m(\u001b[0m\u001b[0mn_labels\u001b[0m\u001b[1;33m)\u001b[0m\u001b[1;33m\u001b[0m\u001b[1;33m\u001b[0m\u001b[0m\n",
      "\u001b[1;32m~\\AppData\\Roaming\\Python\\Python39\\site-packages\\sklearn\\metrics\\cluster\\_unsupervised.py\u001b[0m in \u001b[0;36mcheck_number_of_labels\u001b[1;34m(n_labels, n_samples)\u001b[0m\n\u001b[0;32m     32\u001b[0m     \"\"\"\n\u001b[0;32m     33\u001b[0m     \u001b[1;32mif\u001b[0m \u001b[1;32mnot\u001b[0m \u001b[1;36m1\u001b[0m \u001b[1;33m<\u001b[0m \u001b[0mn_labels\u001b[0m \u001b[1;33m<\u001b[0m \u001b[0mn_samples\u001b[0m\u001b[1;33m:\u001b[0m\u001b[1;33m\u001b[0m\u001b[1;33m\u001b[0m\u001b[0m\n\u001b[1;32m---> 34\u001b[1;33m         raise ValueError(\"Number of labels is %d. Valid values are 2 \"\n\u001b[0m\u001b[0;32m     35\u001b[0m                          \"to n_samples - 1 (inclusive)\" % n_labels)\n\u001b[0;32m     36\u001b[0m \u001b[1;33m\u001b[0m\u001b[0m\n",
      "\u001b[1;31mValueError\u001b[0m: Number of labels is 1. Valid values are 2 to n_samples - 1 (inclusive)"
     ]
    }
   ],
   "source": [
    "%%capture output\n",
    "K_MAX = 11\n",
    "davies_boulding = np.zeros(K_MAX-1)\n",
    "\n",
    "for k in range(1, K_MAX):\n",
    "    km = KMedoids(metric='precomputed', n_clusters=k)\n",
    "    km.fit(users)\n",
    "    davies_boulding[k-1] = davies_bouldin_score(users, km.labels_)"
   ]
  },
  {
   "cell_type": "code",
   "execution_count": 7,
   "id": "66b28400-7735-4c2e-be5b-4528f42fc4ec",
   "metadata": {},
   "outputs": [
    {
     "name": "stdout",
     "output_type": "stream",
     "text": [
      "[2.5113492  5.19858712 2.95818749 2.2583727  4.02425194 3.1082991\n",
      " 3.88898984 2.63176403 4.1799833 ]\n"
     ]
    },
    {
     "data": {
      "image/png": "[encoded data removed]",
      "text/plain": [
       "<Figure size 432x288 with 1 Axes>"
      ]
     },
     "metadata": {
      "needs_background": "light"
     },
     "output_type": "display_data"
    }
   ],
   "source": [
    "plt.plot(range(2, K_MAX), davies_boulding)\n",
    "plt.title('Valor de Davies Boulding para diferentes k')\n",
    "\n",
    "print(davies_boulding)\n",
    "plt.show()"
   ]
  },
  {
   "cell_type": "code",
   "execution_count": 8,
   "id": "99055faf-5701-4448-89ce-5fbdfae765b9",
   "metadata": {},
   "outputs": [
    {
     "name": "stdout",
     "output_type": "stream",
     "text": [
      "Min: 2.2583726975841665, Arg: 3, Val: 5\n"
     ]
    }
   ],
   "source": [
    "min_val = np.min(davies_boulding)\n",
    "min_arg = np.argmin(davies_boulding)\n",
    "\n",
    "print(\"Min: {}, Arg: {}, Val: {}\".format(min_val, min_arg, range(2, K_MAX)[min_arg]))"
   ]
  },
  {
   "cell_type": "markdown",
   "id": "aec9d406-ce24-4e27-ad78-50f0aab57414",
   "metadata": {},
   "source": [
    "## 2. Clustering"
   ]
  },
  {
   "cell_type": "code",
   "execution_count": 6,
   "id": "17298609-1fc4-4788-844f-92e50c50d57e",
   "metadata": {},
   "outputs": [],
   "source": [
    "%%capture output\n",
    "\n",
    "kmedoids = KMedoids(metric='precomputed', n_clusters=5)\n",
    "\n",
    "kmedoids.fit(users)"
   ]
  },
  {
   "cell_type": "code",
   "execution_count": 10,
   "id": "c8e0afb6-cdba-463e-bea8-533462f9e604",
   "metadata": {},
   "outputs": [
    {
     "data": {
      "text/plain": [
       "Counter({2: 38, 0: 51, 4: 18, 1: 38, 3: 26})"
      ]
     },
     "execution_count": 10,
     "metadata": {},
     "output_type": "execute_result"
    }
   ],
   "source": [
    "import collections\n",
    "collections.Counter(kmedoids.labels_)"
   ]
  },
  {
   "cell_type": "code",
   "execution_count": 4,
   "id": "4922fef8-f9c5-424d-bff5-59d32f6c92b1",
   "metadata": {},
   "outputs": [
    {
     "data": {
      "text/plain": [
       "array([144,  98, 111, 152, 115], dtype=int64)"
      ]
     },
     "execution_count": 4,
     "metadata": {},
     "output_type": "execute_result"
    }
   ],
   "source": [
    "kmedoids.medoid_indices_"
   ]
  },
  {
   "cell_type": "code",
   "execution_count": 12,
   "id": "804e2f07-e469-45e5-b778-f8d5e0622b51",
   "metadata": {},
   "outputs": [
    {
     "data": {
      "text/plain": [
       "2.9951688158240817"
      ]
     },
     "execution_count": 12,
     "metadata": {},
     "output_type": "execute_result"
    }
   ],
   "source": [
    "davies_bouldin_score(prado_users, kmedoids.labels_)"
   ]
  },
  {
   "cell_type": "code",
   "execution_count": 14,
   "id": "accb5e81-251d-4290-8c1f-72180d9dba74",
   "metadata": {},
   "outputs": [],
   "source": [
    "def add_medoids(data):\n",
    "  medoids = np.empty(len(data))\n",
    "  for i in range(len(data)):\n",
    "    for idx, m in enumerate(kmedoids.medoid_indices_):\n",
    "      if i == m:\n",
    "        medoids[i] = idx\n",
    "        break\n",
    "      else:\n",
    "        medoids[i] = -1\n",
    "  return medoids"
   ]
  },
  {
   "cell_type": "code",
   "execution_count": 15,
   "id": "9a252363-1676-4cd6-b13f-e9f6d6279833",
   "metadata": {},
   "outputs": [],
   "source": [
    "users_clustered = pd.read_csv(\"data/Prado_users.csv\")\n",
    "users_clustered['cluster'] = kmedoids.labels_\n",
    "users_clustered['medoid'] = add_medoids(users_clustered)\n",
    "\n",
    "users_scaled_clustered = pd.read_csv(\"data/Prado_users_scaled.csv\")\n",
    "users_scaled_clustered['cluster'] = kmedoids.labels_\n",
    "users_scaled_clustered['medoid'] = add_medoids(users_scaled_clustered)"
   ]
  },
  {
   "cell_type": "code",
   "execution_count": 16,
   "id": "d3107721-a06c-4fa3-88c4-e55bd1db08a6",
   "metadata": {},
   "outputs": [],
   "source": [
    "users_clustered.to_csv(\"data/Prado_users_clusters_OnePolarity.csv\", index=0)\n",
    "users_scaled_clustered.to_csv(\"data/Prado_users_scaled_clusters_OnePolarity.csv\", index=0)"
   ]
  },
  {
   "cell_type": "code",
   "execution_count": 12,
   "id": "47d465a7-0d04-4180-bca3-a5092b87bda6",
   "metadata": {},
   "outputs": [],
   "source": [
    "#### EXPLICADOR\n",
    "users_explicador_clustered = pd.read_csv(\"data/Prado_users_individuo_explicador.csv\")\n",
    "users_explicador_clustered['cluster'] = kmedoids.labels_\n",
    "users_explicador_clustered['medoid'] = add_medoids(users_explicador_clustered)\n",
    "\n",
    "users_explicador_clustered.to_csv(\"data/Prado_users_explicador_clusters.csv\", index=0)"
   ]
  },
  {
   "cell_type": "markdown",
   "id": "df25019c-b275-4bd6-8010-80be6ce955ae",
   "metadata": {},
   "source": [
    "## ------"
   ]
  },
  {
   "cell_type": "code",
   "execution_count": 16,
   "id": "7ea96654-9591-4a96-bcfc-a84533f57459",
   "metadata": {},
   "outputs": [],
   "source": [
    "%%capture output\n",
    "km = KMedoids(metric='precomputed', n_clusters=2)\n",
    "km.fit(users)"
   ]
  },
  {
   "cell_type": "code",
   "execution_count": 18,
   "id": "79a6b59e-12f9-41dc-95be-4cb1ee24e75f",
   "metadata": {},
   "outputs": [
    {
     "data": {
      "text/plain": [
       "array([140, 129], dtype=int64)"
      ]
     },
     "execution_count": 18,
     "metadata": {},
     "output_type": "execute_result"
    }
   ],
   "source": [
    "km.medoid_indices_"
   ]
  },
  {
   "cell_type": "markdown",
   "id": "aa9a5720-5da0-42a7-9bcc-e87d4ee58331",
   "metadata": {},
   "source": [
    "## ------"
   ]
  },
  {
   "cell_type": "code",
   "execution_count": 27,
   "id": "11c1b11d-b7eb-4f5a-8d2c-5fc670e51084",
   "metadata": {},
   "outputs": [],
   "source": [
    "def show_clusters(data, labels):\n",
    "  palette = sns.color_palette('hls', n_colors=len(set(labels)))\n",
    "  sns.scatterplot(x=data.iloc[:, 0], y=data.iloc[:, 1], hue=labels, palette=palette)\n",
    "  plt.axis('off')\n",
    "  plt.show()"
   ]
  },
  {
   "cell_type": "code",
   "execution_count": 28,
   "id": "e4973171-1430-45a4-b8bc-2844bd100dea",
   "metadata": {},
   "outputs": [
    {
     "data": {
      "image/png": "[encoded data removed]",
      "text/plain": [
       "<Figure size 432x288 with 1 Axes>"
      ]
     },
     "metadata": {
      "needs_background": "light"
     },
     "output_type": "display_data"
    }
   ],
   "source": [
    "show_clusters(users, km.labels_)"
   ]
  },
  {
   "cell_type": "code",
   "execution_count": null,
   "id": "a57f0cb1-6c76-43e0-bebc-4da33241b233",
   "metadata": {},
   "outputs": [],
   "source": []
  }
 ],
 "metadata": {
  "kernelspec": {
   "display_name": "Python 3 (ipykernel)",
   "language": "python",
   "name": "python3"
  },
  "language_info": {
   "codemirror_mode": {
    "name": "ipython",
    "version": 3
   },
   "file_extension": ".py",
   "mimetype": "text/x-python",
   "name": "python",
   "nbconvert_exporter": "python",
   "pygments_lexer": "ipython3",
   "version": "3.9.7"
  }
 },
 "nbformat": 4,
 "nbformat_minor": 5
}

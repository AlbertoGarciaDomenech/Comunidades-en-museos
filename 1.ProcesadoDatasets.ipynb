{
 "cells": [
  {
   "cell_type": "markdown",
   "id": "b6938d02-d0d1-4b74-9431-a5cf6e81a882",
   "metadata": {},
   "source": [
    "# Procesado de los datasets inciales \n",
    "Primer vistazo a los datasets iniciales y preprocesado inicial para trabajar con ellos posteriormente. \n",
    "\n",
    "---"
   ]
  },
  {
   "cell_type": "code",
   "execution_count": 1,
   "id": "0371e286-c5a9-4d79-bdab-2904eeb57ace",
   "metadata": {},
   "outputs": [],
   "source": [
    "import numpy as np\n",
    "import pandas as pd"
   ]
  },
  {
   "cell_type": "markdown",
   "id": "b018b6b7-b1d2-4fa1-8b58-f2bce32e9f15",
   "metadata": {
    "tags": []
   },
   "source": [
    "## 1. Importar datos\n",
    "- **clean_users**: genero, edad, categoria, regularidad, id\n",
    "- **Prado_artworks_wikidata**: cuadros\n",
    "- **Prado_emotions**: user, cuadro, emotion, polaridad\n",
    "- **Prado_users**: id, edad, genero, pais"
   ]
  },
  {
   "cell_type": "code",
   "execution_count": 2,
   "id": "41b4ed3f-eb28-432a-92d5-29a98403c639",
   "metadata": {},
   "outputs": [],
   "source": [
    "clean_users_data = \"data/clean_users.csv\"\n",
    "cuadros_data = \"data/Prado_artworks_wikidata.csv\"\n",
    "emotions_data = \"data/Prado_emotions.csv\"\n",
    "prado_users_data = \"data/Prado_users.csv\"\n",
    "\n",
    "clean_users  = pd.read_csv(clean_users_data)\n",
    "cuadros = pd.read_csv(cuadros_data)\n",
    "emotions = pd.read_csv(emotions_data)\n",
    "prado_users = pd.read_csv(prado_users_data)"
   ]
  },
  {
   "cell_type": "code",
   "execution_count": 23,
   "id": "28e5a76f-009d-4e82-b422-73c5cb692c7a",
   "metadata": {},
   "outputs": [
    {
     "name": "stdout",
     "output_type": "stream",
     "text": [
      "(90, 6)\n"
     ]
    },
    {
     "data": {
      "text/html": [
       "<div>\n",
       "<style scoped>\n",
       "    .dataframe tbody tr th:only-of-type {\n",
       "        vertical-align: middle;\n",
       "    }\n",
       "\n",
       "    .dataframe tbody tr th {\n",
       "        vertical-align: top;\n",
       "    }\n",
       "\n",
       "    .dataframe thead th {\n",
       "        text-align: right;\n",
       "    }\n",
       "</style>\n",
       "<table border=\"1\" class=\"dataframe\">\n",
       "  <thead>\n",
       "    <tr style=\"text-align: right;\">\n",
       "      <th></th>\n",
       "      <th>user-gender</th>\n",
       "      <th>user-age</th>\n",
       "      <th>userCategory</th>\n",
       "      <th>museumVisits</th>\n",
       "      <th>timestamp</th>\n",
       "      <th>userId</th>\n",
       "    </tr>\n",
       "  </thead>\n",
       "  <tbody>\n",
       "    <tr>\n",
       "      <th>0</th>\n",
       "      <td>Female</td>\n",
       "      <td>47.0</td>\n",
       "      <td>['Favourite-Painter']</td>\n",
       "      <td>['Rarely']</td>\n",
       "      <td>2021-04-16 12:23:31</td>\n",
       "      <td>1</td>\n",
       "    </tr>\n",
       "    <tr>\n",
       "      <th>1</th>\n",
       "      <td>Male</td>\n",
       "      <td>40.0</td>\n",
       "      <td>['Favourite-Painter']</td>\n",
       "      <td>['Sporadic']</td>\n",
       "      <td>2021-04-16 12:37:09</td>\n",
       "      <td>2</td>\n",
       "    </tr>\n",
       "    <tr>\n",
       "      <th>2</th>\n",
       "      <td>Female</td>\n",
       "      <td>34.0</td>\n",
       "      <td>['Amateur']</td>\n",
       "      <td>['Like-Museums']</td>\n",
       "      <td>2021-04-16 13:16:14</td>\n",
       "      <td>3</td>\n",
       "    </tr>\n",
       "  </tbody>\n",
       "</table>\n",
       "</div>"
      ],
      "text/plain": [
       "  user-gender  user-age           userCategory      museumVisits  \\\n",
       "0      Female      47.0  ['Favourite-Painter']        ['Rarely']   \n",
       "1        Male      40.0  ['Favourite-Painter']      ['Sporadic']   \n",
       "2      Female      34.0            ['Amateur']  ['Like-Museums']   \n",
       "\n",
       "             timestamp  userId  \n",
       "0  2021-04-16 12:23:31       1  \n",
       "1  2021-04-16 12:37:09       2  \n",
       "2  2021-04-16 13:16:14       3  "
      ]
     },
     "execution_count": 23,
     "metadata": {},
     "output_type": "execute_result"
    }
   ],
   "source": [
    "print(clean_users.shape)\n",
    "clean_users.head(3)"
   ]
  },
  {
   "cell_type": "code",
   "execution_count": 24,
   "id": "b3fa9a08-4083-41e3-937f-21c84c076165",
   "metadata": {},
   "outputs": [
    {
     "name": "stdout",
     "output_type": "stream",
     "text": [
      "(30, 13)\n"
     ]
    },
    {
     "data": {
      "text/html": [
       "<div>\n",
       "<style scoped>\n",
       "    .dataframe tbody tr th:only-of-type {\n",
       "        vertical-align: middle;\n",
       "    }\n",
       "\n",
       "    .dataframe tbody tr th {\n",
       "        vertical-align: top;\n",
       "    }\n",
       "\n",
       "    .dataframe thead th {\n",
       "        text-align: right;\n",
       "    }\n",
       "</style>\n",
       "<table border=\"1\" class=\"dataframe\">\n",
       "  <thead>\n",
       "    <tr style=\"text-align: right;\">\n",
       "      <th></th>\n",
       "      <th>ID</th>\n",
       "      <th>Category</th>\n",
       "      <th>Artist</th>\n",
       "      <th>Title</th>\n",
       "      <th>Year</th>\n",
       "      <th>Image URL</th>\n",
       "      <th>Painting Info URL</th>\n",
       "      <th>Artist Info URL</th>\n",
       "      <th>Location</th>\n",
       "      <th>wd:paintingID</th>\n",
       "      <th>wd:paintingURL</th>\n",
       "      <th>wd:artistID</th>\n",
       "      <th>wd:artistURL</th>\n",
       "    </tr>\n",
       "  </thead>\n",
       "  <tbody>\n",
       "    <tr>\n",
       "      <th>0</th>\n",
       "      <td>57726f48edc2cb3880ba012f</td>\n",
       "      <td>Romanticism</td>\n",
       "      <td>Francisco Goya</td>\n",
       "      <td>Charles IV of Spain and his family</td>\n",
       "      <td>1800</td>\n",
       "      <td>https://uploads7.wikiart.org/images/francisco-...</td>\n",
       "      <td>https://www.wikiart.org/en/francisco-goya/char...</td>\n",
       "      <td>https://www.wikiart.org/en/francisco-goya</td>\n",
       "      <td>Museo del Prado, Madrid, Spain</td>\n",
       "      <td>Q920030</td>\n",
       "      <td>http://www.wikidata.org/entity/Q920030</td>\n",
       "      <td>Q5432</td>\n",
       "      <td>http://www.wikidata.org/entity/Q5432</td>\n",
       "    </tr>\n",
       "    <tr>\n",
       "      <th>1</th>\n",
       "      <td>57726e34edc2cb3880b62340</td>\n",
       "      <td>High Renaissance</td>\n",
       "      <td>Correggio</td>\n",
       "      <td>Noli Me Tangere</td>\n",
       "      <td>1534</td>\n",
       "      <td>https://uploads1.wikiart.org/images/correggio/...</td>\n",
       "      <td>https://www.wikiart.org/en/correggio/noli-me-t...</td>\n",
       "      <td>https://www.wikiart.org/en/correggio</td>\n",
       "      <td>Museo del Prado, Madrid, Spain</td>\n",
       "      <td>Q124362</td>\n",
       "      <td>http://www.wikidata.org/entity/Q124362</td>\n",
       "      <td>Q8457</td>\n",
       "      <td>http://www.wikidata.org/entity/Q8457</td>\n",
       "    </tr>\n",
       "    <tr>\n",
       "      <th>2</th>\n",
       "      <td>57726f56edc2cb3880ba7233</td>\n",
       "      <td>Romanticism</td>\n",
       "      <td>Francisco Goya</td>\n",
       "      <td>Summer, or The Harvest</td>\n",
       "      <td>1786</td>\n",
       "      <td>https://uploads3.wikiart.org/images/francisco-...</td>\n",
       "      <td>https://www.wikiart.org/en/francisco-goya/summ...</td>\n",
       "      <td>https://www.wikiart.org/en/francisco-goya</td>\n",
       "      <td>Museo del Prado, Madrid, Spain</td>\n",
       "      <td>Q5849818</td>\n",
       "      <td>http://www.wikidata.org/entity/Q5849818</td>\n",
       "      <td>Q5432</td>\n",
       "      <td>http://www.wikidata.org/entity/Q5432</td>\n",
       "    </tr>\n",
       "  </tbody>\n",
       "</table>\n",
       "</div>"
      ],
      "text/plain": [
       "                         ID          Category          Artist  \\\n",
       "0  57726f48edc2cb3880ba012f       Romanticism  Francisco Goya   \n",
       "1  57726e34edc2cb3880b62340  High Renaissance       Correggio   \n",
       "2  57726f56edc2cb3880ba7233       Romanticism  Francisco Goya   \n",
       "\n",
       "                                Title  Year  \\\n",
       "0  Charles IV of Spain and his family  1800   \n",
       "1                     Noli Me Tangere  1534   \n",
       "2              Summer, or The Harvest  1786   \n",
       "\n",
       "                                           Image URL  \\\n",
       "0  https://uploads7.wikiart.org/images/francisco-...   \n",
       "1  https://uploads1.wikiart.org/images/correggio/...   \n",
       "2  https://uploads3.wikiart.org/images/francisco-...   \n",
       "\n",
       "                                   Painting Info URL  \\\n",
       "0  https://www.wikiart.org/en/francisco-goya/char...   \n",
       "1  https://www.wikiart.org/en/correggio/noli-me-t...   \n",
       "2  https://www.wikiart.org/en/francisco-goya/summ...   \n",
       "\n",
       "                             Artist Info URL                        Location  \\\n",
       "0  https://www.wikiart.org/en/francisco-goya  Museo del Prado, Madrid, Spain   \n",
       "1       https://www.wikiart.org/en/correggio  Museo del Prado, Madrid, Spain   \n",
       "2  https://www.wikiart.org/en/francisco-goya  Museo del Prado, Madrid, Spain   \n",
       "\n",
       "  wd:paintingID                           wd:paintingURL wd:artistID  \\\n",
       "0       Q920030   http://www.wikidata.org/entity/Q920030       Q5432   \n",
       "1       Q124362   http://www.wikidata.org/entity/Q124362       Q8457   \n",
       "2      Q5849818  http://www.wikidata.org/entity/Q5849818       Q5432   \n",
       "\n",
       "                           wd:artistURL  \n",
       "0  http://www.wikidata.org/entity/Q5432  \n",
       "1  http://www.wikidata.org/entity/Q8457  \n",
       "2  http://www.wikidata.org/entity/Q5432  "
      ]
     },
     "execution_count": 24,
     "metadata": {},
     "output_type": "execute_result"
    }
   ],
   "source": [
    "print(cuadros.shape)\n",
    "cuadros.head(3)"
   ]
  },
  {
   "cell_type": "code",
   "execution_count": 25,
   "id": "ff661b63-dfbf-460c-8673-20934a578d95",
   "metadata": {},
   "outputs": [
    {
     "name": "stdout",
     "output_type": "stream",
     "text": [
      "(1759, 4)\n"
     ]
    },
    {
     "data": {
      "text/html": [
       "<div>\n",
       "<style scoped>\n",
       "    .dataframe tbody tr th:only-of-type {\n",
       "        vertical-align: middle;\n",
       "    }\n",
       "\n",
       "    .dataframe tbody tr th {\n",
       "        vertical-align: top;\n",
       "    }\n",
       "\n",
       "    .dataframe thead th {\n",
       "        text-align: right;\n",
       "    }\n",
       "</style>\n",
       "<table border=\"1\" class=\"dataframe\">\n",
       "  <thead>\n",
       "    <tr style=\"text-align: right;\">\n",
       "      <th></th>\n",
       "      <th>userId</th>\n",
       "      <th>artworkId</th>\n",
       "      <th>emotion</th>\n",
       "      <th>Polarity</th>\n",
       "    </tr>\n",
       "  </thead>\n",
       "  <tbody>\n",
       "    <tr>\n",
       "      <th>0</th>\n",
       "      <td>6</td>\n",
       "      <td>5772700eedc2cb3880bc82ce</td>\n",
       "      <td>trust</td>\n",
       "      <td>positive</td>\n",
       "    </tr>\n",
       "    <tr>\n",
       "      <th>1</th>\n",
       "      <td>20</td>\n",
       "      <td>5772700eedc2cb3880bc82ce</td>\n",
       "      <td>fear</td>\n",
       "      <td>negative</td>\n",
       "    </tr>\n",
       "    <tr>\n",
       "      <th>2</th>\n",
       "      <td>20</td>\n",
       "      <td>5772700eedc2cb3880bc82ce</td>\n",
       "      <td>sadness</td>\n",
       "      <td>negative</td>\n",
       "    </tr>\n",
       "  </tbody>\n",
       "</table>\n",
       "</div>"
      ],
      "text/plain": [
       "   userId                 artworkId  emotion  Polarity\n",
       "0       6  5772700eedc2cb3880bc82ce    trust  positive\n",
       "1      20  5772700eedc2cb3880bc82ce     fear  negative\n",
       "2      20  5772700eedc2cb3880bc82ce  sadness  negative"
      ]
     },
     "execution_count": 25,
     "metadata": {},
     "output_type": "execute_result"
    }
   ],
   "source": [
    "print(emotions.shape)\n",
    "emotions.head(3)"
   ]
  },
  {
   "cell_type": "code",
   "execution_count": 26,
   "id": "bbbf4524-6162-4f43-aec1-b4a5516ac588",
   "metadata": {},
   "outputs": [
    {
     "name": "stdout",
     "output_type": "stream",
     "text": [
      "(171, 4)\n"
     ]
    },
    {
     "data": {
      "text/html": [
       "<div>\n",
       "<style scoped>\n",
       "    .dataframe tbody tr th:only-of-type {\n",
       "        vertical-align: middle;\n",
       "    }\n",
       "\n",
       "    .dataframe tbody tr th {\n",
       "        vertical-align: top;\n",
       "    }\n",
       "\n",
       "    .dataframe thead th {\n",
       "        text-align: right;\n",
       "    }\n",
       "</style>\n",
       "<table border=\"1\" class=\"dataframe\">\n",
       "  <thead>\n",
       "    <tr style=\"text-align: right;\">\n",
       "      <th></th>\n",
       "      <th>userId</th>\n",
       "      <th>age</th>\n",
       "      <th>gender</th>\n",
       "      <th>country</th>\n",
       "    </tr>\n",
       "  </thead>\n",
       "  <tbody>\n",
       "    <tr>\n",
       "      <th>0</th>\n",
       "      <td>1</td>\n",
       "      <td>55-64</td>\n",
       "      <td>male</td>\n",
       "      <td>Spain</td>\n",
       "    </tr>\n",
       "    <tr>\n",
       "      <th>1</th>\n",
       "      <td>2</td>\n",
       "      <td>25-34</td>\n",
       "      <td>female</td>\n",
       "      <td>Spain</td>\n",
       "    </tr>\n",
       "    <tr>\n",
       "      <th>2</th>\n",
       "      <td>3</td>\n",
       "      <td>18-24</td>\n",
       "      <td>female</td>\n",
       "      <td>Spain</td>\n",
       "    </tr>\n",
       "  </tbody>\n",
       "</table>\n",
       "</div>"
      ],
      "text/plain": [
       "   userId    age  gender country\n",
       "0       1  55-64    male   Spain\n",
       "1       2  25-34  female   Spain\n",
       "2       3  18-24  female   Spain"
      ]
     },
     "execution_count": 26,
     "metadata": {},
     "output_type": "execute_result"
    }
   ],
   "source": [
    "print(prado_users.shape)\n",
    "prado_users.head(3)"
   ]
  },
  {
   "cell_type": "markdown",
   "id": "88bb9e0c-d350-49a1-8a37-edc09201d037",
   "metadata": {
    "tags": []
   },
   "source": [
    "## 2. Procesar datos"
   ]
  },
  {
   "cell_type": "markdown",
   "id": "8c89eadd-dc85-41a7-977c-e9394ea9be6f",
   "metadata": {
    "tags": []
   },
   "source": [
    "#### - Reducir paises a regiones:\n",
    "> Ya que el dataset de prado_users tiene pais vamos a utilizar el dataset \"countries of the world\" para identificar las regiones de las que proceden"
   ]
  },
  {
   "cell_type": "code",
   "execution_count": 3,
   "id": "8fe275e2-3a82-403b-b69f-d6881b274f6e",
   "metadata": {},
   "outputs": [
    {
     "data": {
      "text/html": [
       "<div>\n",
       "<style scoped>\n",
       "    .dataframe tbody tr th:only-of-type {\n",
       "        vertical-align: middle;\n",
       "    }\n",
       "\n",
       "    .dataframe tbody tr th {\n",
       "        vertical-align: top;\n",
       "    }\n",
       "\n",
       "    .dataframe thead th {\n",
       "        text-align: right;\n",
       "    }\n",
       "</style>\n",
       "<table border=\"1\" class=\"dataframe\">\n",
       "  <thead>\n",
       "    <tr style=\"text-align: right;\">\n",
       "      <th></th>\n",
       "      <th>Country</th>\n",
       "      <th>Region</th>\n",
       "    </tr>\n",
       "  </thead>\n",
       "  <tbody>\n",
       "    <tr>\n",
       "      <th>0</th>\n",
       "      <td>Afghanistan</td>\n",
       "      <td>ASIA (EX. NEAR EAST)</td>\n",
       "    </tr>\n",
       "    <tr>\n",
       "      <th>1</th>\n",
       "      <td>Albania</td>\n",
       "      <td>EASTERN EUROPE</td>\n",
       "    </tr>\n",
       "    <tr>\n",
       "      <th>2</th>\n",
       "      <td>Algeria</td>\n",
       "      <td>NORTHERN AFRICA</td>\n",
       "    </tr>\n",
       "    <tr>\n",
       "      <th>3</th>\n",
       "      <td>American Samoa</td>\n",
       "      <td>OCEANIA</td>\n",
       "    </tr>\n",
       "    <tr>\n",
       "      <th>4</th>\n",
       "      <td>Andorra</td>\n",
       "      <td>WESTERN EUROPE</td>\n",
       "    </tr>\n",
       "  </tbody>\n",
       "</table>\n",
       "</div>"
      ],
      "text/plain": [
       "          Country                               Region\n",
       "0     Afghanistan        ASIA (EX. NEAR EAST)         \n",
       "1         Albania  EASTERN EUROPE                     \n",
       "2         Algeria  NORTHERN AFRICA                    \n",
       "3  American Samoa  OCEANIA                            \n",
       "4         Andorra  WESTERN EUROPE                     "
      ]
     },
     "execution_count": 3,
     "metadata": {},
     "output_type": "execute_result"
    }
   ],
   "source": [
    "countries_data = \"data/countries_of_the_world.csv\"\n",
    "countries = pd.read_csv(countries_data)\n",
    "countries = countries.filter(items = ['Country', 'Region'])\n",
    "\n",
    "countries.head()"
   ]
  },
  {
   "cell_type": "code",
   "execution_count": 4,
   "id": "e6602fc7-2696-4988-b54c-8c73e003f86d",
   "metadata": {},
   "outputs": [],
   "source": [
    "# # Eliminar el espacio en blanco despues de cada nombre de pais\n",
    "# for i in range(0, countries.shape[0] - 1):\n",
    "#     countries.loc[i] = countries.loc[i].replace(countries.loc[i]['Country'], countries.loc[i]['Country'][:-1])"
   ]
  },
  {
   "cell_type": "code",
   "execution_count": 5,
   "id": "00115728-eb9f-4786-b31f-966198fc1cc4",
   "metadata": {},
   "outputs": [],
   "source": [
    "# countries.to_csv(\"data/countries_of_the_world.csv\")"
   ]
  },
  {
   "cell_type": "code",
   "execution_count": 6,
   "id": "bb840be5-2e1c-4f35-b7fd-edef1af3e79d",
   "metadata": {},
   "outputs": [],
   "source": [
    "# ## Sustituiremos cada pais de procedencia de prado_users por un numero q corresponda con su region\n",
    "# # Ver cuantas regiones hay\n",
    "# num_regions = 0\n",
    "# for i in countries['Region'].unique():\n",
    "#     num_regions += 1\n",
    "#     countries = countries.replace(i,num_regions)"
   ]
  },
  {
   "cell_type": "code",
   "execution_count": 7,
   "id": "4226563a-c942-4d60-8e0a-764fafee48f7",
   "metadata": {},
   "outputs": [],
   "source": [
    "# Formatear los nombres de USA y Argentina\n",
    "prado_users = prado_users.replace('USA','United States')\n",
    "prado_users = prado_users.replace('Argenitina','Argentina')"
   ]
  },
  {
   "cell_type": "code",
   "execution_count": 8,
   "id": "bddb4d6e-c469-412b-bbdd-eef67279ce7e",
   "metadata": {},
   "outputs": [],
   "source": [
    "# Reemplazar los paises por el numero de regiones\n",
    "for country in prado_users['country'].unique():\n",
    "    if country == 'Other':\n",
    "        prado_users = prado_users.replace(country,0) #sustituir por 0 los usuarios que no sabemos de donde son\n",
    "    else:\n",
    "        prado_users = prado_users.replace(country,countries.loc[countries['Country'] == country]['Region'].to_list()[0])"
   ]
  },
  {
   "cell_type": "code",
   "execution_count": 11,
   "id": "d3657beb-4806-4571-a389-c188ff1d102d",
   "metadata": {},
   "outputs": [
    {
     "data": {
      "text/plain": [
       "'NORTHERN AMERICA                   '"
      ]
     },
     "execution_count": 11,
     "metadata": {},
     "output_type": "execute_result"
    }
   ],
   "source": [
    "countries.loc[countries['Country'] == 'United States']['Region'].to_list()[0]"
   ]
  },
  {
   "cell_type": "code",
   "execution_count": 10,
   "id": "22e4c489-7bbf-4eae-b4ea-fbc967108a21",
   "metadata": {},
   "outputs": [
    {
     "data": {
      "text/html": [
       "<div>\n",
       "<style scoped>\n",
       "    .dataframe tbody tr th:only-of-type {\n",
       "        vertical-align: middle;\n",
       "    }\n",
       "\n",
       "    .dataframe tbody tr th {\n",
       "        vertical-align: top;\n",
       "    }\n",
       "\n",
       "    .dataframe thead th {\n",
       "        text-align: right;\n",
       "    }\n",
       "</style>\n",
       "<table border=\"1\" class=\"dataframe\">\n",
       "  <thead>\n",
       "    <tr style=\"text-align: right;\">\n",
       "      <th></th>\n",
       "      <th>userId</th>\n",
       "      <th>age</th>\n",
       "      <th>gender</th>\n",
       "      <th>country</th>\n",
       "    </tr>\n",
       "  </thead>\n",
       "  <tbody>\n",
       "    <tr>\n",
       "      <th>0</th>\n",
       "      <td>1</td>\n",
       "      <td>55-64</td>\n",
       "      <td>male</td>\n",
       "      <td>WESTERN EUROPE</td>\n",
       "    </tr>\n",
       "    <tr>\n",
       "      <th>1</th>\n",
       "      <td>2</td>\n",
       "      <td>25-34</td>\n",
       "      <td>female</td>\n",
       "      <td>WESTERN EUROPE</td>\n",
       "    </tr>\n",
       "    <tr>\n",
       "      <th>2</th>\n",
       "      <td>3</td>\n",
       "      <td>18-24</td>\n",
       "      <td>female</td>\n",
       "      <td>WESTERN EUROPE</td>\n",
       "    </tr>\n",
       "    <tr>\n",
       "      <th>3</th>\n",
       "      <td>4</td>\n",
       "      <td>18-24</td>\n",
       "      <td>female</td>\n",
       "      <td>WESTERN EUROPE</td>\n",
       "    </tr>\n",
       "    <tr>\n",
       "      <th>4</th>\n",
       "      <td>5</td>\n",
       "      <td>35-44</td>\n",
       "      <td>male</td>\n",
       "      <td>WESTERN EUROPE</td>\n",
       "    </tr>\n",
       "  </tbody>\n",
       "</table>\n",
       "</div>"
      ],
      "text/plain": [
       "   userId    age  gender                              country\n",
       "0       1  55-64    male  WESTERN EUROPE                     \n",
       "1       2  25-34  female  WESTERN EUROPE                     \n",
       "2       3  18-24  female  WESTERN EUROPE                     \n",
       "3       4  18-24  female  WESTERN EUROPE                     \n",
       "4       5  35-44    male  WESTERN EUROPE                     "
      ]
     },
     "execution_count": 10,
     "metadata": {},
     "output_type": "execute_result"
    }
   ],
   "source": [
    "prado_users.head()"
   ]
  },
  {
   "cell_type": "markdown",
   "id": "8981bf1f-aae7-4b1e-900a-c27efefdc511",
   "metadata": {},
   "source": [
    "#### - Formatear rangos de edades:\n",
    "> Asignar a cada rango de edad un número, igual que hicimos en el paso anterior con las regiones"
   ]
  },
  {
   "cell_type": "code",
   "execution_count": 39,
   "id": "f766673a-5abc-4075-ba19-10fe93aebf5e",
   "metadata": {},
   "outputs": [],
   "source": [
    "# Formatear los <12 y >70\n",
    "prado_users = prado_users.replace('<12', '0-12')\n",
    "prado_users = prado_users.replace('>70', '70-100')"
   ]
  },
  {
   "cell_type": "code",
   "execution_count": 42,
   "id": "5c0eca5d-4f87-4ca2-b155-44ebe82db2d2",
   "metadata": {},
   "outputs": [],
   "source": [
    "# Calcularel numero correspondiente a cada rango de edad\n",
    "age_index = 1\n",
    "\n",
    "for age_range in prado_users.sort_values(by=['age'])['age'].unique():\n",
    "    prado_users = prado_users.replace(age_range, age_index)\n",
    "    age_index += 1\n",
    "age_index -=1"
   ]
  },
  {
   "cell_type": "code",
   "execution_count": 43,
   "id": "d5bcebd7-b04b-43d2-bc37-45faa04f7c7a",
   "metadata": {},
   "outputs": [
    {
     "data": {
      "text/html": [
       "<div>\n",
       "<style scoped>\n",
       "    .dataframe tbody tr th:only-of-type {\n",
       "        vertical-align: middle;\n",
       "    }\n",
       "\n",
       "    .dataframe tbody tr th {\n",
       "        vertical-align: top;\n",
       "    }\n",
       "\n",
       "    .dataframe thead th {\n",
       "        text-align: right;\n",
       "    }\n",
       "</style>\n",
       "<table border=\"1\" class=\"dataframe\">\n",
       "  <thead>\n",
       "    <tr style=\"text-align: right;\">\n",
       "      <th></th>\n",
       "      <th>userId</th>\n",
       "      <th>age</th>\n",
       "      <th>gender</th>\n",
       "      <th>country</th>\n",
       "    </tr>\n",
       "  </thead>\n",
       "  <tbody>\n",
       "    <tr>\n",
       "      <th>0</th>\n",
       "      <td>1</td>\n",
       "      <td>7</td>\n",
       "      <td>male</td>\n",
       "      <td>5</td>\n",
       "    </tr>\n",
       "    <tr>\n",
       "      <th>1</th>\n",
       "      <td>2</td>\n",
       "      <td>4</td>\n",
       "      <td>female</td>\n",
       "      <td>5</td>\n",
       "    </tr>\n",
       "    <tr>\n",
       "      <th>2</th>\n",
       "      <td>3</td>\n",
       "      <td>3</td>\n",
       "      <td>female</td>\n",
       "      <td>5</td>\n",
       "    </tr>\n",
       "    <tr>\n",
       "      <th>3</th>\n",
       "      <td>4</td>\n",
       "      <td>3</td>\n",
       "      <td>female</td>\n",
       "      <td>5</td>\n",
       "    </tr>\n",
       "    <tr>\n",
       "      <th>4</th>\n",
       "      <td>5</td>\n",
       "      <td>5</td>\n",
       "      <td>male</td>\n",
       "      <td>5</td>\n",
       "    </tr>\n",
       "  </tbody>\n",
       "</table>\n",
       "</div>"
      ],
      "text/plain": [
       "   userId  age  gender  country\n",
       "0       1    7    male        5\n",
       "1       2    4  female        5\n",
       "2       3    3  female        5\n",
       "3       4    3  female        5\n",
       "4       5    5    male        5"
      ]
     },
     "execution_count": 43,
     "metadata": {},
     "output_type": "execute_result"
    }
   ],
   "source": [
    "prado_users.head()"
   ]
  },
  {
   "cell_type": "markdown",
   "id": "f6463aa2-8e13-4c57-9402-0224fd4ab7cb",
   "metadata": {},
   "source": [
    "#### - Formatear género:\n",
    "> Cambiar el género por un número"
   ]
  },
  {
   "cell_type": "code",
   "execution_count": 44,
   "id": "6f05c014-089d-4b9a-8f35-2836028e5090",
   "metadata": {},
   "outputs": [],
   "source": [
    "prado_users = prado_users.replace('female', 0)\n",
    "prado_users = prado_users.replace('male', 1)"
   ]
  },
  {
   "cell_type": "code",
   "execution_count": 45,
   "id": "8203e863-66d4-4262-9495-1d049117fe9d",
   "metadata": {},
   "outputs": [
    {
     "data": {
      "text/html": [
       "<div>\n",
       "<style scoped>\n",
       "    .dataframe tbody tr th:only-of-type {\n",
       "        vertical-align: middle;\n",
       "    }\n",
       "\n",
       "    .dataframe tbody tr th {\n",
       "        vertical-align: top;\n",
       "    }\n",
       "\n",
       "    .dataframe thead th {\n",
       "        text-align: right;\n",
       "    }\n",
       "</style>\n",
       "<table border=\"1\" class=\"dataframe\">\n",
       "  <thead>\n",
       "    <tr style=\"text-align: right;\">\n",
       "      <th></th>\n",
       "      <th>userId</th>\n",
       "      <th>age</th>\n",
       "      <th>gender</th>\n",
       "      <th>country</th>\n",
       "    </tr>\n",
       "  </thead>\n",
       "  <tbody>\n",
       "    <tr>\n",
       "      <th>0</th>\n",
       "      <td>1</td>\n",
       "      <td>7</td>\n",
       "      <td>1</td>\n",
       "      <td>5</td>\n",
       "    </tr>\n",
       "    <tr>\n",
       "      <th>1</th>\n",
       "      <td>2</td>\n",
       "      <td>4</td>\n",
       "      <td>0</td>\n",
       "      <td>5</td>\n",
       "    </tr>\n",
       "    <tr>\n",
       "      <th>2</th>\n",
       "      <td>3</td>\n",
       "      <td>3</td>\n",
       "      <td>0</td>\n",
       "      <td>5</td>\n",
       "    </tr>\n",
       "    <tr>\n",
       "      <th>3</th>\n",
       "      <td>4</td>\n",
       "      <td>3</td>\n",
       "      <td>0</td>\n",
       "      <td>5</td>\n",
       "    </tr>\n",
       "    <tr>\n",
       "      <th>4</th>\n",
       "      <td>5</td>\n",
       "      <td>5</td>\n",
       "      <td>1</td>\n",
       "      <td>5</td>\n",
       "    </tr>\n",
       "  </tbody>\n",
       "</table>\n",
       "</div>"
      ],
      "text/plain": [
       "   userId  age  gender  country\n",
       "0       1    7       1        5\n",
       "1       2    4       0        5\n",
       "2       3    3       0        5\n",
       "3       4    3       0        5\n",
       "4       5    5       1        5"
      ]
     },
     "execution_count": 45,
     "metadata": {},
     "output_type": "execute_result"
    }
   ],
   "source": [
    "prado_users.head()"
   ]
  },
  {
   "cell_type": "markdown",
   "id": "a9e84e7c-2a79-4dc8-bcae-a5d4e782a1c9",
   "metadata": {},
   "source": [
    "## 3. Normalizar datos\n"
   ]
  },
  {
   "cell_type": "code",
   "execution_count": 56,
   "id": "415aa6a3-b97c-415d-9d65-f72ec377aa39",
   "metadata": {},
   "outputs": [],
   "source": [
    "from sklearn.preprocessing import StandardScaler"
   ]
  },
  {
   "cell_type": "code",
   "execution_count": 57,
   "id": "ea884730-0b30-4277-bea6-37558aed0f06",
   "metadata": {},
   "outputs": [],
   "source": [
    "users_scaled = prado_users.copy()\n",
    "users_scaled.drop('userId', axis=1, inplace=True) # No queremos normalizar el id (no es necesario para el clustering)"
   ]
  },
  {
   "cell_type": "code",
   "execution_count": 58,
   "id": "59978505-f639-469c-8e67-53dfac1b1639",
   "metadata": {},
   "outputs": [],
   "source": [
    "scaler = StandardScaler(with_mean=False, with_std=True)\n",
    "\n",
    "users_scaled = pd.DataFrame(data=scaler.fit_transform(users_scaled), columns=users_scaled.columns.to_list())"
   ]
  },
  {
   "cell_type": "code",
   "execution_count": 59,
   "id": "bcfb6e38-b470-4513-a937-63feb5e376ad",
   "metadata": {},
   "outputs": [
    {
     "data": {
      "text/html": [
       "<div>\n",
       "<style scoped>\n",
       "    .dataframe tbody tr th:only-of-type {\n",
       "        vertical-align: middle;\n",
       "    }\n",
       "\n",
       "    .dataframe tbody tr th {\n",
       "        vertical-align: top;\n",
       "    }\n",
       "\n",
       "    .dataframe thead th {\n",
       "        text-align: right;\n",
       "    }\n",
       "</style>\n",
       "<table border=\"1\" class=\"dataframe\">\n",
       "  <thead>\n",
       "    <tr style=\"text-align: right;\">\n",
       "      <th></th>\n",
       "      <th>age</th>\n",
       "      <th>gender</th>\n",
       "      <th>country</th>\n",
       "    </tr>\n",
       "  </thead>\n",
       "  <tbody>\n",
       "    <tr>\n",
       "      <th>0</th>\n",
       "      <td>4.107464</td>\n",
       "      <td>2.021723</td>\n",
       "      <td>1.787405</td>\n",
       "    </tr>\n",
       "    <tr>\n",
       "      <th>1</th>\n",
       "      <td>2.347123</td>\n",
       "      <td>0.000000</td>\n",
       "      <td>1.787405</td>\n",
       "    </tr>\n",
       "    <tr>\n",
       "      <th>2</th>\n",
       "      <td>1.760342</td>\n",
       "      <td>0.000000</td>\n",
       "      <td>1.787405</td>\n",
       "    </tr>\n",
       "    <tr>\n",
       "      <th>3</th>\n",
       "      <td>1.760342</td>\n",
       "      <td>0.000000</td>\n",
       "      <td>1.787405</td>\n",
       "    </tr>\n",
       "    <tr>\n",
       "      <th>4</th>\n",
       "      <td>2.933903</td>\n",
       "      <td>2.021723</td>\n",
       "      <td>1.787405</td>\n",
       "    </tr>\n",
       "    <tr>\n",
       "      <th>...</th>\n",
       "      <td>...</td>\n",
       "      <td>...</td>\n",
       "      <td>...</td>\n",
       "    </tr>\n",
       "    <tr>\n",
       "      <th>166</th>\n",
       "      <td>3.520684</td>\n",
       "      <td>2.021723</td>\n",
       "      <td>1.787405</td>\n",
       "    </tr>\n",
       "    <tr>\n",
       "      <th>167</th>\n",
       "      <td>3.520684</td>\n",
       "      <td>2.021723</td>\n",
       "      <td>1.787405</td>\n",
       "    </tr>\n",
       "    <tr>\n",
       "      <th>168</th>\n",
       "      <td>2.347123</td>\n",
       "      <td>0.000000</td>\n",
       "      <td>1.787405</td>\n",
       "    </tr>\n",
       "    <tr>\n",
       "      <th>169</th>\n",
       "      <td>3.520684</td>\n",
       "      <td>2.021723</td>\n",
       "      <td>1.787405</td>\n",
       "    </tr>\n",
       "    <tr>\n",
       "      <th>170</th>\n",
       "      <td>4.107464</td>\n",
       "      <td>2.021723</td>\n",
       "      <td>1.787405</td>\n",
       "    </tr>\n",
       "  </tbody>\n",
       "</table>\n",
       "<p>171 rows × 3 columns</p>\n",
       "</div>"
      ],
      "text/plain": [
       "          age    gender   country\n",
       "0    4.107464  2.021723  1.787405\n",
       "1    2.347123  0.000000  1.787405\n",
       "2    1.760342  0.000000  1.787405\n",
       "3    1.760342  0.000000  1.787405\n",
       "4    2.933903  2.021723  1.787405\n",
       "..        ...       ...       ...\n",
       "166  3.520684  2.021723  1.787405\n",
       "167  3.520684  2.021723  1.787405\n",
       "168  2.347123  0.000000  1.787405\n",
       "169  3.520684  2.021723  1.787405\n",
       "170  4.107464  2.021723  1.787405\n",
       "\n",
       "[171 rows x 3 columns]"
      ]
     },
     "execution_count": 59,
     "metadata": {},
     "output_type": "execute_result"
    }
   ],
   "source": [
    "users_scaled"
   ]
  },
  {
   "cell_type": "code",
   "execution_count": 60,
   "id": "0620eaa3-a4a8-4877-8ae1-909d03633023",
   "metadata": {},
   "outputs": [],
   "source": [
    "users_scaled.insert(0, 'userId', prado_users.userId)"
   ]
  },
  {
   "cell_type": "code",
   "execution_count": 61,
   "id": "0442d303-1031-436c-bd02-11fdbe982d08",
   "metadata": {},
   "outputs": [
    {
     "data": {
      "text/html": [
       "<div>\n",
       "<style scoped>\n",
       "    .dataframe tbody tr th:only-of-type {\n",
       "        vertical-align: middle;\n",
       "    }\n",
       "\n",
       "    .dataframe tbody tr th {\n",
       "        vertical-align: top;\n",
       "    }\n",
       "\n",
       "    .dataframe thead th {\n",
       "        text-align: right;\n",
       "    }\n",
       "</style>\n",
       "<table border=\"1\" class=\"dataframe\">\n",
       "  <thead>\n",
       "    <tr style=\"text-align: right;\">\n",
       "      <th></th>\n",
       "      <th>userId</th>\n",
       "      <th>age</th>\n",
       "      <th>gender</th>\n",
       "      <th>country</th>\n",
       "    </tr>\n",
       "  </thead>\n",
       "  <tbody>\n",
       "    <tr>\n",
       "      <th>0</th>\n",
       "      <td>1</td>\n",
       "      <td>4.107464</td>\n",
       "      <td>2.021723</td>\n",
       "      <td>1.787405</td>\n",
       "    </tr>\n",
       "    <tr>\n",
       "      <th>1</th>\n",
       "      <td>2</td>\n",
       "      <td>2.347123</td>\n",
       "      <td>0.000000</td>\n",
       "      <td>1.787405</td>\n",
       "    </tr>\n",
       "    <tr>\n",
       "      <th>2</th>\n",
       "      <td>3</td>\n",
       "      <td>1.760342</td>\n",
       "      <td>0.000000</td>\n",
       "      <td>1.787405</td>\n",
       "    </tr>\n",
       "    <tr>\n",
       "      <th>3</th>\n",
       "      <td>4</td>\n",
       "      <td>1.760342</td>\n",
       "      <td>0.000000</td>\n",
       "      <td>1.787405</td>\n",
       "    </tr>\n",
       "    <tr>\n",
       "      <th>4</th>\n",
       "      <td>5</td>\n",
       "      <td>2.933903</td>\n",
       "      <td>2.021723</td>\n",
       "      <td>1.787405</td>\n",
       "    </tr>\n",
       "    <tr>\n",
       "      <th>...</th>\n",
       "      <td>...</td>\n",
       "      <td>...</td>\n",
       "      <td>...</td>\n",
       "      <td>...</td>\n",
       "    </tr>\n",
       "    <tr>\n",
       "      <th>166</th>\n",
       "      <td>298</td>\n",
       "      <td>3.520684</td>\n",
       "      <td>2.021723</td>\n",
       "      <td>1.787405</td>\n",
       "    </tr>\n",
       "    <tr>\n",
       "      <th>167</th>\n",
       "      <td>299</td>\n",
       "      <td>3.520684</td>\n",
       "      <td>2.021723</td>\n",
       "      <td>1.787405</td>\n",
       "    </tr>\n",
       "    <tr>\n",
       "      <th>168</th>\n",
       "      <td>300</td>\n",
       "      <td>2.347123</td>\n",
       "      <td>0.000000</td>\n",
       "      <td>1.787405</td>\n",
       "    </tr>\n",
       "    <tr>\n",
       "      <th>169</th>\n",
       "      <td>301</td>\n",
       "      <td>3.520684</td>\n",
       "      <td>2.021723</td>\n",
       "      <td>1.787405</td>\n",
       "    </tr>\n",
       "    <tr>\n",
       "      <th>170</th>\n",
       "      <td>306</td>\n",
       "      <td>4.107464</td>\n",
       "      <td>2.021723</td>\n",
       "      <td>1.787405</td>\n",
       "    </tr>\n",
       "  </tbody>\n",
       "</table>\n",
       "<p>171 rows × 4 columns</p>\n",
       "</div>"
      ],
      "text/plain": [
       "     userId       age    gender   country\n",
       "0         1  4.107464  2.021723  1.787405\n",
       "1         2  2.347123  0.000000  1.787405\n",
       "2         3  1.760342  0.000000  1.787405\n",
       "3         4  1.760342  0.000000  1.787405\n",
       "4         5  2.933903  2.021723  1.787405\n",
       "..      ...       ...       ...       ...\n",
       "166     298  3.520684  2.021723  1.787405\n",
       "167     299  3.520684  2.021723  1.787405\n",
       "168     300  2.347123  0.000000  1.787405\n",
       "169     301  3.520684  2.021723  1.787405\n",
       "170     306  4.107464  2.021723  1.787405\n",
       "\n",
       "[171 rows x 4 columns]"
      ]
     },
     "execution_count": 61,
     "metadata": {},
     "output_type": "execute_result"
    }
   ],
   "source": [
    "users_scaled"
   ]
  },
  {
   "cell_type": "code",
   "execution_count": 64,
   "id": "4ae68a1a-46a9-4e63-8d4e-077d699f33a5",
   "metadata": {},
   "outputs": [],
   "source": [
    "users_scaled.to_csv(\"data/Prado_users_scaled.csv\", index= 0)"
   ]
  }
 ],
 "metadata": {
  "kernelspec": {
   "display_name": "Python 3 (ipykernel)",
   "language": "python",
   "name": "python3"
  },
  "language_info": {
   "codemirror_mode": {
    "name": "ipython",
    "version": 3
   },
   "file_extension": ".py",
   "mimetype": "text/x-python",
   "name": "python",
   "nbconvert_exporter": "python",
   "pygments_lexer": "ipython3",
   "version": "3.9.7"
  }
 },
 "nbformat": 4,
 "nbformat_minor": 5
}

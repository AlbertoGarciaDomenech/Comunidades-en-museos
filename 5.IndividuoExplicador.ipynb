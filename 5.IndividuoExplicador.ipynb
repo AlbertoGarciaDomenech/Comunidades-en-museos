{
 "cells": [
  {
   "cell_type": "markdown",
   "id": "c326f526-740a-46c1-8952-9a68cbbb8ebe",
   "metadata": {},
   "source": [
    "# Estudio de la clasficacion en clusters de los usuarios"
   ]
  },
  {
   "cell_type": "code",
   "execution_count": 1,
   "id": "dccac431-a360-4686-a0f4-92e0dd2acdb8",
   "metadata": {},
   "outputs": [],
   "source": [
    "import pandas as pd\n",
    "import numpy as np"
   ]
  },
  {
   "cell_type": "code",
   "execution_count": 2,
   "id": "0c84d974-eff5-4394-99c2-88823d6c6845",
   "metadata": {},
   "outputs": [],
   "source": [
    "users = pd.read_csv('data/Prado_users_clusters.csv')"
   ]
  },
  {
   "cell_type": "code",
   "execution_count": 3,
   "id": "508ffd5a-391f-4538-847b-0e5c0e15f8ea",
   "metadata": {},
   "outputs": [],
   "source": [
    "clusters = []\n",
    "for c in users.cluster.unique():\n",
    "  clusters.append(users[users['cluster'] == c])"
   ]
  },
  {
   "cell_type": "code",
   "execution_count": 4,
   "id": "fe2da2cb-3716-4969-9524-6a3bb164ef11",
   "metadata": {},
   "outputs": [
    {
     "data": {
      "text/html": [
       "<div>\n",
       "<style scoped>\n",
       "    .dataframe tbody tr th:only-of-type {\n",
       "        vertical-align: middle;\n",
       "    }\n",
       "\n",
       "    .dataframe tbody tr th {\n",
       "        vertical-align: top;\n",
       "    }\n",
       "\n",
       "    .dataframe thead th {\n",
       "        text-align: right;\n",
       "    }\n",
       "</style>\n",
       "<table border=\"1\" class=\"dataframe\">\n",
       "  <thead>\n",
       "    <tr style=\"text-align: right;\">\n",
       "      <th></th>\n",
       "      <th>userId</th>\n",
       "      <th>cluster</th>\n",
       "      <th>medoid</th>\n",
       "    </tr>\n",
       "  </thead>\n",
       "  <tbody>\n",
       "    <tr>\n",
       "      <th>count</th>\n",
       "      <td>86.000000</td>\n",
       "      <td>86.0</td>\n",
       "      <td>86.000000</td>\n",
       "    </tr>\n",
       "    <tr>\n",
       "      <th>mean</th>\n",
       "      <td>115.534884</td>\n",
       "      <td>0.0</td>\n",
       "      <td>-0.976744</td>\n",
       "    </tr>\n",
       "    <tr>\n",
       "      <th>std</th>\n",
       "      <td>84.948247</td>\n",
       "      <td>0.0</td>\n",
       "      <td>0.215666</td>\n",
       "    </tr>\n",
       "    <tr>\n",
       "      <th>min</th>\n",
       "      <td>1.000000</td>\n",
       "      <td>0.0</td>\n",
       "      <td>-1.000000</td>\n",
       "    </tr>\n",
       "    <tr>\n",
       "      <th>25%</th>\n",
       "      <td>49.500000</td>\n",
       "      <td>0.0</td>\n",
       "      <td>-1.000000</td>\n",
       "    </tr>\n",
       "    <tr>\n",
       "      <th>50%</th>\n",
       "      <td>97.000000</td>\n",
       "      <td>0.0</td>\n",
       "      <td>-1.000000</td>\n",
       "    </tr>\n",
       "    <tr>\n",
       "      <th>75%</th>\n",
       "      <td>170.250000</td>\n",
       "      <td>0.0</td>\n",
       "      <td>-1.000000</td>\n",
       "    </tr>\n",
       "    <tr>\n",
       "      <th>max</th>\n",
       "      <td>306.000000</td>\n",
       "      <td>0.0</td>\n",
       "      <td>1.000000</td>\n",
       "    </tr>\n",
       "  </tbody>\n",
       "</table>\n",
       "</div>"
      ],
      "text/plain": [
       "           userId  cluster     medoid\n",
       "count   86.000000     86.0  86.000000\n",
       "mean   115.534884      0.0  -0.976744\n",
       "std     84.948247      0.0   0.215666\n",
       "min      1.000000      0.0  -1.000000\n",
       "25%     49.500000      0.0  -1.000000\n",
       "50%     97.000000      0.0  -1.000000\n",
       "75%    170.250000      0.0  -1.000000\n",
       "max    306.000000      0.0   1.000000"
      ]
     },
     "execution_count": 4,
     "metadata": {},
     "output_type": "execute_result"
    }
   ],
   "source": [
    "clusters[0].describe()"
   ]
  },
  {
   "cell_type": "code",
   "execution_count": 5,
   "id": "58e419d1-77fd-4788-b23e-8bd5a25a008d",
   "metadata": {},
   "outputs": [
    {
     "data": {
      "text/html": [
       "<div>\n",
       "<style scoped>\n",
       "    .dataframe tbody tr th:only-of-type {\n",
       "        vertical-align: middle;\n",
       "    }\n",
       "\n",
       "    .dataframe tbody tr th {\n",
       "        vertical-align: top;\n",
       "    }\n",
       "\n",
       "    .dataframe thead th {\n",
       "        text-align: right;\n",
       "    }\n",
       "</style>\n",
       "<table border=\"1\" class=\"dataframe\">\n",
       "  <thead>\n",
       "    <tr style=\"text-align: right;\">\n",
       "      <th></th>\n",
       "      <th>userId</th>\n",
       "      <th>cluster</th>\n",
       "      <th>medoid</th>\n",
       "    </tr>\n",
       "  </thead>\n",
       "  <tbody>\n",
       "    <tr>\n",
       "      <th>count</th>\n",
       "      <td>85.000000</td>\n",
       "      <td>85.0</td>\n",
       "      <td>85.000000</td>\n",
       "    </tr>\n",
       "    <tr>\n",
       "      <th>mean</th>\n",
       "      <td>117.023529</td>\n",
       "      <td>1.0</td>\n",
       "      <td>-0.988235</td>\n",
       "    </tr>\n",
       "    <tr>\n",
       "      <th>std</th>\n",
       "      <td>79.270780</td>\n",
       "      <td>0.0</td>\n",
       "      <td>0.108465</td>\n",
       "    </tr>\n",
       "    <tr>\n",
       "      <th>min</th>\n",
       "      <td>3.000000</td>\n",
       "      <td>1.0</td>\n",
       "      <td>-1.000000</td>\n",
       "    </tr>\n",
       "    <tr>\n",
       "      <th>25%</th>\n",
       "      <td>48.000000</td>\n",
       "      <td>1.0</td>\n",
       "      <td>-1.000000</td>\n",
       "    </tr>\n",
       "    <tr>\n",
       "      <th>50%</th>\n",
       "      <td>109.000000</td>\n",
       "      <td>1.0</td>\n",
       "      <td>-1.000000</td>\n",
       "    </tr>\n",
       "    <tr>\n",
       "      <th>75%</th>\n",
       "      <td>174.000000</td>\n",
       "      <td>1.0</td>\n",
       "      <td>-1.000000</td>\n",
       "    </tr>\n",
       "    <tr>\n",
       "      <th>max</th>\n",
       "      <td>300.000000</td>\n",
       "      <td>1.0</td>\n",
       "      <td>0.000000</td>\n",
       "    </tr>\n",
       "  </tbody>\n",
       "</table>\n",
       "</div>"
      ],
      "text/plain": [
       "           userId  cluster     medoid\n",
       "count   85.000000     85.0  85.000000\n",
       "mean   117.023529      1.0  -0.988235\n",
       "std     79.270780      0.0   0.108465\n",
       "min      3.000000      1.0  -1.000000\n",
       "25%     48.000000      1.0  -1.000000\n",
       "50%    109.000000      1.0  -1.000000\n",
       "75%    174.000000      1.0  -1.000000\n",
       "max    300.000000      1.0   0.000000"
      ]
     },
     "execution_count": 5,
     "metadata": {},
     "output_type": "execute_result"
    }
   ],
   "source": [
    "clusters[1].describe()"
   ]
  },
  {
   "cell_type": "code",
   "execution_count": 49,
   "id": "d814ae5b-68ab-48c9-81a1-beeb04b5d849",
   "metadata": {},
   "outputs": [
    {
     "name": "stdout",
     "output_type": "stream",
     "text": [
      "Cluster 0:\n",
      "numero de gente en cluster 0 86\n",
      "Genero con mas aparicion en cluster 0 male con un  86.04651162790698 %\n",
      "Edad con mas aparicion en cluster  0 35-44 con un  25.581395348837212 %\n",
      "Pais con mas aparicion en cluster  0 Spain con un  39.53488372093023 %\n",
      "Cluster 1:\n",
      "numero de gente en cluster 1 85\n",
      "Genero con mas aparicion en cluster 1 female con un  71.76470588235294 %\n",
      "Edad con mas aparicion en cluster  1 35-44 con un  24.705882352941178 %\n",
      "Pais con mas aparicion en cluster  1 Spain con un  40.0 %\n"
     ]
    }
   ],
   "source": [
    "for i, c in enumerate(clusters):\n",
    "    print('Cluster {}:'.format(i))\n",
    "    g_arr = []\n",
    "    for g in c.gender.unique():\n",
    "        g_arr.append(np.count_nonzero(c['gender'] == g))\n",
    "        # g = 'male' if count_nonzero(c['gender'] == 'male') > np.count_nonzero(c['gender'] == 'female') else 'female'\n",
    "    age_arr = []\n",
    "    for a  in c.age.unique():\n",
    "        age_arr.append(np.count_nonzero(c['age'] == a))\n",
    "    country_arr = []\n",
    "    for co in c.country.unique():\n",
    "        country_arr.append(np.count_nonzero(c['country'] == co))\n",
    "    print(\"numero de gente en cluster\", i, sum(g_arr))\n",
    "    print(\"Genero con mas aparicion en cluster\", i, c.gender.unique()[g_arr.index(max(g_arr))], \"con un \", max(g_arr)/sum(g_arr)*100,\"%\")\n",
    "    print(\"Edad con mas aparicion en cluster \", i, c.age.unique()[age_arr.index(max(age_arr))], \"con un \", max(age_arr)/sum(age_arr)*100,\"%\")\n",
    "    print(\"Pais con mas aparicion en cluster \", i, c.country.unique()[country_arr.index(max(country_arr))], \"con un \", max(country_arr)/sum(country_arr)*100,\"%\")"
   ]
  },
  {
   "cell_type": "code",
   "execution_count": 32,
   "id": "436348c4-cc16-4ab8-9426-b897c1dc6cbc",
   "metadata": {},
   "outputs": [
    {
     "data": {
      "text/plain": [
       "'female'"
      ]
     },
     "execution_count": 32,
     "metadata": {},
     "output_type": "execute_result"
    }
   ],
   "source": [
    "c.gender.unique()[g_arr.index(max(g_arr))]\n",
    "c.age.unique()[age_arr.index(max(age_arr))]\n",
    "c.country.unique()[country_arr.index(max(country_arr))]"
   ]
  }
 ],
 "metadata": {
  "kernelspec": {
   "display_name": "Python 3 (ipykernel)",
   "language": "python",
   "name": "python3"
  },
  "language_info": {
   "codemirror_mode": {
    "name": "ipython",
    "version": 3
   },
   "file_extension": ".py",
   "mimetype": "text/x-python",
   "name": "python",
   "nbconvert_exporter": "python",
   "pygments_lexer": "ipython3",
   "version": "3.9.5"
  }
 },
 "nbformat": 4,
 "nbformat_minor": 5
}

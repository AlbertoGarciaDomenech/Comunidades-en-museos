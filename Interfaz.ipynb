{
 "cells": [
  {
   "cell_type": "code",
   "execution_count": 61,
   "id": "d9f906a5-c592-4529-a228-5653eced0453",
   "metadata": {},
   "outputs": [],
   "source": [
    "import pandas as pd\n",
    "import numpy as np\n",
    "import ipywidgets as widgets\n",
    "from os import listdir\n",
    "from os.path import isfile, join\n",
    "\n",
    "\n",
    "from src.SimilarityArtworks import *\n",
    "from src.SimilarityUsers import *\n",
    "from src.ArtworksMatrix import *\n",
    "from src.UsersMatrix import *\n",
    "from src.UsersClustering import *\n",
    "from src.AverageUser import *"
   ]
  },
  {
   "cell_type": "code",
   "execution_count": 62,
   "id": "52a82524-12ea-4ed7-b73f-8e4a6dfbfd3e",
   "metadata": {},
   "outputs": [],
   "source": [
    "import inspect\n",
    "\n",
    "def inner_classes_list(cls):\n",
    "    return [cls_attribute.__name__ for cls_attribute in cls.__dict__.values()\n",
    "            if inspect.isclass(cls_attribute)]\n",
    "            # and issubclass(cls_attribute, SimilarityFunctionInterface)]"
   ]
  },
  {
   "cell_type": "code",
   "execution_count": 63,
   "id": "8cfae3ed-4d65-47a3-bfe3-0adbee142199",
   "metadata": {},
   "outputs": [],
   "source": [
    "def elegirDatos(path, files):\n",
    "  usersDropdown = widgets.Dropdown(\n",
    "      options=files,\n",
    "      value='Prado_users_emotions_OnePolarity.csv',\n",
    "      description='Users:',\n",
    "      disabled=False,\n",
    "  )\n",
    "  itemsDropdown = widgets.Dropdown(\n",
    "      options=files,\n",
    "      value='Prado_artworks_wikidata.csv',\n",
    "      description='Items:',\n",
    "      disabled=False,\n",
    "  )\n",
    "  return usersDropdown, itemsDropdown\n",
    "\n",
    "def cargarDatos(path, usersDropdown, itemsDropdown):\n",
    "  users = pd.read_csv(path + usersDropdown.value, index_col=0)\n",
    "  artworks = pd.read_csv(path + itemsDropdown.value)\n",
    "  users['positive'] = users['positive'].apply(eval)\n",
    "  users['negative'] = users['negative'].apply(eval)\n",
    "  users['mixed'] = users['mixed'].apply(eval)\n",
    "  return users, artworks\n",
    "\n",
    "def elegirSimilitudItems(path, files, artworks):\n",
    "  functions = [None]\n",
    "  functions.extend(inner_classes_list(SimilarityArtworks))\n",
    "\n",
    "  dropdowns = {}\n",
    "  for col in artworks.columns:\n",
    "    dropdowns[col] = widgets.Dropdown(options=functions, value=None, description=col, disabled=False)\n",
    "\n",
    "  colorDropdown = widgets.Dropdown(options=files, value=None, description='Colors', disabled=False)\n",
    "\n",
    "  return dropdowns, colorDropdown\n",
    "\n",
    "def elegirSimilitudUsers(path, files, users):\n",
    "  functions = [None]\n",
    "  functions.extend(inner_classes_list(SimilarityUsers))\n",
    "\n",
    "  dropdowns = {}\n",
    "  for col in users.columns:\n",
    "    dropdowns[col] = widgets.Dropdown(options=functions, value=None, description=col, disabled=False)\n",
    "  \n",
    "  return dropdowns\n",
    "\n",
    "def elegirPesosItems(atr_dropdowns, colorDropdown):\n",
    "  floatTexts = {}\n",
    "  colorFloatText = None\n",
    "  for key, value in atr_dropdowns.items():\n",
    "    if value.value is not None:\n",
    "      floatTexts[key] = widgets.FloatText(value=0.3, description=key, disabled=False)\n",
    "\n",
    "  if colorDropdown.value is not None:\n",
    "    colorFloatText = widgets.FloatText(value=0.3, description='Colors', disabled=False)\n",
    "    \n",
    "  return floatTexts, colorFloatText\n",
    "\n",
    "def elegirPesosUsers(atr_dropdowns):\n",
    "  floatTexts = {}\n",
    "  for key, value in atr_dropdowns.items():\n",
    "    if value.value is not None:\n",
    "      floatTexts[key] = widgets.FloatText(value=0.3, description=key, disabled=False)\n",
    "  \n",
    "  demographicFloatText = widgets.FloatText(value=0.5, description='Demographic', disabled=False)\n",
    "  polarityFloatText = widgets.FloatText(value=0.5, description='Polarity', disabled=False)\n",
    "  \n",
    "  return floatTexts, demographicFloatText, polarityFloatText\n",
    "\n",
    "def calcularSimilitudItems(path, artworks, atr_dropdowns, float_texts):\n",
    "  funcs = {x : None for x in artworks.columns}\n",
    "  weights = {x : None for x in artworks.columns}\n",
    "\n",
    "  for key, value in atr_dropdowns.items():\n",
    "    funcs.update({key: value.value})\n",
    "\n",
    "  for key, value in float_texts.items():\n",
    "    weights.update({key: value.value})\n",
    "  weights.update({'Colors': colorFloatText.value})\n",
    "\n",
    "  AM = ArtworksMatrix(artworks, function_dict=funcs, weight_dict=weights, colors_path=path + colorDropdown.value)\n",
    "  \n",
    "  return AM.getSimilarityMatrix()\n",
    "\n",
    "def calcularSimilitudUsers(path, users, artworks_sim, atr_dropdowns, float_texts, demographicFloatText, polarityFloatText):\n",
    "  funcs = {x : None for x in users.columns}\n",
    "  weights = {x : None for x in users.columns}\n",
    "\n",
    "  for key, value in atr_dropdowns.items():\n",
    "    funcs.update({key: value.value})\n",
    "\n",
    "  for key, value in float_texts.items():\n",
    "    weights.update({key: value.value})\n",
    "\n",
    "  weights.update({'polarity' : polarityFloatText.value, 'demographic' : demographicFloatText.value})  \n",
    "  \n",
    "  UM = UsersMatrix(users, artworks_sim, function_dict=funcs, weight_dict=weights)\n",
    "  \n",
    "  return UM.getSimilarityMatrix()\n",
    "\n",
    "def calcularClusters(users, users_sim):\n",
    "  users_distance = 1 - users_sim\n",
    "  labels = UsersClustering(users_sim).kMedoidsFromMatrix()\n",
    "  users_clustered = users.copy()\n",
    "  users_clustered['cluster'] = labels\n",
    "  return users_clustered\n",
    "\n"
   ]
  },
  {
   "cell_type": "code",
   "execution_count": 64,
   "id": "1847d05f-b002-40b4-afa4-f42a0dd0bad9",
   "metadata": {},
   "outputs": [
    {
     "data": {
      "application/vnd.jupyter.widget-view+json": {
       "model_id": "341a9c18887f404785c5c870d8cf3b48",
       "version_major": 2,
       "version_minor": 0
      },
      "text/plain": [
       "Dropdown(description='Items:', index=8, options=('artworkColors.json', 'artworkEmotions.json', 'Clean_users.cs…"
      ]
     },
     "metadata": {},
     "output_type": "display_data"
    },
    {
     "data": {
      "application/vnd.jupyter.widget-view+json": {
       "model_id": "30c9f7a9aae94a91b022a5e9fcc2b6c8",
       "version_major": 2,
       "version_minor": 0
      },
      "text/plain": [
       "Dropdown(description='Users:', index=14, options=('artworkColors.json', 'artworkEmotions.json', 'Clean_users.c…"
      ]
     },
     "metadata": {},
     "output_type": "display_data"
    }
   ],
   "source": [
    "data_path = 'data/'\n",
    "files = [f for f in listdir(data_path) if isfile(join(data_path, f))]\n",
    "\n",
    "usersDropdown, itemsDropdown = elegirDatos(data_path, files)\n",
    "display(itemsDropdown)\n",
    "display(usersDropdown)"
   ]
  },
  {
   "cell_type": "code",
   "execution_count": 65,
   "id": "9077e5ab-a7e3-4002-b608-5e346a8be6bb",
   "metadata": {},
   "outputs": [
    {
     "data": {
      "application/vnd.jupyter.widget-view+json": {
       "model_id": "acedb54602244a38aec826386274ecfa",
       "version_major": 2,
       "version_minor": 0
      },
      "text/plain": [
       "Dropdown(description='ID', options=(None, 'SimilarityArtist', 'SimilarityCategory', 'SimilarityColors'), value…"
      ]
     },
     "metadata": {},
     "output_type": "display_data"
    },
    {
     "data": {
      "application/vnd.jupyter.widget-view+json": {
       "model_id": "60008176d0824c9f9b9b6392d96f4765",
       "version_major": 2,
       "version_minor": 0
      },
      "text/plain": [
       "Dropdown(description='Category', options=(None, 'SimilarityArtist', 'SimilarityCategory', 'SimilarityColors'),…"
      ]
     },
     "metadata": {},
     "output_type": "display_data"
    },
    {
     "data": {
      "application/vnd.jupyter.widget-view+json": {
       "model_id": "c4199b538c5542e68a1ab83bc5e03bf4",
       "version_major": 2,
       "version_minor": 0
      },
      "text/plain": [
       "Dropdown(description='Artist', options=(None, 'SimilarityArtist', 'SimilarityCategory', 'SimilarityColors'), v…"
      ]
     },
     "metadata": {},
     "output_type": "display_data"
    },
    {
     "data": {
      "application/vnd.jupyter.widget-view+json": {
       "model_id": "d4a9cfd927b8493d81107e01e82401b1",
       "version_major": 2,
       "version_minor": 0
      },
      "text/plain": [
       "Dropdown(description='Title', options=(None, 'SimilarityArtist', 'SimilarityCategory', 'SimilarityColors'), va…"
      ]
     },
     "metadata": {},
     "output_type": "display_data"
    },
    {
     "data": {
      "application/vnd.jupyter.widget-view+json": {
       "model_id": "41dff2f51dc24463872a70152a6509da",
       "version_major": 2,
       "version_minor": 0
      },
      "text/plain": [
       "Dropdown(description='Year', options=(None, 'SimilarityArtist', 'SimilarityCategory', 'SimilarityColors'), val…"
      ]
     },
     "metadata": {},
     "output_type": "display_data"
    },
    {
     "data": {
      "application/vnd.jupyter.widget-view+json": {
       "model_id": "cb33842eb0ac4e2fa6c96d1846202035",
       "version_major": 2,
       "version_minor": 0
      },
      "text/plain": [
       "Dropdown(description='Image URL', options=(None, 'SimilarityArtist', 'SimilarityCategory', 'SimilarityColors')…"
      ]
     },
     "metadata": {},
     "output_type": "display_data"
    },
    {
     "data": {
      "application/vnd.jupyter.widget-view+json": {
       "model_id": "34bd7aa6d3824565a42b0faedcd2f1fc",
       "version_major": 2,
       "version_minor": 0
      },
      "text/plain": [
       "Dropdown(description='Painting Info URL', options=(None, 'SimilarityArtist', 'SimilarityCategory', 'Similarity…"
      ]
     },
     "metadata": {},
     "output_type": "display_data"
    },
    {
     "data": {
      "application/vnd.jupyter.widget-view+json": {
       "model_id": "c6db1eef59af4285ae06b175848090b9",
       "version_major": 2,
       "version_minor": 0
      },
      "text/plain": [
       "Dropdown(description='Artist Info URL', options=(None, 'SimilarityArtist', 'SimilarityCategory', 'SimilarityCo…"
      ]
     },
     "metadata": {},
     "output_type": "display_data"
    },
    {
     "data": {
      "application/vnd.jupyter.widget-view+json": {
       "model_id": "a051328768d04be9b8be1d954e4acd88",
       "version_major": 2,
       "version_minor": 0
      },
      "text/plain": [
       "Dropdown(description='Location', options=(None, 'SimilarityArtist', 'SimilarityCategory', 'SimilarityColors'),…"
      ]
     },
     "metadata": {},
     "output_type": "display_data"
    },
    {
     "data": {
      "application/vnd.jupyter.widget-view+json": {
       "model_id": "8b0df10b16944649834a0ba129cf14b2",
       "version_major": 2,
       "version_minor": 0
      },
      "text/plain": [
       "Dropdown(description='wd:paintingID', options=(None, 'SimilarityArtist', 'SimilarityCategory', 'SimilarityColo…"
      ]
     },
     "metadata": {},
     "output_type": "display_data"
    },
    {
     "data": {
      "application/vnd.jupyter.widget-view+json": {
       "model_id": "2d5503d60fa64788b657768d7e805bc8",
       "version_major": 2,
       "version_minor": 0
      },
      "text/plain": [
       "Dropdown(description='wd:paintingURL', options=(None, 'SimilarityArtist', 'SimilarityCategory', 'SimilarityCol…"
      ]
     },
     "metadata": {},
     "output_type": "display_data"
    },
    {
     "data": {
      "application/vnd.jupyter.widget-view+json": {
       "model_id": "79b48072e8ca46638ff48448e69b2050",
       "version_major": 2,
       "version_minor": 0
      },
      "text/plain": [
       "Dropdown(description='wd:artistID', options=(None, 'SimilarityArtist', 'SimilarityCategory', 'SimilarityColors…"
      ]
     },
     "metadata": {},
     "output_type": "display_data"
    },
    {
     "data": {
      "application/vnd.jupyter.widget-view+json": {
       "model_id": "5294430799bd4981b5f9766d3f290eb0",
       "version_major": 2,
       "version_minor": 0
      },
      "text/plain": [
       "Dropdown(description='wd:artistURL', options=(None, 'SimilarityArtist', 'SimilarityCategory', 'SimilarityColor…"
      ]
     },
     "metadata": {},
     "output_type": "display_data"
    },
    {
     "data": {
      "application/vnd.jupyter.widget-view+json": {
       "model_id": "222e5d3d02334b8a91240e58f7998277",
       "version_major": 2,
       "version_minor": 0
      },
      "text/plain": [
       "Dropdown(description='Colors', options=('artworkColors.json', 'artworkEmotions.json', 'Clean_users.csv', 'coun…"
      ]
     },
     "metadata": {},
     "output_type": "display_data"
    }
   ],
   "source": [
    "users, artworks = cargarDatos(data_path, usersDropdown, itemsDropdown)\n",
    "atr_dropdowns, colorDropdown = elegirSimilitudItems(data_path, files, artworks)\n",
    "for key, value in atr_dropdowns.items():\n",
    "  display(value)\n",
    "display(colorDropdown)"
   ]
  },
  {
   "cell_type": "code",
   "execution_count": 66,
   "id": "caed8fbf-dd1a-4806-ad74-1f5fbe171aa1",
   "metadata": {},
   "outputs": [
    {
     "data": {
      "application/vnd.jupyter.widget-view+json": {
       "model_id": "e4ad443d4d3041d48d7adbe15607a246",
       "version_major": 2,
       "version_minor": 0
      },
      "text/plain": [
       "FloatText(value=0.3, description='Category')"
      ]
     },
     "metadata": {},
     "output_type": "display_data"
    },
    {
     "data": {
      "application/vnd.jupyter.widget-view+json": {
       "model_id": "f4eaec4fc73e4c15a793f3bf6e108b7e",
       "version_major": 2,
       "version_minor": 0
      },
      "text/plain": [
       "FloatText(value=0.3, description='Artist')"
      ]
     },
     "metadata": {},
     "output_type": "display_data"
    },
    {
     "data": {
      "application/vnd.jupyter.widget-view+json": {
       "model_id": "759a646b19064cf3a0b264493900cdde",
       "version_major": 2,
       "version_minor": 0
      },
      "text/plain": [
       "FloatText(value=0.3, description='Colors')"
      ]
     },
     "metadata": {},
     "output_type": "display_data"
    }
   ],
   "source": [
    "atributes_artworks = [i for i in [value.value for key, value in atr_dropdowns.items()] if i]\n",
    "\n",
    "float_texts, colorFloatText = elegirPesosItems(atr_dropdowns, colorDropdown)\n",
    "for key, value in float_texts.items():\n",
    "  display(value)\n",
    "\n",
    "if colorDropdown.value is not None:\n",
    "  display(colorFloatText) "
   ]
  },
  {
   "cell_type": "code",
   "execution_count": 67,
   "id": "209c9c07-355a-4bc1-af2d-be6945c38b69",
   "metadata": {},
   "outputs": [],
   "source": [
    "artworks_sim = calcularSimilitudItems(data_path, artworks, atr_dropdowns, float_texts)"
   ]
  },
  {
   "cell_type": "code",
   "execution_count": 49,
   "id": "79455173-00fb-4198-b709-7d1d54f42430",
   "metadata": {},
   "outputs": [
    {
     "data": {
      "application/vnd.jupyter.widget-view+json": {
       "model_id": "3eeb045160a945c68db06447ee75a27f",
       "version_major": 2,
       "version_minor": 0
      },
      "text/plain": [
       "Dropdown(description='userId', options=(None, 'SimilarityAge', 'SimilarityGender', 'SimilarityCountry', 'Simil…"
      ]
     },
     "metadata": {},
     "output_type": "display_data"
    },
    {
     "data": {
      "application/vnd.jupyter.widget-view+json": {
       "model_id": "47ad35fbf06849f0b322558b123098de",
       "version_major": 2,
       "version_minor": 0
      },
      "text/plain": [
       "Dropdown(description='age', options=(None, 'SimilarityAge', 'SimilarityGender', 'SimilarityCountry', 'Similari…"
      ]
     },
     "metadata": {},
     "output_type": "display_data"
    },
    {
     "data": {
      "application/vnd.jupyter.widget-view+json": {
       "model_id": "28ab5045e56445ea92fa2df28ef830b3",
       "version_major": 2,
       "version_minor": 0
      },
      "text/plain": [
       "Dropdown(description='gender', options=(None, 'SimilarityAge', 'SimilarityGender', 'SimilarityCountry', 'Simil…"
      ]
     },
     "metadata": {},
     "output_type": "display_data"
    },
    {
     "data": {
      "application/vnd.jupyter.widget-view+json": {
       "model_id": "30ae2dbd1e334cd2a690e902ef5875ef",
       "version_major": 2,
       "version_minor": 0
      },
      "text/plain": [
       "Dropdown(description='country', options=(None, 'SimilarityAge', 'SimilarityGender', 'SimilarityCountry', 'Simi…"
      ]
     },
     "metadata": {},
     "output_type": "display_data"
    },
    {
     "data": {
      "application/vnd.jupyter.widget-view+json": {
       "model_id": "35f0ab994d3e4dab9bc49abf6da10d8c",
       "version_major": 2,
       "version_minor": 0
      },
      "text/plain": [
       "Dropdown(description='positive', options=(None, 'SimilarityAge', 'SimilarityGender', 'SimilarityCountry', 'Sim…"
      ]
     },
     "metadata": {},
     "output_type": "display_data"
    },
    {
     "data": {
      "application/vnd.jupyter.widget-view+json": {
       "model_id": "315411a2a8854b1a932e5e1fbca39d94",
       "version_major": 2,
       "version_minor": 0
      },
      "text/plain": [
       "Dropdown(description='negative', options=(None, 'SimilarityAge', 'SimilarityGender', 'SimilarityCountry', 'Sim…"
      ]
     },
     "metadata": {},
     "output_type": "display_data"
    },
    {
     "data": {
      "application/vnd.jupyter.widget-view+json": {
       "model_id": "f40cd956747c463ba7ec0a1af3cb72c0",
       "version_major": 2,
       "version_minor": 0
      },
      "text/plain": [
       "Dropdown(description='mixed', options=(None, 'SimilarityAge', 'SimilarityGender', 'SimilarityCountry', 'Simila…"
      ]
     },
     "metadata": {},
     "output_type": "display_data"
    }
   ],
   "source": [
    "atr_dropdowns = elegirSimilitudUsers(data_path, files, users)\n",
    "for key, value in atr_dropdowns.items():\n",
    "  display(value)"
   ]
  },
  {
   "cell_type": "code",
   "execution_count": 50,
   "id": "f7a37b77-1ab0-44fd-9b89-2c8fddfa2d5d",
   "metadata": {},
   "outputs": [
    {
     "data": {
      "application/vnd.jupyter.widget-view+json": {
       "model_id": "814a67ce0fa346568344af0c1b3bf1e4",
       "version_major": 2,
       "version_minor": 0
      },
      "text/plain": [
       "FloatText(value=0.5, description='Demographic')"
      ]
     },
     "metadata": {},
     "output_type": "display_data"
    },
    {
     "data": {
      "application/vnd.jupyter.widget-view+json": {
       "model_id": "91d76ca8a8bf4e5b8b21736445c6cf5e",
       "version_major": 2,
       "version_minor": 0
      },
      "text/plain": [
       "FloatText(value=0.5, description='Polarity')"
      ]
     },
     "metadata": {},
     "output_type": "display_data"
    },
    {
     "data": {
      "application/vnd.jupyter.widget-view+json": {
       "model_id": "43ad2584b7a34590a293a42cfe4a8326",
       "version_major": 2,
       "version_minor": 0
      },
      "text/plain": [
       "FloatText(value=0.3, description='age')"
      ]
     },
     "metadata": {},
     "output_type": "display_data"
    },
    {
     "data": {
      "application/vnd.jupyter.widget-view+json": {
       "model_id": "e41b05e588cb49809485290c42f0f175",
       "version_major": 2,
       "version_minor": 0
      },
      "text/plain": [
       "FloatText(value=0.3, description='gender')"
      ]
     },
     "metadata": {},
     "output_type": "display_data"
    },
    {
     "data": {
      "application/vnd.jupyter.widget-view+json": {
       "model_id": "f96434fb99eb4a42aa513d839cd987fc",
       "version_major": 2,
       "version_minor": 0
      },
      "text/plain": [
       "FloatText(value=0.3, description='country')"
      ]
     },
     "metadata": {},
     "output_type": "display_data"
    },
    {
     "data": {
      "application/vnd.jupyter.widget-view+json": {
       "model_id": "8a338cf93ce444e3817b8e5eec528b26",
       "version_major": 2,
       "version_minor": 0
      },
      "text/plain": [
       "FloatText(value=0.3, description='positive')"
      ]
     },
     "metadata": {},
     "output_type": "display_data"
    },
    {
     "data": {
      "application/vnd.jupyter.widget-view+json": {
       "model_id": "d456eb6519d549ca9fee4a6e63c8eeb4",
       "version_major": 2,
       "version_minor": 0
      },
      "text/plain": [
       "FloatText(value=0.3, description='negative')"
      ]
     },
     "metadata": {},
     "output_type": "display_data"
    },
    {
     "data": {
      "application/vnd.jupyter.widget-view+json": {
       "model_id": "321511ef2c9d4f049ea2cbfe9e2d8386",
       "version_major": 2,
       "version_minor": 0
      },
      "text/plain": [
       "FloatText(value=0.3, description='mixed')"
      ]
     },
     "metadata": {},
     "output_type": "display_data"
    }
   ],
   "source": [
    "atributes_users = [i for i in [value.value for key, value in atr_dropdowns.items()] if i]\n",
    "\n",
    "float_texts, demographicFloatText, polarityFloatText = elegirPesosUsers(atr_dropdowns)\n",
    "display(demographicFloatText)\n",
    "display(polarityFloatText)\n",
    "for key, value in float_texts.items():\n",
    "  display(value) "
   ]
  },
  {
   "cell_type": "code",
   "execution_count": 51,
   "id": "31f96d59-98fc-4b12-8c44-7ec44120ce61",
   "metadata": {},
   "outputs": [],
   "source": [
    "users_sim = calcularSimilitudUsers(data_path, users, artworks_sim, atr_dropdowns, float_texts, demographicFloatText, polarityFloatText)"
   ]
  },
  {
   "cell_type": "code",
   "execution_count": 52,
   "id": "8fd1f6b8-117d-4331-a466-cdc22513cf7a",
   "metadata": {},
   "outputs": [],
   "source": [
    "%%capture output\n",
    "users_clustered = calcularClusters(users, users_sim)"
   ]
  },
  {
   "cell_type": "code",
   "execution_count": 57,
   "id": "04c832ce-fd71-4768-9c58-c6fa72eeea74",
   "metadata": {},
   "outputs": [],
   "source": [
    "AU = AverageUser(users_clustered, artworks, atributes_users, atributes_artworks)"
   ]
  },
  {
   "cell_type": "code",
   "execution_count": 59,
   "id": "406e8e9e-1576-48b2-be96-50d20c4bd48b",
   "metadata": {},
   "outputs": [
    {
     "data": {
      "text/html": [
       "<div>\n",
       "<style scoped>\n",
       "    .dataframe tbody tr th:only-of-type {\n",
       "        vertical-align: middle;\n",
       "    }\n",
       "\n",
       "    .dataframe tbody tr th {\n",
       "        vertical-align: top;\n",
       "    }\n",
       "\n",
       "    .dataframe thead th {\n",
       "        text-align: right;\n",
       "    }\n",
       "</style>\n",
       "<table border=\"1\" class=\"dataframe\">\n",
       "  <thead>\n",
       "    <tr style=\"text-align: right;\">\n",
       "      <th></th>\n",
       "      <th>userId</th>\n",
       "      <th>age</th>\n",
       "      <th>gender</th>\n",
       "      <th>country</th>\n",
       "      <th>positive</th>\n",
       "      <th>negative</th>\n",
       "      <th>mixed</th>\n",
       "      <th>cluster</th>\n",
       "    </tr>\n",
       "  </thead>\n",
       "  <tbody>\n",
       "    <tr>\n",
       "      <th>0</th>\n",
       "      <td>expl307</td>\n",
       "      <td>45-54</td>\n",
       "      <td>female</td>\n",
       "      <td>Spain</td>\n",
       "      <td>[57726f59edc2cb3880ba76b3, 57727c95edc2cb3880e...</td>\n",
       "      <td>[57727cbaedc2cb3880e561f7, 57726e45edc2cb3880b...</td>\n",
       "      <td>[57727015edc2cb3880bceb08, 5772700eedc2cb3880b...</td>\n",
       "      <td>3</td>\n",
       "    </tr>\n",
       "    <tr>\n",
       "      <th>1</th>\n",
       "      <td>expl308</td>\n",
       "      <td>25-34</td>\n",
       "      <td>female</td>\n",
       "      <td>Spain</td>\n",
       "      <td>[57727c95edc2cb3880e4d1d4, 57726f59edc2cb3880b...</td>\n",
       "      <td>[57727cbaedc2cb3880e561f7, 57726f59edc2cb3880b...</td>\n",
       "      <td>[57727cbaedc2cb3880e561f7, 577278cdedc2cb3880d...</td>\n",
       "      <td>7</td>\n",
       "    </tr>\n",
       "    <tr>\n",
       "      <th>2</th>\n",
       "      <td>expl309</td>\n",
       "      <td>35-44</td>\n",
       "      <td>male</td>\n",
       "      <td>Spain</td>\n",
       "      <td>[57726e34edc2cb3880b62340, 57726f56edc2cb3880b...</td>\n",
       "      <td>[57727cbaedc2cb3880e561f7, 57726f4fedc2cb3880b...</td>\n",
       "      <td>[57726f59edc2cb3880ba76b3, 57727015edc2cb3880b...</td>\n",
       "      <td>5</td>\n",
       "    </tr>\n",
       "    <tr>\n",
       "      <th>3</th>\n",
       "      <td>expl310</td>\n",
       "      <td>13-17</td>\n",
       "      <td>female</td>\n",
       "      <td>Spain</td>\n",
       "      <td>[57727c2eedc2cb3880e39405, 57726e34edc2cb3880b...</td>\n",
       "      <td>[57726f4fedc2cb3880ba0b6d, 5772752eedc2cb3880c...</td>\n",
       "      <td>[57726f76edc2cb3880baa425]</td>\n",
       "      <td>0</td>\n",
       "    </tr>\n",
       "    <tr>\n",
       "      <th>4</th>\n",
       "      <td>expl311</td>\n",
       "      <td>35-44</td>\n",
       "      <td>female</td>\n",
       "      <td>Other</td>\n",
       "      <td>[57726f59edc2cb3880ba76b3, 57727015edc2cb3880b...</td>\n",
       "      <td>[57727cbaedc2cb3880e561f7, 57726e37edc2cb3880b...</td>\n",
       "      <td>[57727cbaedc2cb3880e561f7, 57727071edc2cb3880b...</td>\n",
       "      <td>6</td>\n",
       "    </tr>\n",
       "    <tr>\n",
       "      <th>5</th>\n",
       "      <td>expl312</td>\n",
       "      <td>45-54</td>\n",
       "      <td>male</td>\n",
       "      <td>Spain</td>\n",
       "      <td>[57726f59edc2cb3880ba76b3, 57727c95edc2cb3880e...</td>\n",
       "      <td>[57726f59edc2cb3880ba76b3, 57727cbaedc2cb3880e...</td>\n",
       "      <td>[57726e34edc2cb3880b62340, 57726f59edc2cb3880b...</td>\n",
       "      <td>4</td>\n",
       "    </tr>\n",
       "    <tr>\n",
       "      <th>6</th>\n",
       "      <td>expl313</td>\n",
       "      <td>25-34</td>\n",
       "      <td>male</td>\n",
       "      <td>Spain</td>\n",
       "      <td>[57726f59edc2cb3880ba76b3, 57727c95edc2cb3880e...</td>\n",
       "      <td>[57726e37edc2cb3880b628ee, 57726f49edc2cb3880b...</td>\n",
       "      <td>[57727015edc2cb3880bceb08, 57726f59edc2cb3880b...</td>\n",
       "      <td>9</td>\n",
       "    </tr>\n",
       "    <tr>\n",
       "      <th>7</th>\n",
       "      <td>expl314</td>\n",
       "      <td>55-64</td>\n",
       "      <td>female</td>\n",
       "      <td>Other</td>\n",
       "      <td>[57727c95edc2cb3880e4d1d4, 57726f59edc2cb3880b...</td>\n",
       "      <td>[57727cbaedc2cb3880e561f7, 57726f4fedc2cb3880b...</td>\n",
       "      <td>[57727015edc2cb3880bceb28, 57727cbaedc2cb3880e...</td>\n",
       "      <td>1</td>\n",
       "    </tr>\n",
       "  </tbody>\n",
       "</table>\n",
       "</div>"
      ],
      "text/plain": [
       "    userId    age  gender country  \\\n",
       "0  expl307  45-54  female   Spain   \n",
       "1  expl308  25-34  female   Spain   \n",
       "2  expl309  35-44    male   Spain   \n",
       "3  expl310  13-17  female   Spain   \n",
       "4  expl311  35-44  female   Other   \n",
       "5  expl312  45-54    male   Spain   \n",
       "6  expl313  25-34    male   Spain   \n",
       "7  expl314  55-64  female   Other   \n",
       "\n",
       "                                            positive  \\\n",
       "0  [57726f59edc2cb3880ba76b3, 57727c95edc2cb3880e...   \n",
       "1  [57727c95edc2cb3880e4d1d4, 57726f59edc2cb3880b...   \n",
       "2  [57726e34edc2cb3880b62340, 57726f56edc2cb3880b...   \n",
       "3  [57727c2eedc2cb3880e39405, 57726e34edc2cb3880b...   \n",
       "4  [57726f59edc2cb3880ba76b3, 57727015edc2cb3880b...   \n",
       "5  [57726f59edc2cb3880ba76b3, 57727c95edc2cb3880e...   \n",
       "6  [57726f59edc2cb3880ba76b3, 57727c95edc2cb3880e...   \n",
       "7  [57727c95edc2cb3880e4d1d4, 57726f59edc2cb3880b...   \n",
       "\n",
       "                                            negative  \\\n",
       "0  [57727cbaedc2cb3880e561f7, 57726e45edc2cb3880b...   \n",
       "1  [57727cbaedc2cb3880e561f7, 57726f59edc2cb3880b...   \n",
       "2  [57727cbaedc2cb3880e561f7, 57726f4fedc2cb3880b...   \n",
       "3  [57726f4fedc2cb3880ba0b6d, 5772752eedc2cb3880c...   \n",
       "4  [57727cbaedc2cb3880e561f7, 57726e37edc2cb3880b...   \n",
       "5  [57726f59edc2cb3880ba76b3, 57727cbaedc2cb3880e...   \n",
       "6  [57726e37edc2cb3880b628ee, 57726f49edc2cb3880b...   \n",
       "7  [57727cbaedc2cb3880e561f7, 57726f4fedc2cb3880b...   \n",
       "\n",
       "                                               mixed  cluster  \n",
       "0  [57727015edc2cb3880bceb08, 5772700eedc2cb3880b...        3  \n",
       "1  [57727cbaedc2cb3880e561f7, 577278cdedc2cb3880d...        7  \n",
       "2  [57726f59edc2cb3880ba76b3, 57727015edc2cb3880b...        5  \n",
       "3                         [57726f76edc2cb3880baa425]        0  \n",
       "4  [57727cbaedc2cb3880e561f7, 57727071edc2cb3880b...        6  \n",
       "5  [57726e34edc2cb3880b62340, 57726f59edc2cb3880b...        4  \n",
       "6  [57727015edc2cb3880bceb08, 57726f59edc2cb3880b...        9  \n",
       "7  [57727015edc2cb3880bceb28, 57727cbaedc2cb3880e...        1  "
      ]
     },
     "execution_count": 59,
     "metadata": {},
     "output_type": "execute_result"
    }
   ],
   "source": [
    "explicators = AU.computeAverageUser()\n",
    "explicators"
   ]
  },
  {
   "cell_type": "code",
   "execution_count": 60,
   "id": "6aee4d6e-812d-4905-9bff-98f8224eec71",
   "metadata": {},
   "outputs": [
    {
     "name": "stdout",
     "output_type": "stream",
     "text": [
      "------------------------\n",
      "Cluster:  3\n",
      "\tIndividuos:  34\n",
      "\tage :\n",
      "\t\t 45-54 ( 52.94117647058824 %)\n",
      "\tgender :\n",
      "\t\t female ( 70.58823529411765 %)\n",
      "\tcountry :\n",
      "\t\t Spain ( 44.11764705882353 %)\n",
      "\t--Top 3  positive--\n",
      "\t\t\tTitle:The Straw Manikin\n",
      "\t\t\tTitle:Rest on the Flight into Egypt\n",
      "\t\t\tTitle:St. Rufina of Seville\n",
      "\t--Top 3  negative--\n",
      "\t\t\tTitle:The Surgeon\n",
      "\t\t\tTitle:The Triumph of Death\n",
      "\t\t\tTitle:The Three Ages of Man and Death\n",
      "\t--Top 3  mixed--\n",
      "\t\t\tTitle:St. Rufina of Seville\n",
      "\t\t\tTitle:Apparition of the Apostle Peter to Saint Peter Nolasco\n",
      "\t\t\tTitle:The Surgeon\n",
      "------------------------\n",
      "Cluster:  7\n",
      "\tIndividuos:  39\n",
      "\tage :\n",
      "\t\t 25-34 ( 33.33333333333333 %)\n",
      "\tgender :\n",
      "\t\t female ( 71.7948717948718 %)\n",
      "\tcountry :\n",
      "\t\t Spain ( 48.717948717948715 %)\n",
      "\t--Top 3  positive--\n",
      "\t\t\tTitle:Rest on the Flight into Egypt\n",
      "\t\t\tTitle:The Straw Manikin\n",
      "\t\t\tTitle:St. Rufina of Seville\n",
      "\t--Top 3  negative--\n",
      "\t\t\tTitle:The Surgeon\n",
      "\t\t\tTitle:The Straw Manikin\n",
      "\t\t\tTitle:The Extraction of the Stone Madness\n",
      "\t--Top 3  mixed--\n",
      "\t\t\tTitle:The Surgeon\n",
      "\t\t\tTitle:The Werl Triptych\n",
      "\t\t\tTitle:Hunt at the Castle of Torgau in honour of Charles V\n",
      "------------------------\n",
      "Cluster:  5\n",
      "\tIndividuos:  11\n",
      "\tage :\n",
      "\t\t 35-44 ( 45.45454545454545 %)\n",
      "\tgender :\n",
      "\t\t male ( 100.0 %)\n",
      "\tcountry :\n",
      "\t\t Spain ( 45.45454545454545 %)\n",
      "\t--Top 3  positive--\n",
      "\t\t\tTitle:Noli Me Tangere\n",
      "\t\t\tTitle:Summer, or The Harvest\n",
      "\t\t\tTitle:The Straw Manikin\n",
      "\t--Top 3  negative--\n",
      "\t\t\tTitle:The Surgeon\n",
      "\t\t\tTitle:Saturn Devouring His Son\n",
      "\t\t\tTitle:The Triumph of Death\n",
      "\t--Top 3  mixed--\n",
      "\t\t\tTitle:The Straw Manikin\n",
      "\t\t\tTitle:St. Rufina of Seville\n",
      "\t\t\tTitle:Apparition of the Apostle Peter to Saint Peter Nolasco\n",
      "------------------------\n",
      "Cluster:  0\n",
      "\tIndividuos:  2\n",
      "\tage :\n",
      "\t\t 13-17 ( 50.0 %)\n",
      "\t\t 65-70 ( 50.0 %)\n",
      "\tgender :\n",
      "\t\t female ( 100.0 %)\n",
      "\tcountry :\n",
      "\t\t Spain ( 100.0 %)\n",
      "\t--Top 3  positive--\n",
      "\t\t\tTitle:The Pearl of Brabant\n",
      "\t\t\tTitle:Noli Me Tangere\n",
      "\t\t\tTitle:The Straw Manikin\n",
      "\t--Top 3  negative--\n",
      "\t\t\tTitle:Saturn Devouring His Son\n",
      "\t\t\tTitle:The Surrender of Breda\n",
      "\t\t\tTitle:The Surgeon\n",
      "\t--Top 3  mixed--\n",
      "\t\t\tTitle:The Extraction of the Stone Madness\n",
      "------------------------\n",
      "Cluster:  6\n",
      "\tIndividuos:  16\n",
      "\tage :\n",
      "\t\t 35-44 ( 50.0 %)\n",
      "\tgender :\n",
      "\t\t female ( 50.0 %)\n",
      "\t\t male ( 50.0 %)\n",
      "\tcountry :\n",
      "\t\t Other ( 31.25 %)\n",
      "\t--Top 3  positive--\n",
      "\t\t\tTitle:The Straw Manikin\n",
      "\t\t\tTitle:St. Rufina of Seville\n",
      "\t\t\tTitle:The Virgin and the Child\n",
      "\t--Top 3  negative--\n",
      "\t\t\tTitle:The Surgeon\n",
      "\t\t\tTitle:David and Goliath\n",
      "\t\t\tTitle:Hercules Fighting with the Hydra of Lernea\n",
      "\t--Top 3  mixed--\n",
      "\t\t\tTitle:The Surgeon\n",
      "\t\t\tTitle:Self-Portrait\n",
      "\t\t\tTitle:The Three Ages of Man and Death\n",
      "------------------------\n",
      "Cluster:  4\n",
      "\tIndividuos:  14\n",
      "\tage :\n",
      "\t\t 45-54 ( 50.0 %)\n",
      "\tgender :\n",
      "\t\t male ( 100.0 %)\n",
      "\tcountry :\n",
      "\t\t Spain ( 42.857142857142854 %)\n",
      "\t--Top 3  positive--\n",
      "\t\t\tTitle:The Straw Manikin\n",
      "\t\t\tTitle:Rest on the Flight into Egypt\n",
      "\t\t\tTitle:Adoration of the Magi Triptych\n",
      "\t--Top 3  negative--\n",
      "\t\t\tTitle:The Straw Manikin\n",
      "\t\t\tTitle:The Surgeon\n",
      "\t\t\tTitle:The Triumph of Death\n",
      "\t--Top 3  mixed--\n",
      "\t\t\tTitle:Noli Me Tangere\n",
      "\t\t\tTitle:The Straw Manikin\n",
      "\t\t\tTitle:St. Rufina of Seville\n",
      "------------------------\n",
      "Cluster:  9\n",
      "\tIndividuos:  40\n",
      "\tage :\n",
      "\t\t 25-34 ( 30.0 %)\n",
      "\tgender :\n",
      "\t\t male ( 100.0 %)\n",
      "\tcountry :\n",
      "\t\t Spain ( 40.0 %)\n",
      "\t--Top 3  positive--\n",
      "\t\t\tTitle:The Straw Manikin\n",
      "\t\t\tTitle:Rest on the Flight into Egypt\n",
      "\t\t\tTitle:The Surgeon\n",
      "\t--Top 3  negative--\n",
      "\t\t\tTitle:David and Goliath\n",
      "\t\t\tTitle:The Third of May 1808\n",
      "\t\t\tTitle:Saturn Devouring His Son\n",
      "\t--Top 3  mixed--\n",
      "\t\t\tTitle:St. Rufina of Seville\n",
      "\t\t\tTitle:The Straw Manikin\n",
      "\t\t\tTitle:The Triumph of Death\n",
      "------------------------\n",
      "Cluster:  1\n",
      "\tIndividuos:  15\n",
      "\tage :\n",
      "\t\t 55-64 ( 46.666666666666664 %)\n",
      "\tgender :\n",
      "\t\t female ( 73.33333333333333 %)\n",
      "\tcountry :\n",
      "\t\t Other ( 46.666666666666664 %)\n",
      "\t--Top 3  positive--\n",
      "\t\t\tTitle:Rest on the Flight into Egypt\n",
      "\t\t\tTitle:The Straw Manikin\n",
      "\t\t\tTitle:The Pearl of Brabant\n",
      "\t--Top 3  negative--\n",
      "\t\t\tTitle:The Surgeon\n",
      "\t\t\tTitle:Saturn Devouring His Son\n",
      "\t\t\tTitle:The Seven Deadly Sins and the Four Last Things\n",
      "\t--Top 3  mixed--\n",
      "\t\t\tTitle:Still Life with Pots\n",
      "\t\t\tTitle:The Surgeon\n"
     ]
    }
   ],
   "source": [
    "AU.printExplanation()"
   ]
  },
  {
   "cell_type": "code",
   "execution_count": null,
   "id": "cda1f891-0f58-4662-a3e1-910ebe8b6464",
   "metadata": {},
   "outputs": [],
   "source": []
  }
 ],
 "metadata": {
  "kernelspec": {
   "display_name": "Python 3 (ipykernel)",
   "language": "python",
   "name": "python3"
  },
  "language_info": {
   "codemirror_mode": {
    "name": "ipython",
    "version": 3
   },
   "file_extension": ".py",
   "mimetype": "text/x-python",
   "name": "python",
   "nbconvert_exporter": "python",
   "pygments_lexer": "ipython3",
   "version": "3.9.7"
  }
 },
 "nbformat": 4,
 "nbformat_minor": 5
}

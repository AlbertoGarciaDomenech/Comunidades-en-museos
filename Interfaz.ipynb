{
 "cells": [
  {
   "cell_type": "code",
   "execution_count": 1,
   "id": "fabd3b46-30dd-4a4a-a438-3648432e53d9",
   "metadata": {},
   "outputs": [],
   "source": [
    "import pandas as pd\n",
    "from src.UsersClustering import UsersClustering\n",
    "from src.AverageUser import AverageUser"
   ]
  },
  {
   "cell_type": "code",
   "execution_count": 9,
   "id": "7630ec81-a772-4059-9a2c-ed1755120959",
   "metadata": {},
   "outputs": [],
   "source": [
    "%%capture output\n",
    "sim_users = pd.read_csv(\"data/Prado_users_similarity_OnePolarity.csv\", index_col=0)\n",
    "users = pd.read_csv('data/Prado_users_emotions_OnePolarity.csv')\n",
    "\n",
    "users['positive'] = users['positive'].apply(eval)\n",
    "users['negative'] = users['negative'].apply(eval)\n",
    "users['mixed'] = users['mixed'].apply(eval)\n",
    "\n",
    "labels = UsersClustering().kMedoidsFromMatrix(sim_users)\n",
    "users['cluster'] = labels\n",
    "\n",
    "df = AverageUser().computeAverageUser(users)"
   ]
  },
  {
   "cell_type": "code",
   "execution_count": 10,
   "id": "3f818077-11f6-4565-8ca1-c20b4f26101b",
   "metadata": {},
   "outputs": [
    {
     "data": {
      "text/html": [
       "<div>\n",
       "<style scoped>\n",
       "    .dataframe tbody tr th:only-of-type {\n",
       "        vertical-align: middle;\n",
       "    }\n",
       "\n",
       "    .dataframe tbody tr th {\n",
       "        vertical-align: top;\n",
       "    }\n",
       "\n",
       "    .dataframe thead th {\n",
       "        text-align: right;\n",
       "    }\n",
       "</style>\n",
       "<table border=\"1\" class=\"dataframe\">\n",
       "  <thead>\n",
       "    <tr style=\"text-align: right;\">\n",
       "      <th></th>\n",
       "      <th>userId</th>\n",
       "      <th>age</th>\n",
       "      <th>gender</th>\n",
       "      <th>country</th>\n",
       "      <th>positive</th>\n",
       "      <th>negative</th>\n",
       "      <th>mixed</th>\n",
       "      <th>cluster</th>\n",
       "    </tr>\n",
       "  </thead>\n",
       "  <tbody>\n",
       "    <tr>\n",
       "      <th>0</th>\n",
       "      <td>0</td>\n",
       "      <td>18-24</td>\n",
       "      <td>male</td>\n",
       "      <td>Spain</td>\n",
       "      <td>[57726f59edc2cb3880ba76b3, 57727c95edc2cb3880e...</td>\n",
       "      <td>[57727cbaedc2cb3880e561f7, 577278d5edc2cb3880d...</td>\n",
       "      <td>[57727015edc2cb3880bceb08, 5772700eedc2cb3880b...</td>\n",
       "      <td>0</td>\n",
       "    </tr>\n",
       "    <tr>\n",
       "      <th>1</th>\n",
       "      <td>0</td>\n",
       "      <td>35-44</td>\n",
       "      <td>female</td>\n",
       "      <td>Spain</td>\n",
       "      <td>[57726f59edc2cb3880ba76b3, 57727015edc2cb3880b...</td>\n",
       "      <td>[57727cbaedc2cb3880e561f7, 57726f59edc2cb3880b...</td>\n",
       "      <td>[57727071edc2cb3880be3213, 57727015edc2cb3880b...</td>\n",
       "      <td>1</td>\n",
       "    </tr>\n",
       "    <tr>\n",
       "      <th>2</th>\n",
       "      <td>0</td>\n",
       "      <td>18-24</td>\n",
       "      <td>female</td>\n",
       "      <td>Other</td>\n",
       "      <td>[57726f59edc2cb3880ba76b3, 5772752eedc2cb3880c...</td>\n",
       "      <td>[57727cbaedc2cb3880e561f7, 57726f76edc2cb3880b...</td>\n",
       "      <td>[57727cbaedc2cb3880e561f7, 57727015edc2cb3880b...</td>\n",
       "      <td>2</td>\n",
       "    </tr>\n",
       "    <tr>\n",
       "      <th>3</th>\n",
       "      <td>0</td>\n",
       "      <td>45-54</td>\n",
       "      <td>male</td>\n",
       "      <td>Other</td>\n",
       "      <td>[57727c95edc2cb3880e4d1d4, 57726f59edc2cb3880b...</td>\n",
       "      <td>[57727cbaedc2cb3880e561f7, 57726f49edc2cb3880b...</td>\n",
       "      <td>[57727015edc2cb3880bceb08, 57726f59edc2cb3880b...</td>\n",
       "      <td>3</td>\n",
       "    </tr>\n",
       "    <tr>\n",
       "      <th>4</th>\n",
       "      <td>0</td>\n",
       "      <td>35-44</td>\n",
       "      <td>female</td>\n",
       "      <td>Spain</td>\n",
       "      <td>[57726f59edc2cb3880ba76b3, 57727015edc2cb3880b...</td>\n",
       "      <td>[57726f4fedc2cb3880ba0b6d, 5772752eedc2cb3880c...</td>\n",
       "      <td>[57727cbaedc2cb3880e561f7, 57726f76edc2cb3880b...</td>\n",
       "      <td>4</td>\n",
       "    </tr>\n",
       "  </tbody>\n",
       "</table>\n",
       "</div>"
      ],
      "text/plain": [
       "   userId    age  gender country  \\\n",
       "0       0  18-24    male   Spain   \n",
       "1       0  35-44  female   Spain   \n",
       "2       0  18-24  female   Other   \n",
       "3       0  45-54    male   Other   \n",
       "4       0  35-44  female   Spain   \n",
       "\n",
       "                                            positive  \\\n",
       "0  [57726f59edc2cb3880ba76b3, 57727c95edc2cb3880e...   \n",
       "1  [57726f59edc2cb3880ba76b3, 57727015edc2cb3880b...   \n",
       "2  [57726f59edc2cb3880ba76b3, 5772752eedc2cb3880c...   \n",
       "3  [57727c95edc2cb3880e4d1d4, 57726f59edc2cb3880b...   \n",
       "4  [57726f59edc2cb3880ba76b3, 57727015edc2cb3880b...   \n",
       "\n",
       "                                            negative  \\\n",
       "0  [57727cbaedc2cb3880e561f7, 577278d5edc2cb3880d...   \n",
       "1  [57727cbaedc2cb3880e561f7, 57726f59edc2cb3880b...   \n",
       "2  [57727cbaedc2cb3880e561f7, 57726f76edc2cb3880b...   \n",
       "3  [57727cbaedc2cb3880e561f7, 57726f49edc2cb3880b...   \n",
       "4  [57726f4fedc2cb3880ba0b6d, 5772752eedc2cb3880c...   \n",
       "\n",
       "                                               mixed  cluster  \n",
       "0  [57727015edc2cb3880bceb08, 5772700eedc2cb3880b...        0  \n",
       "1  [57727071edc2cb3880be3213, 57727015edc2cb3880b...        1  \n",
       "2  [57727cbaedc2cb3880e561f7, 57727015edc2cb3880b...        2  \n",
       "3  [57727015edc2cb3880bceb08, 57726f59edc2cb3880b...        3  \n",
       "4  [57727cbaedc2cb3880e561f7, 57726f76edc2cb3880b...        4  "
      ]
     },
     "execution_count": 10,
     "metadata": {},
     "output_type": "execute_result"
    }
   ],
   "source": [
    "df"
   ]
  },
  {
   "cell_type": "code",
   "execution_count": 2,
   "id": "f14c2cff-c5db-4f25-8a11-d408403bea67",
   "metadata": {},
   "outputs": [],
   "source": [
    "import pandas as pd\n",
    "import src.AverageUser as AU"
   ]
  },
  {
   "cell_type": "code",
   "execution_count": 3,
   "id": "09370e72-fc93-4519-89d0-32fc72c3da12",
   "metadata": {},
   "outputs": [
    {
     "data": {
      "text/html": [
       "<div>\n",
       "<style scoped>\n",
       "    .dataframe tbody tr th:only-of-type {\n",
       "        vertical-align: middle;\n",
       "    }\n",
       "\n",
       "    .dataframe tbody tr th {\n",
       "        vertical-align: top;\n",
       "    }\n",
       "\n",
       "    .dataframe thead th {\n",
       "        text-align: right;\n",
       "    }\n",
       "</style>\n",
       "<table border=\"1\" class=\"dataframe\">\n",
       "  <thead>\n",
       "    <tr style=\"text-align: right;\">\n",
       "      <th></th>\n",
       "      <th>userId</th>\n",
       "      <th>age</th>\n",
       "      <th>gender</th>\n",
       "      <th>country</th>\n",
       "      <th>medoid</th>\n",
       "      <th>positive</th>\n",
       "      <th>negative</th>\n",
       "      <th>mixed</th>\n",
       "      <th>cluster</th>\n",
       "    </tr>\n",
       "  </thead>\n",
       "  <tbody>\n",
       "    <tr>\n",
       "      <th>0</th>\n",
       "      <td>0</td>\n",
       "      <td>18-24</td>\n",
       "      <td>male</td>\n",
       "      <td>Spain</td>\n",
       "      <td>-1.0</td>\n",
       "      <td>[57726f59edc2cb3880ba76b3, 57727c95edc2cb3880e...</td>\n",
       "      <td>[57727cbaedc2cb3880e561f7, 577278d5edc2cb3880d...</td>\n",
       "      <td>[57727015edc2cb3880bceb08, 5772700eedc2cb3880b...</td>\n",
       "      <td>0</td>\n",
       "    </tr>\n",
       "    <tr>\n",
       "      <th>1</th>\n",
       "      <td>0</td>\n",
       "      <td>35-44</td>\n",
       "      <td>female</td>\n",
       "      <td>Spain</td>\n",
       "      <td>-1.0</td>\n",
       "      <td>[57726f59edc2cb3880ba76b3, 57727015edc2cb3880b...</td>\n",
       "      <td>[57727cbaedc2cb3880e561f7, 57726f59edc2cb3880b...</td>\n",
       "      <td>[57727071edc2cb3880be3213, 57727015edc2cb3880b...</td>\n",
       "      <td>1</td>\n",
       "    </tr>\n",
       "    <tr>\n",
       "      <th>2</th>\n",
       "      <td>0</td>\n",
       "      <td>18-24</td>\n",
       "      <td>female</td>\n",
       "      <td>Other</td>\n",
       "      <td>-1.0</td>\n",
       "      <td>[57726f59edc2cb3880ba76b3, 5772752eedc2cb3880c...</td>\n",
       "      <td>[57727cbaedc2cb3880e561f7, 57726f76edc2cb3880b...</td>\n",
       "      <td>[57727cbaedc2cb3880e561f7, 57727015edc2cb3880b...</td>\n",
       "      <td>2</td>\n",
       "    </tr>\n",
       "    <tr>\n",
       "      <th>3</th>\n",
       "      <td>0</td>\n",
       "      <td>45-54</td>\n",
       "      <td>male</td>\n",
       "      <td>Other</td>\n",
       "      <td>-1.0</td>\n",
       "      <td>[57727c95edc2cb3880e4d1d4, 57726f59edc2cb3880b...</td>\n",
       "      <td>[57727cbaedc2cb3880e561f7, 57726f49edc2cb3880b...</td>\n",
       "      <td>[57727015edc2cb3880bceb08, 57726f59edc2cb3880b...</td>\n",
       "      <td>3</td>\n",
       "    </tr>\n",
       "    <tr>\n",
       "      <th>4</th>\n",
       "      <td>0</td>\n",
       "      <td>35-44</td>\n",
       "      <td>female</td>\n",
       "      <td>Spain</td>\n",
       "      <td>-1.0</td>\n",
       "      <td>[57726f59edc2cb3880ba76b3, 57727015edc2cb3880b...</td>\n",
       "      <td>[57726f4fedc2cb3880ba0b6d, 5772752eedc2cb3880c...</td>\n",
       "      <td>[57727cbaedc2cb3880e561f7, 57726f76edc2cb3880b...</td>\n",
       "      <td>4</td>\n",
       "    </tr>\n",
       "  </tbody>\n",
       "</table>\n",
       "</div>"
      ],
      "text/plain": [
       "   userId    age  gender country  medoid  \\\n",
       "0       0  18-24    male   Spain    -1.0   \n",
       "1       0  35-44  female   Spain    -1.0   \n",
       "2       0  18-24  female   Other    -1.0   \n",
       "3       0  45-54    male   Other    -1.0   \n",
       "4       0  35-44  female   Spain    -1.0   \n",
       "\n",
       "                                            positive  \\\n",
       "0  [57726f59edc2cb3880ba76b3, 57727c95edc2cb3880e...   \n",
       "1  [57726f59edc2cb3880ba76b3, 57727015edc2cb3880b...   \n",
       "2  [57726f59edc2cb3880ba76b3, 5772752eedc2cb3880c...   \n",
       "3  [57727c95edc2cb3880e4d1d4, 57726f59edc2cb3880b...   \n",
       "4  [57726f59edc2cb3880ba76b3, 57727015edc2cb3880b...   \n",
       "\n",
       "                                            negative  \\\n",
       "0  [57727cbaedc2cb3880e561f7, 577278d5edc2cb3880d...   \n",
       "1  [57727cbaedc2cb3880e561f7, 57726f59edc2cb3880b...   \n",
       "2  [57727cbaedc2cb3880e561f7, 57726f76edc2cb3880b...   \n",
       "3  [57727cbaedc2cb3880e561f7, 57726f49edc2cb3880b...   \n",
       "4  [57726f4fedc2cb3880ba0b6d, 5772752eedc2cb3880c...   \n",
       "\n",
       "                                               mixed  cluster  \n",
       "0  [57727015edc2cb3880bceb08, 5772700eedc2cb3880b...        0  \n",
       "1  [57727071edc2cb3880be3213, 57727015edc2cb3880b...        1  \n",
       "2  [57727cbaedc2cb3880e561f7, 57727015edc2cb3880b...        2  \n",
       "3  [57727015edc2cb3880bceb08, 57726f59edc2cb3880b...        3  \n",
       "4  [57727cbaedc2cb3880e561f7, 57726f76edc2cb3880b...        4  "
      ]
     },
     "execution_count": 3,
     "metadata": {},
     "output_type": "execute_result"
    }
   ],
   "source": [
    "users = pd.read_csv('data/Prado_users_clusters_OnePolarity.csv')\n",
    "emotions = pd.read_csv('data/Prado_users_emotions_OnePolarity.csv')\n",
    "users['positive'] = emotions['positive'].apply(eval)\n",
    "users['negative'] = emotions['negative'].apply(eval)\n",
    "users['mixed'] = emotions['mixed'].apply(eval)\n",
    "AU.AverageUser().computeAverageUser(users)"
   ]
  },
  {
   "cell_type": "code",
   "execution_count": 1,
   "id": "085d7efe-e0bd-4c66-9823-11d8ac3fdc00",
   "metadata": {},
   "outputs": [],
   "source": [
    "%%capture output\n",
    "!pip install ipywidgets\n",
    "!pip install jupyterlab_widgets\n",
    "# !pip install nodejs\n",
    "# !pip install npm\n",
    "!pip install widgetsnbextension\n",
    "!jupyter nbextension enable --py widgetsnbextension"
   ]
  },
  {
   "cell_type": "code",
   "execution_count": 2,
   "id": "9357b7c1-8562-4dd8-9da3-9dbd83cda62b",
   "metadata": {},
   "outputs": [],
   "source": [
    "import ipywidgets as widgets"
   ]
  },
  {
   "cell_type": "code",
   "execution_count": 3,
   "id": "8ac27d25-27c9-4e22-8605-f251116ed08c",
   "metadata": {},
   "outputs": [],
   "source": [
    "w = widgets.IntSlider()"
   ]
  },
  {
   "cell_type": "code",
   "execution_count": 4,
   "id": "280e9b56-d53a-43dd-9d89-8b19ebe805fc",
   "metadata": {},
   "outputs": [
    {
     "data": {
      "application/vnd.jupyter.widget-view+json": {
       "model_id": "1ab387506c5e4cb9980fccb22e461d3f",
       "version_major": 2,
       "version_minor": 0
      },
      "text/plain": [
       "IntSlider(value=0)"
      ]
     },
     "metadata": {},
     "output_type": "display_data"
    }
   ],
   "source": [
    "display(w)"
   ]
  },
  {
   "cell_type": "code",
   "execution_count": 5,
   "id": "e506ebdb-0e27-4a1a-be60-59c9e0c73a06",
   "metadata": {},
   "outputs": [
    {
     "data": {
      "application/vnd.jupyter.widget-view+json": {
       "model_id": "1ab387506c5e4cb9980fccb22e461d3f",
       "version_major": 2,
       "version_minor": 0
      },
      "text/plain": [
       "IntSlider(value=0)"
      ]
     },
     "metadata": {},
     "output_type": "display_data"
    }
   ],
   "source": [
    "display(w)"
   ]
  },
  {
   "cell_type": "code",
   "execution_count": 6,
   "id": "d95f8d15-07a5-445c-bde8-b22f07838361",
   "metadata": {
    "scrolled": true
   },
   "outputs": [
    {
     "data": {
      "application/vnd.jupyter.widget-view+json": {
       "model_id": "7fcd95b0f2c649978028d584030e7e2b",
       "version_major": 2,
       "version_minor": 0
      },
      "text/plain": [
       "FloatText(value=0.0)"
      ]
     },
     "metadata": {},
     "output_type": "display_data"
    },
    {
     "data": {
      "application/vnd.jupyter.widget-view+json": {
       "model_id": "cfb9587e2c454adb835b6763589e88ac",
       "version_major": 2,
       "version_minor": 0
      },
      "text/plain": [
       "FloatSlider(value=0.0)"
      ]
     },
     "metadata": {},
     "output_type": "display_data"
    }
   ],
   "source": [
    "a = widgets.FloatText()\n",
    "b = widgets.FloatSlider()\n",
    "display(a,b)\n",
    "\n",
    "mylink = widgets.jslink((a, 'value'), (b, 'value'))"
   ]
  },
  {
   "cell_type": "code",
   "execution_count": 7,
   "id": "c904b055-b843-4a4f-8cc2-1af0a0693f12",
   "metadata": {},
   "outputs": [
    {
     "data": {
      "application/vnd.jupyter.widget-view+json": {
       "model_id": "8613a222af284dde883b804aaa0022ac",
       "version_major": 2,
       "version_minor": 0
      },
      "text/plain": [
       "Dropdown(description='Number:', options=('1', '2', '3'), value='1')"
      ]
     },
     "metadata": {},
     "output_type": "display_data"
    }
   ],
   "source": [
    "widgets.Dropdown(\n",
    "    options=['1', '2', '3'],\n",
    "    value='1',\n",
    "    description='Number:',\n",
    "    disabled=False,\n",
    ")"
   ]
  },
  {
   "cell_type": "code",
   "execution_count": 8,
   "id": "8b2b1789-fe22-4094-9161-6139b4db8bfc",
   "metadata": {},
   "outputs": [
    {
     "data": {
      "application/vnd.jupyter.widget-view+json": {
       "model_id": "42b1741b9a344a1097c8c600495cc0a9",
       "version_major": 2,
       "version_minor": 0
      },
      "text/plain": [
       "Dropdown(description='Users:', options=('artworkColors.json', 'artworkEmotions.json', 'Clean_users.csv', 'coun…"
      ]
     },
     "metadata": {},
     "output_type": "display_data"
    },
    {
     "data": {
      "application/vnd.jupyter.widget-view+json": {
       "model_id": "fd0e393aa7a141bfb8901bea3d4d9029",
       "version_major": 2,
       "version_minor": 0
      },
      "text/plain": [
       "Dropdown(description='Items:', options=('artworkColors.json', 'artworkEmotions.json', 'Clean_users.csv', 'coun…"
      ]
     },
     "metadata": {},
     "output_type": "display_data"
    }
   ],
   "source": [
    "from os import listdir\n",
    "from os.path import isfile, join\n",
    "\n",
    "mypath = 'data'\n",
    "files = [f for f in listdir(mypath) if isfile(join(mypath, f))]\n",
    "\n",
    "filesDropdown = widgets.Dropdown(\n",
    "    options=files,\n",
    "    value=files[0],\n",
    "    description='Users:',\n",
    "    disabled=False,\n",
    ")\n",
    "itemsDropdown = widgets.Dropdown(\n",
    "    options=files,\n",
    "    value=files[0],\n",
    "    description='Items:',\n",
    "    disabled=False,\n",
    ")\n",
    "\n",
    "display(filesDropdown)\n",
    "display(itemsDropdown)"
   ]
  },
  {
   "cell_type": "code",
   "execution_count": 10,
   "id": "f77b48eb-d3bb-4ad0-93fa-28c4a9beed85",
   "metadata": {},
   "outputs": [
    {
     "data": {
      "text/plain": [
       "'Prado_users_similarity.csv'"
      ]
     },
     "execution_count": 10,
     "metadata": {},
     "output_type": "execute_result"
    }
   ],
   "source": [
    "filesDropdown.value"
   ]
  },
  {
   "cell_type": "code",
   "execution_count": null,
   "id": "975933f5-541d-40b6-a740-b43563828033",
   "metadata": {},
   "outputs": [],
   "source": []
  }
 ],
 "metadata": {
  "kernelspec": {
   "display_name": "Python 3 (ipykernel)",
   "language": "python",
   "name": "python3"
  },
  "language_info": {
   "codemirror_mode": {
    "name": "ipython",
    "version": 3
   },
   "file_extension": ".py",
   "mimetype": "text/x-python",
   "name": "python",
   "nbconvert_exporter": "python",
   "pygments_lexer": "ipython3",
   "version": "3.9.7"
  }
 },
 "nbformat": 4,
 "nbformat_minor": 5
}

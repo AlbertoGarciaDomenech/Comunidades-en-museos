{
 "cells": [
  {
   "cell_type": "markdown",
   "id": "34612466-e39b-47b5-b066-6887bfbd011e",
   "metadata": {
    "tags": []
   },
   "source": [
    "# Requisitos\n",
    "Dependencias externas necesarias para utilizar la interfaz (ejecutar solo si es la primera vez que se usa)"
   ]
  },
  {
   "cell_type": "code",
   "execution_count": null,
   "id": "0b95ca26-1164-4e29-bdb9-75a42cac9e28",
   "metadata": {},
   "outputs": [],
   "source": [
    "%%capture output\n",
    "!pip install -r requirements.txt\n",
    "!pip install Cython"
   ]
  },
  {
   "cell_type": "markdown",
   "id": "919e27b4-8c28-472d-9b49-4d3299e86b85",
   "metadata": {},
   "source": [
    "# Interfaz\n",
    "Ejecutar la siguiente celda para utilizar la interfaz gráfica"
   ]
  },
  {
   "cell_type": "code",
   "execution_count": 1,
   "id": "af59ee9a-bd13-4b83-8b1d-2accf6311bce",
   "metadata": {},
   "outputs": [
    {
     "name": "stdout",
     "output_type": "stream",
     "text": [
      "No cython detected.  Install cython and compile the fa2util module for a 10-100x speed boost.\n"
     ]
    },
    {
     "data": {
      "application/vnd.jupyter.widget-view+json": {
       "model_id": "bdc62070fd3847a189bb171fefdb3acd",
       "version_major": 2,
       "version_minor": 0
      },
      "text/plain": [
       "Output()"
      ]
     },
     "metadata": {},
     "output_type": "display_data"
    }
   ],
   "source": [
    "from src.GUI import *\n",
    "\n",
    "UI = GUI()\n",
    "UI.display_widgets()"
   ]
  },
  {
   "cell_type": "code",
   "execution_count": null,
   "id": "85b588d0-11c4-4d68-81ce-d488cbe32d64",
   "metadata": {},
   "outputs": [],
   "source": []
  }
 ],
 "metadata": {
  "kernelspec": {
   "display_name": "Python 3 (ipykernel)",
   "language": "python",
   "name": "python3"
  },
  "language_info": {
   "codemirror_mode": {
    "name": "ipython",
    "version": 3
   },
   "file_extension": ".py",
   "mimetype": "text/x-python",
   "name": "python",
   "nbconvert_exporter": "python",
   "pygments_lexer": "ipython3",
   "version": "3.9.7"
  }
 },
 "nbformat": 4,
 "nbformat_minor": 5
}

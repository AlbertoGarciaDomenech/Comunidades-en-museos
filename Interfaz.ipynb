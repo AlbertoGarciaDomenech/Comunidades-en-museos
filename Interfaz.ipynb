{
 "cells": [
  {
   "cell_type": "code",
   "execution_count": 1,
   "id": "085d7efe-e0bd-4c66-9823-11d8ac3fdc00",
   "metadata": {},
   "outputs": [],
   "source": [
    "%%capture output\n",
    "!pip install ipywidgets\n",
    "!pip install jupyterlab_widgets\n",
    "# !pip install nodejs\n",
    "# !pip install npm\n",
    "!pip install widgetsnbextension\n",
    "!jupyter nbextension enable --py widgetsnbextension"
   ]
  },
  {
   "cell_type": "code",
   "execution_count": 2,
   "id": "9357b7c1-8562-4dd8-9da3-9dbd83cda62b",
   "metadata": {},
   "outputs": [],
   "source": [
    "import ipywidgets as widgets"
   ]
  },
  {
   "cell_type": "code",
   "execution_count": 3,
   "id": "8ac27d25-27c9-4e22-8605-f251116ed08c",
   "metadata": {},
   "outputs": [],
   "source": [
    "w = widgets.IntSlider()"
   ]
  },
  {
   "cell_type": "code",
   "execution_count": 4,
   "id": "280e9b56-d53a-43dd-9d89-8b19ebe805fc",
   "metadata": {},
   "outputs": [
    {
     "data": {
      "application/vnd.jupyter.widget-view+json": {
       "model_id": "1ab387506c5e4cb9980fccb22e461d3f",
       "version_major": 2,
       "version_minor": 0
      },
      "text/plain": [
       "IntSlider(value=0)"
      ]
     },
     "metadata": {},
     "output_type": "display_data"
    }
   ],
   "source": [
    "display(w)"
   ]
  },
  {
   "cell_type": "code",
   "execution_count": 5,
   "id": "e506ebdb-0e27-4a1a-be60-59c9e0c73a06",
   "metadata": {},
   "outputs": [
    {
     "data": {
      "application/vnd.jupyter.widget-view+json": {
       "model_id": "1ab387506c5e4cb9980fccb22e461d3f",
       "version_major": 2,
       "version_minor": 0
      },
      "text/plain": [
       "IntSlider(value=0)"
      ]
     },
     "metadata": {},
     "output_type": "display_data"
    }
   ],
   "source": [
    "display(w)"
   ]
  },
  {
   "cell_type": "code",
   "execution_count": 6,
   "id": "d95f8d15-07a5-445c-bde8-b22f07838361",
   "metadata": {
    "scrolled": true
   },
   "outputs": [
    {
     "data": {
      "application/vnd.jupyter.widget-view+json": {
       "model_id": "7fcd95b0f2c649978028d584030e7e2b",
       "version_major": 2,
       "version_minor": 0
      },
      "text/plain": [
       "FloatText(value=0.0)"
      ]
     },
     "metadata": {},
     "output_type": "display_data"
    },
    {
     "data": {
      "application/vnd.jupyter.widget-view+json": {
       "model_id": "cfb9587e2c454adb835b6763589e88ac",
       "version_major": 2,
       "version_minor": 0
      },
      "text/plain": [
       "FloatSlider(value=0.0)"
      ]
     },
     "metadata": {},
     "output_type": "display_data"
    }
   ],
   "source": [
    "a = widgets.FloatText()\n",
    "b = widgets.FloatSlider()\n",
    "display(a,b)\n",
    "\n",
    "mylink = widgets.jslink((a, 'value'), (b, 'value'))"
   ]
  },
  {
   "cell_type": "code",
   "execution_count": 7,
   "id": "c904b055-b843-4a4f-8cc2-1af0a0693f12",
   "metadata": {},
   "outputs": [
    {
     "data": {
      "application/vnd.jupyter.widget-view+json": {
       "model_id": "8613a222af284dde883b804aaa0022ac",
       "version_major": 2,
       "version_minor": 0
      },
      "text/plain": [
       "Dropdown(description='Number:', options=('1', '2', '3'), value='1')"
      ]
     },
     "metadata": {},
     "output_type": "display_data"
    }
   ],
   "source": [
    "widgets.Dropdown(\n",
    "    options=['1', '2', '3'],\n",
    "    value='1',\n",
    "    description='Number:',\n",
    "    disabled=False,\n",
    ")"
   ]
  },
  {
   "cell_type": "code",
   "execution_count": 8,
   "id": "8b2b1789-fe22-4094-9161-6139b4db8bfc",
   "metadata": {},
   "outputs": [
    {
     "data": {
      "application/vnd.jupyter.widget-view+json": {
       "model_id": "42b1741b9a344a1097c8c600495cc0a9",
       "version_major": 2,
       "version_minor": 0
      },
      "text/plain": [
       "Dropdown(description='Users:', options=('artworkColors.json', 'artworkEmotions.json', 'Clean_users.csv', 'coun…"
      ]
     },
     "metadata": {},
     "output_type": "display_data"
    },
    {
     "data": {
      "application/vnd.jupyter.widget-view+json": {
       "model_id": "fd0e393aa7a141bfb8901bea3d4d9029",
       "version_major": 2,
       "version_minor": 0
      },
      "text/plain": [
       "Dropdown(description='Items:', options=('artworkColors.json', 'artworkEmotions.json', 'Clean_users.csv', 'coun…"
      ]
     },
     "metadata": {},
     "output_type": "display_data"
    }
   ],
   "source": [
    "from os import listdir\n",
    "from os.path import isfile, join\n",
    "\n",
    "mypath = 'data'\n",
    "files = [f for f in listdir(mypath) if isfile(join(mypath, f))]\n",
    "\n",
    "filesDropdown = widgets.Dropdown(\n",
    "    options=files,\n",
    "    value=files[0],\n",
    "    description='Users:',\n",
    "    disabled=False,\n",
    ")\n",
    "itemsDropdown = widgets.Dropdown(\n",
    "    options=files,\n",
    "    value=files[0],\n",
    "    description='Items:',\n",
    "    disabled=False,\n",
    ")\n",
    "\n",
    "display(filesDropdown)\n",
    "display(itemsDropdown)"
   ]
  },
  {
   "cell_type": "code",
   "execution_count": 10,
   "id": "f77b48eb-d3bb-4ad0-93fa-28c4a9beed85",
   "metadata": {},
   "outputs": [
    {
     "data": {
      "text/plain": [
       "'Prado_users_similarity.csv'"
      ]
     },
     "execution_count": 10,
     "metadata": {},
     "output_type": "execute_result"
    }
   ],
   "source": [
    "filesDropdown.value"
   ]
  },
  {
   "cell_type": "code",
   "execution_count": null,
   "id": "975933f5-541d-40b6-a740-b43563828033",
   "metadata": {},
   "outputs": [],
   "source": []
  }
 ],
 "metadata": {
  "kernelspec": {
   "display_name": "Python 3 (ipykernel)",
   "language": "python",
   "name": "python3"
  },
  "language_info": {
   "codemirror_mode": {
    "name": "ipython",
    "version": 3
   },
   "file_extension": ".py",
   "mimetype": "text/x-python",
   "name": "python",
   "nbconvert_exporter": "python",
   "pygments_lexer": "ipython3",
   "version": "3.9.7"
  }
 },
 "nbformat": 4,
 "nbformat_minor": 5
}

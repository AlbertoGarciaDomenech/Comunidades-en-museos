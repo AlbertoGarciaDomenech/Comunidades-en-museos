{
 "cells": [
  {
   "cell_type": "markdown",
   "id": "733eb3af-5dd2-49f7-ab5a-e0403c897df6",
   "metadata": {
    "tags": []
   },
   "source": [
    "# Clustering de usuarios\n",
    "Agrupar a los usuarios en función de las funciones de las matrices de similitud generadas\n",
    "\n",
    "---"
   ]
  },
  {
   "cell_type": "code",
   "execution_count": 1,
   "id": "d65df0b6-e015-4006-bd1b-1199b18e1154",
   "metadata": {},
   "outputs": [],
   "source": [
    "import numpy as np\n",
    "import pandas as pd"
   ]
  },
  {
   "cell_type": "code",
   "execution_count": 2,
   "id": "d60eef35-3dd4-47cb-bf4a-bf4149bf4907",
   "metadata": {},
   "outputs": [],
   "source": [
    "users = pd.read_csv('data/Prado_users_similarity.csv', index_col=0)"
   ]
  },
  {
   "cell_type": "code",
   "execution_count": 3,
   "id": "17298609-1fc4-4788-844f-92e50c50d57e",
   "metadata": {},
   "outputs": [],
   "source": [
    "from sklearn_extra.cluster import KMedoids\n",
    "\n",
    "kmedoids = KMedoids(init='random', metric='precomputed')"
   ]
  },
  {
   "cell_type": "code",
   "execution_count": 4,
   "id": "a4fa8692-982e-468e-be1e-2110d529ac13",
   "metadata": {},
   "outputs": [],
   "source": [
    "%%capture output\n",
    "kmedoids.fit(users)"
   ]
  },
  {
   "cell_type": "code",
   "execution_count": 5,
   "id": "c8e0afb6-cdba-463e-bea8-533462f9e604",
   "metadata": {},
   "outputs": [
    {
     "data": {
      "text/plain": [
       "Counter({3: 68, 2: 16, 4: 48, 1: 24, 6: 4, 5: 9, 7: 1, 0: 1})"
      ]
     },
     "execution_count": 5,
     "metadata": {},
     "output_type": "execute_result"
    }
   ],
   "source": [
    "import collections\n",
    "collections.Counter(kmedoids.labels_)"
   ]
  },
  {
   "cell_type": "code",
   "execution_count": 6,
   "id": "9a252363-1676-4cd6-b13f-e9f6d6279833",
   "metadata": {},
   "outputs": [],
   "source": [
    "users_clustered = pd.read_csv(\"data/Prado_users.csv\")\n",
    "users_clustered['cluster'] = kmedoids.labels_\n",
    "\n",
    "users_scaled_clustered = pd.read_csv(\"data/Prado_users_scaled.csv\")\n",
    "users_scaled_clustered['cluster'] = kmedoids.labels_"
   ]
  },
  {
   "cell_type": "code",
   "execution_count": 7,
   "id": "d3107721-a06c-4fa3-88c4-e55bd1db08a6",
   "metadata": {},
   "outputs": [],
   "source": [
    "users_clustered.to_csv(\"data/Prado_users_clusters.csv\", index=0)\n",
    "users_scaled_clustered.to_csv(\"data/Prado_users_scaled_clusters.csv\", index=0)"
   ]
  }
 ],
 "metadata": {
  "kernelspec": {
   "display_name": "Python 3 (ipykernel)",
   "language": "python",
   "name": "python3"
  },
  "language_info": {
   "codemirror_mode": {
    "name": "ipython",
    "version": 3
   },
   "file_extension": ".py",
   "mimetype": "text/x-python",
   "name": "python",
   "nbconvert_exporter": "python",
   "pygments_lexer": "ipython3",
   "version": "3.9.7"
  }
 },
 "nbformat": 4,
 "nbformat_minor": 5
}

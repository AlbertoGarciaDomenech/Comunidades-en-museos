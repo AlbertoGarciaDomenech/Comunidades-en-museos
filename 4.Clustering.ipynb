{
 "cells": [
  {
   "cell_type": "markdown",
   "id": "733eb3af-5dd2-49f7-ab5a-e0403c897df6",
   "metadata": {
    "tags": []
   },
   "source": [
    "# Clustering de usuarios\n",
    "Agrupar a los usuarios en función de las funciones de las matrices de similitud generadas\n",
    "\n",
    "---"
   ]
  },
  {
   "cell_type": "code",
   "execution_count": 1,
   "id": "d65df0b6-e015-4006-bd1b-1199b18e1154",
   "metadata": {},
   "outputs": [],
   "source": [
    "import numpy as np\n",
    "import pandas as pd\n",
    "import matplotlib.pyplot as plt\n",
    "import seaborn as sns\n",
    "\n",
    "from sklearn_extra.cluster import KMedoids\n",
    "from sklearn.metrics import davies_bouldin_score"
   ]
  },
  {
   "cell_type": "code",
   "execution_count": 2,
   "id": "d60eef35-3dd4-47cb-bf4a-bf4149bf4907",
   "metadata": {},
   "outputs": [],
   "source": [
    "users = pd.read_csv('data/Prado_users_explicador_similarity.csv', index_col=0)\n",
    "##users = pd.read_csv('data/Prado_users_similarity.csv', index_col=0)\n",
    "prado_users = pd.read_csv('data/Prado_users_scaled.csv', index_col=0)"
   ]
  },
  {
   "cell_type": "markdown",
   "id": "7c98e8c0-f2fd-42e9-8615-295d3b02f641",
   "metadata": {},
   "source": [
    "## 1. Número óptimo de clusters"
   ]
  },
  {
   "cell_type": "code",
   "execution_count": 3,
   "id": "b874fe81-de5f-447e-81ff-4a741c6fae70",
   "metadata": {},
   "outputs": [],
   "source": [
    "%%capture output\n",
    "K_MAX = 11\n",
    "davies_boulding = np.zeros(K_MAX-2)\n",
    "\n",
    "for k in range(2, K_MAX):\n",
    "    km = KMedoids(metric='precomputed', n_clusters=k)\n",
    "    km.fit(users)\n",
    "    davies_boulding[k-2] = davies_bouldin_score(users, km.labels_)"
   ]
  },
  {
   "cell_type": "code",
   "execution_count": 4,
   "id": "66b28400-7735-4c2e-be5b-4528f42fc4ec",
   "metadata": {},
   "outputs": [
    {
     "name": "stdout",
     "output_type": "stream",
     "text": [
      "[2.53157683 3.15796999 2.49721312 3.57599251 2.56741966 4.18050775\n",
      " 3.37289516 3.44788305 2.62375252]\n"
     ]
    },
    {
     "data": {
      "image/png": "[encoded data removed]",
      "text/plain": [
       "<Figure size 432x288 with 1 Axes>"
      ]
     },
     "metadata": {
      "needs_background": "light"
     },
     "output_type": "display_data"
    }
   ],
   "source": [
    "plt.plot(range(2, K_MAX), davies_boulding)\n",
    "plt.title('Valor de Davies Boulding para diferentes k')\n",
    "\n",
    "print(davies_boulding)\n",
    "plt.show()"
   ]
  },
  {
   "cell_type": "code",
   "execution_count": 5,
   "id": "99055faf-5701-4448-89ce-5fbdfae765b9",
   "metadata": {},
   "outputs": [
    {
     "name": "stdout",
     "output_type": "stream",
     "text": [
      "Min: 2.4972131158327997, Arg: 2, Val: 4\n"
     ]
    }
   ],
   "source": [
    "min_val = np.min(davies_boulding)\n",
    "min_arg = np.argmin(davies_boulding)\n",
    "\n",
    "print(\"Min: {}, Arg: {}, Val: {}\".format(min_val, min_arg, range(2, K_MAX)[min_arg]))"
   ]
  },
  {
   "cell_type": "markdown",
   "id": "aec9d406-ce24-4e27-ad78-50f0aab57414",
   "metadata": {},
   "source": [
    "## 2. Clustering"
   ]
  },
  {
   "cell_type": "code",
   "execution_count": 6,
   "id": "17298609-1fc4-4788-844f-92e50c50d57e",
   "metadata": {},
   "outputs": [],
   "source": [
    "%%capture output\n",
    "\n",
    "kmedoids = KMedoids(metric='precomputed', n_clusters=2)\n",
    "\n",
    "kmedoids.fit(users)"
   ]
  },
  {
   "cell_type": "code",
   "execution_count": 7,
   "id": "c8e0afb6-cdba-463e-bea8-533462f9e604",
   "metadata": {},
   "outputs": [
    {
     "data": {
      "text/plain": [
       "Counter({0: 87, 1: 86})"
      ]
     },
     "execution_count": 7,
     "metadata": {},
     "output_type": "execute_result"
    }
   ],
   "source": [
    "import collections\n",
    "collections.Counter(kmedoids.labels_)"
   ]
  },
  {
   "cell_type": "code",
   "execution_count": 8,
   "id": "4922fef8-f9c5-424d-bff5-59d32f6c92b1",
   "metadata": {},
   "outputs": [
    {
     "data": {
      "text/plain": [
       "array([140, 129], dtype=int64)"
      ]
     },
     "execution_count": 8,
     "metadata": {},
     "output_type": "execute_result"
    }
   ],
   "source": [
    "kmedoids.medoid_indices_"
   ]
  },
  {
   "cell_type": "code",
   "execution_count": 9,
   "id": "804e2f07-e469-45e5-b778-f8d5e0622b51",
   "metadata": {},
   "outputs": [
    {
     "ename": "ValueError",
     "evalue": "Found input variables with inconsistent numbers of samples: [171, 173]",
     "output_type": "error",
     "traceback": [
      "\u001b[1;31m---------------------------------------------------------------------------\u001b[0m",
      "\u001b[1;31mValueError\u001b[0m                                Traceback (most recent call last)",
      "\u001b[1;32m~\\AppData\\Local\\Temp/ipykernel_12264/3616800154.py\u001b[0m in \u001b[0;36m<module>\u001b[1;34m\u001b[0m\n\u001b[1;32m----> 1\u001b[1;33m \u001b[0mdavies_bouldin_score\u001b[0m\u001b[1;33m(\u001b[0m\u001b[0mprado_users\u001b[0m\u001b[1;33m,\u001b[0m \u001b[0mkmedoids\u001b[0m\u001b[1;33m.\u001b[0m\u001b[0mlabels_\u001b[0m\u001b[1;33m)\u001b[0m\u001b[1;33m\u001b[0m\u001b[1;33m\u001b[0m\u001b[0m\n\u001b[0m",
      "\u001b[1;32m~\\AppData\\Roaming\\Python\\Python39\\site-packages\\sklearn\\metrics\\cluster\\_unsupervised.py\u001b[0m in \u001b[0;36mdavies_bouldin_score\u001b[1;34m(X, labels)\u001b[0m\n\u001b[0;32m    337\u001b[0m        \u001b[0mPAMI\u001b[0m\u001b[1;33m-\u001b[0m\u001b[1;36m1\u001b[0m \u001b[1;33m(\u001b[0m\u001b[1;36m2\u001b[0m\u001b[1;33m)\u001b[0m\u001b[1;33m:\u001b[0m \u001b[1;36m224\u001b[0m\u001b[1;33m-\u001b[0m\u001b[1;36m227\u001b[0m\u001b[1;33m\u001b[0m\u001b[1;33m\u001b[0m\u001b[0m\n\u001b[0;32m    338\u001b[0m     \"\"\"\n\u001b[1;32m--> 339\u001b[1;33m     \u001b[0mX\u001b[0m\u001b[1;33m,\u001b[0m \u001b[0mlabels\u001b[0m \u001b[1;33m=\u001b[0m \u001b[0mcheck_X_y\u001b[0m\u001b[1;33m(\u001b[0m\u001b[0mX\u001b[0m\u001b[1;33m,\u001b[0m \u001b[0mlabels\u001b[0m\u001b[1;33m)\u001b[0m\u001b[1;33m\u001b[0m\u001b[1;33m\u001b[0m\u001b[0m\n\u001b[0m\u001b[0;32m    340\u001b[0m     \u001b[0mle\u001b[0m \u001b[1;33m=\u001b[0m \u001b[0mLabelEncoder\u001b[0m\u001b[1;33m(\u001b[0m\u001b[1;33m)\u001b[0m\u001b[1;33m\u001b[0m\u001b[1;33m\u001b[0m\u001b[0m\n\u001b[0;32m    341\u001b[0m     \u001b[0mlabels\u001b[0m \u001b[1;33m=\u001b[0m \u001b[0mle\u001b[0m\u001b[1;33m.\u001b[0m\u001b[0mfit_transform\u001b[0m\u001b[1;33m(\u001b[0m\u001b[0mlabels\u001b[0m\u001b[1;33m)\u001b[0m\u001b[1;33m\u001b[0m\u001b[1;33m\u001b[0m\u001b[0m\n",
      "\u001b[1;32m~\\AppData\\Roaming\\Python\\Python39\\site-packages\\sklearn\\utils\\validation.py\u001b[0m in \u001b[0;36minner_f\u001b[1;34m(*args, **kwargs)\u001b[0m\n\u001b[0;32m     61\u001b[0m             \u001b[0mextra_args\u001b[0m \u001b[1;33m=\u001b[0m \u001b[0mlen\u001b[0m\u001b[1;33m(\u001b[0m\u001b[0margs\u001b[0m\u001b[1;33m)\u001b[0m \u001b[1;33m-\u001b[0m \u001b[0mlen\u001b[0m\u001b[1;33m(\u001b[0m\u001b[0mall_args\u001b[0m\u001b[1;33m)\u001b[0m\u001b[1;33m\u001b[0m\u001b[1;33m\u001b[0m\u001b[0m\n\u001b[0;32m     62\u001b[0m             \u001b[1;32mif\u001b[0m \u001b[0mextra_args\u001b[0m \u001b[1;33m<=\u001b[0m \u001b[1;36m0\u001b[0m\u001b[1;33m:\u001b[0m\u001b[1;33m\u001b[0m\u001b[1;33m\u001b[0m\u001b[0m\n\u001b[1;32m---> 63\u001b[1;33m                 \u001b[1;32mreturn\u001b[0m \u001b[0mf\u001b[0m\u001b[1;33m(\u001b[0m\u001b[1;33m*\u001b[0m\u001b[0margs\u001b[0m\u001b[1;33m,\u001b[0m \u001b[1;33m**\u001b[0m\u001b[0mkwargs\u001b[0m\u001b[1;33m)\u001b[0m\u001b[1;33m\u001b[0m\u001b[1;33m\u001b[0m\u001b[0m\n\u001b[0m\u001b[0;32m     64\u001b[0m \u001b[1;33m\u001b[0m\u001b[0m\n\u001b[0;32m     65\u001b[0m             \u001b[1;31m# extra_args > 0\u001b[0m\u001b[1;33m\u001b[0m\u001b[1;33m\u001b[0m\u001b[0m\n",
      "\u001b[1;32m~\\AppData\\Roaming\\Python\\Python39\\site-packages\\sklearn\\utils\\validation.py\u001b[0m in \u001b[0;36mcheck_X_y\u001b[1;34m(X, y, accept_sparse, accept_large_sparse, dtype, order, copy, force_all_finite, ensure_2d, allow_nd, multi_output, ensure_min_samples, ensure_min_features, y_numeric, estimator)\u001b[0m\n\u001b[0;32m    829\u001b[0m         \u001b[0my\u001b[0m \u001b[1;33m=\u001b[0m \u001b[0my\u001b[0m\u001b[1;33m.\u001b[0m\u001b[0mastype\u001b[0m\u001b[1;33m(\u001b[0m\u001b[0mnp\u001b[0m\u001b[1;33m.\u001b[0m\u001b[0mfloat64\u001b[0m\u001b[1;33m)\u001b[0m\u001b[1;33m\u001b[0m\u001b[1;33m\u001b[0m\u001b[0m\n\u001b[0;32m    830\u001b[0m \u001b[1;33m\u001b[0m\u001b[0m\n\u001b[1;32m--> 831\u001b[1;33m     \u001b[0mcheck_consistent_length\u001b[0m\u001b[1;33m(\u001b[0m\u001b[0mX\u001b[0m\u001b[1;33m,\u001b[0m \u001b[0my\u001b[0m\u001b[1;33m)\u001b[0m\u001b[1;33m\u001b[0m\u001b[1;33m\u001b[0m\u001b[0m\n\u001b[0m\u001b[0;32m    832\u001b[0m \u001b[1;33m\u001b[0m\u001b[0m\n\u001b[0;32m    833\u001b[0m     \u001b[1;32mreturn\u001b[0m \u001b[0mX\u001b[0m\u001b[1;33m,\u001b[0m \u001b[0my\u001b[0m\u001b[1;33m\u001b[0m\u001b[1;33m\u001b[0m\u001b[0m\n",
      "\u001b[1;32m~\\AppData\\Roaming\\Python\\Python39\\site-packages\\sklearn\\utils\\validation.py\u001b[0m in \u001b[0;36mcheck_consistent_length\u001b[1;34m(*arrays)\u001b[0m\n\u001b[0;32m    260\u001b[0m     \u001b[0muniques\u001b[0m \u001b[1;33m=\u001b[0m \u001b[0mnp\u001b[0m\u001b[1;33m.\u001b[0m\u001b[0munique\u001b[0m\u001b[1;33m(\u001b[0m\u001b[0mlengths\u001b[0m\u001b[1;33m)\u001b[0m\u001b[1;33m\u001b[0m\u001b[1;33m\u001b[0m\u001b[0m\n\u001b[0;32m    261\u001b[0m     \u001b[1;32mif\u001b[0m \u001b[0mlen\u001b[0m\u001b[1;33m(\u001b[0m\u001b[0muniques\u001b[0m\u001b[1;33m)\u001b[0m \u001b[1;33m>\u001b[0m \u001b[1;36m1\u001b[0m\u001b[1;33m:\u001b[0m\u001b[1;33m\u001b[0m\u001b[1;33m\u001b[0m\u001b[0m\n\u001b[1;32m--> 262\u001b[1;33m         raise ValueError(\"Found input variables with inconsistent numbers of\"\n\u001b[0m\u001b[0;32m    263\u001b[0m                          \" samples: %r\" % [int(l) for l in lengths])\n\u001b[0;32m    264\u001b[0m \u001b[1;33m\u001b[0m\u001b[0m\n",
      "\u001b[1;31mValueError\u001b[0m: Found input variables with inconsistent numbers of samples: [171, 173]"
     ]
    }
   ],
   "source": [
    "davies_bouldin_score(prado_users, kmedoids.labels_)"
   ]
  },
  {
   "cell_type": "code",
   "execution_count": 10,
   "id": "accb5e81-251d-4290-8c1f-72180d9dba74",
   "metadata": {},
   "outputs": [],
   "source": [
    "def add_medoids(data):\n",
    "  medoids = np.empty(len(data))\n",
    "  for i in range(len(data)):\n",
    "    for idx, m in enumerate(kmedoids.medoid_indices_):\n",
    "      if i == m:\n",
    "        medoids[i] = idx\n",
    "        break\n",
    "      else:\n",
    "        medoids[i] = -1\n",
    "  return medoids"
   ]
  },
  {
   "cell_type": "code",
   "execution_count": 12,
   "id": "9a252363-1676-4cd6-b13f-e9f6d6279833",
   "metadata": {},
   "outputs": [],
   "source": [
    "users_clustered = pd.read_csv(\"data/Prado_users.csv\")\n",
    "users_clustered['cluster'] = kmedoids.labels_\n",
    "users_clustered['medoid'] = add_medoids(users_clustered)\n",
    "\n",
    "users_scaled_clustered = pd.read_csv(\"data/Prado_users_scaled.csv\")\n",
    "users_scaled_clustered['cluster'] = kmedoids.labels_\n",
    "users_scaled_clustered['medoid'] = add_medoids(users_scaled_clustered)"
   ]
  },
  {
   "cell_type": "code",
   "execution_count": 13,
   "id": "d3107721-a06c-4fa3-88c4-e55bd1db08a6",
   "metadata": {},
   "outputs": [],
   "source": [
    "users_clustered.to_csv(\"data/Prado_users_clusters.csv\", index=0)\n",
    "users_scaled_clustered.to_csv(\"data/Prado_users_scaled_clusters.csv\", index=0)"
   ]
  },
  {
   "cell_type": "code",
   "execution_count": 12,
   "id": "47d465a7-0d04-4180-bca3-a5092b87bda6",
   "metadata": {},
   "outputs": [],
   "source": [
    "#### EXPLICADOR\n",
    "users_explicador_clustered = pd.read_csv(\"data/Prado_users_individuo_explicador.csv\")\n",
    "users_explicador_clustered['cluster'] = kmedoids.labels_\n",
    "users_explicador_clustered['medoid'] = add_medoids(users_explicador_clustered)\n",
    "\n",
    "users_explicador_clustered.to_csv(\"data/Prado_users_explicador_clusters.csv\", index=0)"
   ]
  },
  {
   "cell_type": "markdown",
   "id": "df25019c-b275-4bd6-8010-80be6ce955ae",
   "metadata": {},
   "source": [
    "## ------"
   ]
  },
  {
   "cell_type": "code",
   "execution_count": 16,
   "id": "7ea96654-9591-4a96-bcfc-a84533f57459",
   "metadata": {},
   "outputs": [],
   "source": [
    "%%capture output\n",
    "km = KMedoids(metric='precomputed', n_clusters=2)\n",
    "km.fit(users)"
   ]
  },
  {
   "cell_type": "code",
   "execution_count": 18,
   "id": "79a6b59e-12f9-41dc-95be-4cb1ee24e75f",
   "metadata": {},
   "outputs": [
    {
     "data": {
      "text/plain": [
       "array([140, 129], dtype=int64)"
      ]
     },
     "execution_count": 18,
     "metadata": {},
     "output_type": "execute_result"
    }
   ],
   "source": [
    "km.medoid_indices_"
   ]
  },
  {
   "cell_type": "markdown",
   "id": "aa9a5720-5da0-42a7-9bcc-e87d4ee58331",
   "metadata": {},
   "source": [
    "## ------"
   ]
  },
  {
   "cell_type": "code",
   "execution_count": 1,
   "id": "11c1b11d-b7eb-4f5a-8d2c-5fc670e51084",
   "metadata": {},
   "outputs": [],
   "source": [
    "def show_clusters(data, labels):\n",
    "  palette = sns.color_palette('hls', n_colors=len(set(labels)))\n",
    "  sns.scatterplot(x=data.iloc[:, 0], y=data.iloc[:, 1], hue=labels, palette=palette)\n",
    "  plt.axis('off')\n",
    "  plt.show()"
   ]
  },
  {
   "cell_type": "code",
   "execution_count": 24,
   "id": "e4973171-1430-45a4-b8bc-2844bd100dea",
   "metadata": {},
   "outputs": [
    {
     "data": {
      "image/png": "[encoded data removed]",
      "text/plain": [
       "<Figure size 432x288 with 1 Axes>"
      ]
     },
     "metadata": {
      "needs_background": "light"
     },
     "output_type": "display_data"
    }
   ],
   "source": [
    "show_clusters(users, km.labels_)"
   ]
  }
 ],
 "metadata": {
  "kernelspec": {
   "display_name": "Python 3 (ipykernel)",
   "language": "python",
   "name": "python3"
  },
  "language_info": {
   "codemirror_mode": {
    "name": "ipython",
    "version": 3
   },
   "file_extension": ".py",
   "mimetype": "text/x-python",
   "name": "python",
   "nbconvert_exporter": "python",
   "pygments_lexer": "ipython3",
   "version": "3.9.7"
  }
 },
 "nbformat": 4,
 "nbformat_minor": 5
}

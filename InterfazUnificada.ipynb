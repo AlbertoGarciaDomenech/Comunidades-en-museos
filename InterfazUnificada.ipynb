{
 "cells": [
  {
   "cell_type": "code",
   "execution_count": 1,
   "id": "b9c2b01b-60c4-403c-ba63-f6730123f99b",
   "metadata": {
    "tags": []
   },
   "outputs": [],
   "source": [
    "import pandas as pd\n",
    "import numpy as np\n",
    "import ipywidgets as widgets\n",
    "from os import listdir\n",
    "from os.path import isfile, join\n",
    "\n",
    "\n",
    "from src.SimilarityArtworks import *\n",
    "from src.SimilarityUsers import *\n",
    "from src.ArtworksMatrix import *\n",
    "from src.UsersMatrix import *\n",
    "from src.UsersClustering import *\n",
    "from src.AverageUser import *"
   ]
  },
  {
   "cell_type": "code",
   "execution_count": 2,
   "id": "3ac3c600-2583-4438-9fae-96764ec9fca6",
   "metadata": {},
   "outputs": [],
   "source": [
    "import inspect\n",
    "\n",
    "def inner_classes_list(cls):\n",
    "    return [cls_attribute.__name__ for cls_attribute in cls.__dict__.values()\n",
    "            if inspect.isclass(cls_attribute)]\n",
    "            # and issubclass(cls_attribute, SimilarityFunctionInterface)]\n",
    "    \n",
    "    \n",
    "import functools\n",
    "\n",
    "def on_button_clicked(b, rs_=\"some_default_string\"):\n",
    "    fun(rs_)\n",
    "\n",
    "# button.on_clicked(functools.partial(on_button_clicked, rs_=\"abcdefg\"))"
   ]
  },
  {
   "cell_type": "code",
   "execution_count": 3,
   "id": "e677ce86-6ae5-450d-8cbc-242949e9cb30",
   "metadata": {},
   "outputs": [
    {
     "data": {
      "application/vnd.jupyter.widget-view+json": {
       "model_id": "dc360dc3d82647a1858e19cd14b21a90",
       "version_major": 2,
       "version_minor": 0
      },
      "text/plain": [
       "LoadedButton(description='Loaded', style=ButtonStyle())"
      ]
     },
     "metadata": {},
     "output_type": "display_data"
    }
   ],
   "source": [
    "from traitlets import traitlets\n",
    "\n",
    "class LoadedButton(widgets.Button):\n",
    "    \"\"\"A button that can holds a value as a attribute.\"\"\"\n",
    "\n",
    "    def __init__(self, value=None, *args, **kwargs):\n",
    "        super(LoadedButton, self).__init__(*args, **kwargs)\n",
    "        # Create the value attribute.\n",
    "        self.add_traits(value=traitlets.Any(value))\n",
    "\n",
    "def add_num(ex):\n",
    "    ex.value = ex.value+1\n",
    "    print(ex.value)\n",
    "\n",
    "lb = LoadedButton(description=\"Loaded\", value=1)\n",
    "lb.on_click(add_num)\n",
    "display(lb)"
   ]
  },
  {
   "cell_type": "code",
   "execution_count": 26,
   "id": "547fe1c4-1d6b-4d74-ad2f-e8dc1e508599",
   "metadata": {},
   "outputs": [
    {
     "data": {
      "application/vnd.jupyter.widget-view+json": {
       "model_id": "9244a159a84a453194cd71173f80d508",
       "version_major": 2,
       "version_minor": 0
      },
      "text/plain": [
       "Output()"
      ]
     },
     "metadata": {},
     "output_type": "display_data"
    }
   ],
   "source": [
    "class foo(object):\n",
    "\n",
    "    def __init__(self, path='data/'):\n",
    "      self.path = path\n",
    "      self.files = [f for f in listdir(self.path) if isfile(join(self.path, f))]\n",
    "    \n",
    "    \n",
    "    ### 1. CARGAR DATOS ###\n",
    "    def loadData(self):\n",
    "      self.users = pd.read_csv(self.path + self.usersDropdown.value, index_col=0)\n",
    "      self.items = pd.read_csv(self.path + self.itemsDropdown.value)\n",
    "      self.users['positive'] = self.users['positive'].apply(eval)\n",
    "      self.users['negative'] = self.users['negative'].apply(eval)\n",
    "      self.users['mixed'] = self.users['mixed'].apply(eval)\n",
    "      self.users_sim_functions = [None]\n",
    "      self.users_sim_functions.extend(inner_classes_list(SimilarityUsers))\n",
    "      self.items_sim_functions = [None]\n",
    "      self.items_sim_functions.extend(inner_classes_list(SimilarityArtworks))\n",
    "    \n",
    "    def loadData_create_widgets(self):\n",
    "      self.loadDataComplete = widgets.Label(value=\"- Users and items data loaded -\")\n",
    "      self.loadDataTitle = widgets.HTML(value=\"<b>Select data files</b>\")\n",
    "      self.usersDropdown = widgets.Dropdown(options=self.files,\n",
    "                                            value='Prado_users_emotions_OnePolarity.csv',\n",
    "                                            description='Users:',\n",
    "                                            disabled=False,\n",
    "                                            )\n",
    "      self.itemsDropdown = widgets.Dropdown(options=self.files,\n",
    "                                            value='Prado_artworks_wikidata.csv',\n",
    "                                            description='Items:',\n",
    "                                            disabled=False,\n",
    "                                            )\n",
    "      self.loadDataButton = widgets.Button(description=\"Done\")\n",
    "      self.loadDataButton.on_click(self.on_loadDataButton_clicked)\n",
    "\n",
    "    def on_loadDataButton_clicked(self, change):\n",
    "      self.out.clear_output()\n",
    "      self.loadData()\n",
    "      self.addItemsAtribute_create_widgets()\n",
    "      self.atribute_list = []\n",
    "      with self.out:\n",
    "        display(self.loadDataComplete)\n",
    "        display(self.addItemsAtributeTitle)\n",
    "        display(self.addItemsAtributeButton)\n",
    "    \n",
    "    ### 2. SIMILITUD ITEMS ###\n",
    "    def computeItemsSim(self):\n",
    "      funcs = {x : None for x in self.items.columns}\n",
    "      weights = {x : None for x in self.items.columns}  \n",
    "\n",
    "      for atr in self.atribute_list:\n",
    "        funcs.update({atr.children[0].value : atr.children[1].value})\n",
    "        weights.update({atr.children[0].value : atr.children[2].value})\n",
    "\n",
    "      AM = ArtworksMatrix(self.items, function_dict=funcs, weight_dict=weights)\n",
    "      self.itemsMatrix = AM.getSimilarityMatrix()\n",
    "      self.itemsMatrix\n",
    "    \n",
    "    def addItemsAtribute_create_widgets(self):\n",
    "      self.addItemsAtributeComplete = widgets.Label(value=\"- Items similarity computed -\")\n",
    "      self.addItemsAtributeTitle = widgets.HTML(value=\"<b>- Add atributes to compute items similarity -</b>\")\n",
    "      self.addItemsAtributeButton = widgets.Button(description=\"+ Atribute\")\n",
    "      self.addItemsAtributeButton.on_click(self.on_addItemsAtributeButton_clicked) \n",
    "      self.loadItemsAtributeButton = widgets.Button(description=\"Compute similarity\")\n",
    "      self.loadItemsAtributeButton.on_click(self.on_loadItemsAtributeButton_clicked)\n",
    "    \n",
    "    def addItemsAtribute(self):\n",
    "      aux1 = widgets.Dropdown(options=self.items.columns,\n",
    "                              value=None,\n",
    "                              description='Atribute:',\n",
    "                              disabled=False\n",
    "                             )\n",
    "      aux2 = widgets.Dropdown(options=self.items_sim_functions,\n",
    "                              description='Sim Function::',\n",
    "                              disabled=False\n",
    "                             )\n",
    "      aux3 = widgets.FloatText(value=0.0,\n",
    "                               step=0.1,\n",
    "                               description='Weight:',\n",
    "                               disabled=False\n",
    "                              )\n",
    "      self.itemsLastAtribute = widgets.HBox([aux1, aux2, aux3])\n",
    "    \n",
    "    def on_addItemsAtributeButton_clicked(self, change):\n",
    "      self.out.clear_output()\n",
    "      self.addItemsAtribute()\n",
    "      with self.out:\n",
    "        display(self.loadDataComplete)\n",
    "        display(self.addItemsAtributeTitle)\n",
    "        for atr in self.atribute_list:\n",
    "          display(atr)\n",
    "        display(self.itemsLastAtribute)\n",
    "        display(self.addItemsAtributeButton)\n",
    "        display(self.loadItemsAtributeButton)\n",
    "        self.atribute_list.append(self.itemsLastAtribute)\n",
    "      \n",
    "    def on_loadItemsAtributeButton_clicked(self, change):\n",
    "      self.out.clear_output()\n",
    "      with self.out: print('...')\n",
    "      self.computeItemsSim()\n",
    "      self.out.clear_output()      \n",
    "      self.addUsersAtribute_create_widgets()\n",
    "      self.atribute_list = []\n",
    "      with self.out:\n",
    "        display(self.loadDataComplete)\n",
    "        display(self.addItemsAtributeComplete)\n",
    "        display(self.addUsersAtributeTitle)\n",
    "        display(self.addUsersAtributeButton)\n",
    "    \n",
    "    ### 3. SIMILITUD USUARIOS ###\n",
    "    def computeItemsSim(self):\n",
    "      funcs = {x : None for x in self.items.columns}\n",
    "      weights = {x : None for x in self.items.columns}  \n",
    "\n",
    "      for atr in self.atribute_list:\n",
    "        funcs.update({atr.children[0].value : atr.children[1].value})\n",
    "        weights.update({atr.children[0].value : atr.children[2].value})\n",
    "\n",
    "      AM = ArtworksMatrix(self.items, function_dict=funcs, weight_dict=weights)\n",
    "      self.itemsMatrix = AM.getSimilarityMatrix()\n",
    "    \n",
    "    def addUsersAtribute_create_widgets(self):\n",
    "      self.addUsersAtributeComplete = widgets.Label(value=\"- Users similarity computed -\")\n",
    "      self.addUsersAtributeTitle = widgets.HTML(value=\"<b>- Add atributes to compute users similarity -</b>\")\n",
    "      self.addUsersAtributeButton = widgets.Button(description=\"+ Atribute\")\n",
    "      self.addUsersAtributeButton.on_click(self.on_addUsersAtributeButton_clicked) \n",
    "      self.loadUsersAtributeButton = widgets.Button(description=\"Compute similarity\")\n",
    "      self.loadUsersAtributeButton.on_click(self.on_loadUsersAtributeButton_clicked)\n",
    "    \n",
    "    def addUsersAtribute(self):\n",
    "      aux1 = widgets.Dropdown(options=self.users.columns,\n",
    "                              value=None,\n",
    "                              description='Atribute:',\n",
    "                              disabled=False\n",
    "                             )\n",
    "      aux2 = widgets.Dropdown(options=self.users_sim_functions,\n",
    "                              description='Sim Function::',\n",
    "                              disabled=False\n",
    "                             )\n",
    "      aux3 = widgets.FloatText(value=0.0,\n",
    "                               step=0.1,\n",
    "                               description='Weight:',\n",
    "                               disabled=False\n",
    "                              )\n",
    "      self.usersLastAtribute = widgets.HBox([aux1, aux2, aux3])\n",
    "    \n",
    "    def on_addUsersAtributeButton_clicked(self, change):\n",
    "      self.out.clear_output()\n",
    "      self.addUsersAtribute()\n",
    "      with self.out:\n",
    "        display(self.loadDataComplete)\n",
    "        display(self.addItemsAtributeComplete)\n",
    "        display(self.addUsersAtributeTitle)\n",
    "        for atr in self.atribute_list:\n",
    "          display(atr)\n",
    "        display(self.usersLastAtribute)\n",
    "        display(self.addUsersAtributeButton)\n",
    "        display(self.loadUsersAtributeButton)\n",
    "        self.atribute_list.append(self.usersLastAtribute)\n",
    "    \n",
    "    def on_loadUsersAtributeButton_clicked(self, change):\n",
    "      self.out.clear_output()\n",
    "      # self.computeItemsSim()\n",
    "      with self.out:\n",
    "        display(self.loadDataComplete)\n",
    "        display(self.addItemsAtributeComplete)        \n",
    "        display(self.addUsersAtributeComplete)\n",
    "    \n",
    "    ### MOSTAR TODO ###\n",
    "    def display_widgets(self):\n",
    "        self.loadData_create_widgets()\n",
    "        self.out = widgets.Output()  # this is the output widget in which the df is displayed\n",
    "        \n",
    "        display(self.out)\n",
    "        with self.out:\n",
    "          display(self.loadDataTitle)\n",
    "          display(widgets.VBox(\n",
    "                              [\n",
    "                                  self.usersDropdown,\n",
    "                                  self.itemsDropdown,\n",
    "                                  self.loadDataButton,\n",
    "                              ]\n",
    "                          )\n",
    "                 )\n",
    "\n",
    "      \n",
    "something = foo()\n",
    "something.display_widgets()"
   ]
  },
  {
   "cell_type": "code",
   "execution_count": 3,
   "id": "9451e5a1-6b8e-4661-bc0f-baf7377397bf",
   "metadata": {
    "tags": []
   },
   "outputs": [],
   "source": [
    "def elegirDatos(path, files):\n",
    "  usersDropdown = widgets.Dropdown(\n",
    "      options=files,\n",
    "      value='Prado_users_emotions_OnePolarity.csv',\n",
    "      description='Users:',\n",
    "      disabled=False,\n",
    "  )\n",
    "  itemsDropdown = widgets.Dropdown(\n",
    "      options=files,\n",
    "      value='Prado_artworks_wikidata.csv',\n",
    "      description='Items:',\n",
    "      disabled=False,\n",
    "  )\n",
    "  return usersDropdown, itemsDropdown\n",
    "\n",
    "def button_cargarDatos(b, path, usersDropdown, itemsDropdown):\n",
    "  return cargarDatos(path, usersDropdown, itemsDropdown)\n",
    "  \n",
    "def cargarDatos(path, usersDropdown, itemsDropdown):\n",
    "  users = pd.read_csv(path + usersDropdown.value, index_col=0)\n",
    "  artworks = pd.read_csv(path + itemsDropdown.value)\n",
    "  users['positive'] = users['positive'].apply(eval)\n",
    "  users['negative'] = users['negative'].apply(eval)\n",
    "  users['mixed'] = users['mixed'].apply(eval)\n",
    "  return users, artworks\n",
    "\n",
    "def elegirSimilitudItems(path, files, artworks):\n",
    "  functions = [None]\n",
    "  functions.extend(inner_classes_list(SimilarityArtworks))\n",
    "\n",
    "  dropdowns = {}\n",
    "  for col in artworks.columns:\n",
    "    dropdowns[col] = widgets.Dropdown(options=functions, value=None, description=col, disabled=False)\n",
    "\n",
    "  colorDropdown = widgets.Dropdown(options=files, value=None, description='Colors', disabled=False)\n",
    "\n",
    "  return dropdowns, colorDropdown\n",
    "\n",
    "def elegirSimilitudUsers(path, files, users):\n",
    "  functions = [None]\n",
    "  functions.extend(inner_classes_list(SimilarityUsers))\n",
    "\n",
    "  dropdowns = {}\n",
    "  for col in users.columns:\n",
    "    dropdowns[col] = widgets.Dropdown(options=functions, value=None, description=col, disabled=False)\n",
    "  \n",
    "  return dropdowns\n",
    "\n",
    "def elegirPesosItems(atr_dropdowns, colorDropdown):\n",
    "  floatTexts = {}\n",
    "  colorFloatText = None\n",
    "  for key, value in atr_dropdowns.items():\n",
    "    # if value.value is not None:\n",
    "      floatTexts[key] = widgets.FloatText(value=0.3, description=key, disabled=False)\n",
    "\n",
    "  # if colorDropdown.value is not None:\n",
    "      colorFloatText = widgets.FloatText(value=0.3, description='Colors', disabled=False)\n",
    "    \n",
    "  return floatTexts, colorFloatText\n",
    "\n",
    "def elegirPesosUsers(atr_dropdowns):\n",
    "  floatTexts = {}\n",
    "  for key, value in atr_dropdowns.items():\n",
    "    if value.value is not None:\n",
    "      floatTexts[key] = widgets.FloatText(value=0.3, description=key, disabled=False)\n",
    "  \n",
    "  demographicFloatText = widgets.FloatText(value=0.5, description='Demographic', disabled=False)\n",
    "  polarityFloatText = widgets.FloatText(value=0.5, description='Polarity', disabled=False)\n",
    "  \n",
    "  return floatTexts, demographicFloatText, polarityFloatText\n",
    "\n",
    "def calcularSimilitudItems(path, artworks, atr_dropdowns, float_texts):\n",
    "  funcs = {x : None for x in artworks.columns}\n",
    "  weights = {x : None for x in artworks.columns}\n",
    "\n",
    "  for key, value in atr_dropdowns.items():\n",
    "    funcs.update({key: value.value})\n",
    "\n",
    "  for key, value in float_texts.items():\n",
    "    weights.update({key: value.value})\n",
    "  weights.update({'Colors': colorFloatText.value})\n",
    "\n",
    "  AM = ArtworksMatrix(artworks, function_dict=funcs, weight_dict=weights, colors_path=path + colorDropdown.value)\n",
    "  \n",
    "  return AM.getSimilarityMatrix()\n",
    "\n",
    "def calcularSimilitudUsers(path, users, artworks_sim, atr_dropdowns, float_texts, demographicFloatText, polarityFloatText):\n",
    "  funcs = {x : None for x in users.columns}\n",
    "  weights = {x : None for x in users.columns}\n",
    "\n",
    "  for key, value in atr_dropdowns.items():\n",
    "    funcs.update({key: value.value})\n",
    "\n",
    "  for key, value in float_texts.items():\n",
    "    weights.update({key: value.value})\n",
    "\n",
    "  weights.update({'polarity' : polarityFloatText.value, 'demographic' : demographicFloatText.value})  \n",
    "  \n",
    "  UM = UsersMatrix(users, artworks_sim, function_dict=funcs, weight_dict=weights)\n",
    "  \n",
    "  return UM.getSimilarityMatrix()\n",
    "\n",
    "def calcularClusters(users, users_sim):\n",
    "  users_distance = 1 - users_sim\n",
    "  labels = UsersClustering(users_sim).kMedoidsFromMatrix()\n",
    "  users_clustered = users.copy()\n",
    "  users_clustered['cluster'] = labels\n",
    "  return users_clustered"
   ]
  },
  {
   "cell_type": "code",
   "execution_count": 4,
   "id": "71a2be5e-ef97-4f5f-971b-42e6c8042392",
   "metadata": {},
   "outputs": [
    {
     "data": {
      "application/vnd.jupyter.widget-view+json": {
       "model_id": "8d775ffe324547e584fcca9e2ba36316",
       "version_major": 2,
       "version_minor": 0
      },
      "text/plain": [
       "Output(layout=Layout(border='1px solid black'))"
      ]
     },
     "metadata": {},
     "output_type": "display_data"
    }
   ],
   "source": [
    "import asyncio\n",
    "\n",
    "from IPython.display import display\n",
    "import ipywidgets as widgets\n",
    "\n",
    "\n",
    "out = widgets.Output(layout={'border': '1px solid black'})\n",
    "\n",
    "def wait_for_click(btn, n_clicked=0):\n",
    "    future = asyncio.Future()\n",
    "    \n",
    "    def on_button_clicked(btn):\n",
    "        # btn.description = f\"Clicked {n_clicked} times!\"\n",
    "        future.set_result(btn.description)\n",
    "    \n",
    "    btn.on_click(on_button_clicked)\n",
    "    \n",
    "    return future\n",
    "\n",
    "\n",
    "n_changes = 1\n",
    "\n",
    "btn = widgets.Button(description=\"Never Clicked\")\n",
    "\n",
    "async def f():\n",
    "    for i in range(n_changes):\n",
    "        data_path = 'data/'\n",
    "        files = [f for f in listdir(data_path) if isfile(join(data_path, f))]\n",
    "        \n",
    "        usersDropdown, itemsDropdown = elegirDatos(data_path, files)\n",
    "        display(itemsDropdown)\n",
    "        display(usersDropdown)\n",
    "        display(btn)\n",
    "\n",
    "        btn_descr = await wait_for_click(btn, n_clicked=i + 1)\n",
    "        \n",
    "          # out.append_stdout(f'\\nasync function continued with button description \"{btn_descr}\"\\n')\n",
    "\n",
    "        users, artworks = cargarDatos(data_path, usersDropdown, itemsDropdown)\n",
    "        atr_dropdowns, colorDropdown = elegirSimilitudItems(data_path, files, artworks)\n",
    "        for key, value in atr_dropdowns.items():\n",
    "          display(value)\n",
    "        display(usersDropdown)   \n",
    "        out.append_stdout(f'\\nasync function continued with button description \"{btn_descr}\"\\n')\n",
    "        \n",
    "        btn = widgets.Button(description=\"Clicked Once\")\n",
    "        display(btn)\n",
    "        \n",
    "        btn_descr = await wait_for_click(btn, n_clicked=i + 1)\n",
    "        out.append_stdout(f'\\nasync function continued with button description \"{btn_descr}\"\\n')\n",
    "\n",
    "aux = asyncio.ensure_future(f())\n",
    "out\n"
   ]
  },
  {
   "cell_type": "code",
   "execution_count": 5,
   "id": "1bcdfa85-cbea-43c2-87cd-e9bda4e55688",
   "metadata": {},
   "outputs": [],
   "source": [
    "out = widgets.Output(layout={'border': '1px solid black'})"
   ]
  },
  {
   "cell_type": "code",
   "execution_count": 6,
   "id": "13b128f3-533a-4559-a20d-be96d98f9c57",
   "metadata": {},
   "outputs": [],
   "source": [
    "@out.capture(clear_output=True)\n",
    "def paso2(b):\n",
    "  button = widgets.Button(\n",
    "    description='+ Atribute',\n",
    "    layout={'width': '300px'}\n",
    "  )\n",
    "  button.on_click(paso3)\n",
    "  display(button)\n",
    "\n",
    "def paso3(b):\n",
    "  users, artworks = cargarDatos()\n",
    "  dropdown = widgets.Dropdown(options=artworks, value=None, description=col, disabled=False)\n",
    "  \n",
    "  button = widgets.Button(\n",
    "    description='+ Atribute',\n",
    "    layout={'width': '300px'}\n",
    "  )\n",
    "  button.on_click(paso3)\n",
    "  display(button)"
   ]
  },
  {
   "cell_type": "code",
   "execution_count": 7,
   "id": "06bcd9b9-c081-4978-9bfd-38562efd0295",
   "metadata": {},
   "outputs": [
    {
     "data": {
      "application/vnd.jupyter.widget-view+json": {
       "model_id": "fc0fb8b4c891453481778c54db3ff4a1",
       "version_major": 2,
       "version_minor": 0
      },
      "text/plain": [
       "Output(layout=Layout(border='1px solid black'))"
      ]
     },
     "metadata": {},
     "output_type": "display_data"
    },
    {
     "data": {
      "application/vnd.jupyter.widget-view+json": {
       "model_id": "0b32fa5652404f3dbf3acf23d714e8bb",
       "version_major": 2,
       "version_minor": 0
      },
      "text/plain": [
       "Dropdown(description='Items:', index=8, options=('artworkColors.json', 'artworkEmotions.json', 'Clean_users.cs…"
      ]
     },
     "metadata": {},
     "output_type": "display_data"
    },
    {
     "data": {
      "application/vnd.jupyter.widget-view+json": {
       "model_id": "eddb1a5a24b14fd1b0e50155c74c2e4c",
       "version_major": 2,
       "version_minor": 0
      },
      "text/plain": [
       "Dropdown(description='Users:', index=14, options=('artworkColors.json', 'artworkEmotions.json', 'Clean_users.c…"
      ]
     },
     "metadata": {},
     "output_type": "display_data"
    }
   ],
   "source": [
    "out"
   ]
  },
  {
   "cell_type": "code",
   "execution_count": 8,
   "id": "993532a0-1806-4acd-aea6-d6a8a901c749",
   "metadata": {},
   "outputs": [],
   "source": [
    "out.clear_output()\n",
    "with out:\n",
    "  data_path = 'data/'\n",
    "  files = [f for f in listdir(data_path) if isfile(join(data_path, f))]\n",
    "\n",
    "  usersDropdown, itemsDropdown = elegirDatos(data_path, files)\n",
    "  display(itemsDropdown)\n",
    "  display(usersDropdown)\n",
    "\n",
    "  button = widgets.Button(\n",
    "      description='DONE',\n",
    "      layout={'width': '300px'}\n",
    "  )\n",
    "\n",
    "  button.on_click(functools.partial(button_cargarDatos, path=data_path, usersDropdown=usersDropdown, itemsDropdown=itemsDropdown))\n",
    "  display(button)"
   ]
  },
  {
   "cell_type": "markdown",
   "id": "fa3d200b-0f01-4d50-8721-0ff7478221c8",
   "metadata": {},
   "source": [
    "# ----------------------------------------------"
   ]
  },
  {
   "cell_type": "code",
   "execution_count": 49,
   "id": "8ff8ef26-5862-4e78-a2f8-b6c168a2490f",
   "metadata": {},
   "outputs": [],
   "source": [
    "out.clear_output()"
   ]
  },
  {
   "cell_type": "code",
   "execution_count": 50,
   "id": "080cc67b-6b6b-4a7c-a355-da49e754d249",
   "metadata": {},
   "outputs": [
    {
     "data": {
      "application/vnd.jupyter.widget-view+json": {
       "model_id": "a4b7988587274c9ea85a016ed4b4f63f",
       "version_major": 2,
       "version_minor": 0
      },
      "text/plain": [
       "Output(layout=Layout(border='1px solid black'))"
      ]
     },
     "metadata": {},
     "output_type": "display_data"
    }
   ],
   "source": [
    "out = widgets.Output(layout={'border': '1px solid black'})\n",
    "out"
   ]
  },
  {
   "cell_type": "code",
   "execution_count": 51,
   "id": "2f0cb651-25a3-4f8b-a0e0-2ef2a1eb785c",
   "metadata": {},
   "outputs": [],
   "source": [
    "out.clear_output()\n",
    "with out:\n",
    "  data_path = 'data/'\n",
    "  files = [f for f in listdir(data_path) if isfile(join(data_path, f))]\n",
    "\n",
    "  usersDropdown, itemsDropdown = elegirDatos(data_path, files)\n",
    "  display(itemsDropdown)\n",
    "  display(usersDropdown)"
   ]
  },
  {
   "cell_type": "code",
   "execution_count": 55,
   "id": "6a80c23e-fb25-475e-8a91-a192ef86dc41",
   "metadata": {},
   "outputs": [],
   "source": [
    "out.clear_output()\n",
    "with out:\n",
    "  users, artworks = cargarDatos(data_path, usersDropdown, itemsDropdown)\n",
    "  atr_dropdowns, colorDropdown = elegirSimilitudItems(data_path, files, artworks)\n",
    "  \n",
    "  float_texts, colorFloatText = elegirPesosItems(atr_dropdowns, colorDropdown)\n",
    "  \n",
    "  for key, value in atr_dropdowns.items():\n",
    "    # display(value)\n",
    "    display(widgets.HBox([value, float_texts.get(key)]))\n",
    "    \n",
    "  display(colorDropdown)"
   ]
  },
  {
   "cell_type": "code",
   "execution_count": 45,
   "id": "fa8adb48-9739-4e23-a13a-4e6e5fba3a98",
   "metadata": {},
   "outputs": [
    {
     "data": {
      "text/plain": [
       "{'ID': FloatText(value=0.3, description='ID'),\n",
       " 'Category': FloatText(value=0.3, description='Category'),\n",
       " 'Artist': FloatText(value=0.3, description='Artist'),\n",
       " 'Title': FloatText(value=0.3, description='Title'),\n",
       " 'Year': FloatText(value=0.3, description='Year'),\n",
       " 'Image URL': FloatText(value=0.3, description='Image URL'),\n",
       " 'Painting Info URL': FloatText(value=0.3, description='Painting Info URL'),\n",
       " 'Artist Info URL': FloatText(value=0.3, description='Artist Info URL'),\n",
       " 'Location': FloatText(value=0.3, description='Location'),\n",
       " 'wd:paintingID': FloatText(value=0.3, description='wd:paintingID'),\n",
       " 'wd:paintingURL': FloatText(value=0.3, description='wd:paintingURL'),\n",
       " 'wd:artistID': FloatText(value=0.3, description='wd:artistID'),\n",
       " 'wd:artistURL': FloatText(value=0.3, description='wd:artistURL')}"
      ]
     },
     "execution_count": 45,
     "metadata": {},
     "output_type": "execute_result"
    }
   ],
   "source": [
    "float_texts"
   ]
  },
  {
   "cell_type": "code",
   "execution_count": 44,
   "id": "991465ba-6cb2-46da-a68a-78fcad41884e",
   "metadata": {},
   "outputs": [
    {
     "data": {
      "application/vnd.jupyter.widget-view+json": {
       "model_id": "5e62e0f7e6c94930bc7a6e4446c72a8a",
       "version_major": 2,
       "version_minor": 0
      },
      "text/plain": [
       "FloatText(value=0.3, description='ID')"
      ]
     },
     "metadata": {},
     "output_type": "display_data"
    },
    {
     "data": {
      "application/vnd.jupyter.widget-view+json": {
       "model_id": "e112adb3137e425c8d7d9fdd25eae92f",
       "version_major": 2,
       "version_minor": 0
      },
      "text/plain": [
       "FloatText(value=0.3, description='Category')"
      ]
     },
     "metadata": {},
     "output_type": "display_data"
    },
    {
     "data": {
      "application/vnd.jupyter.widget-view+json": {
       "model_id": "5f1ed52568ea489b992cacae93ce8d8b",
       "version_major": 2,
       "version_minor": 0
      },
      "text/plain": [
       "FloatText(value=0.3, description='Artist')"
      ]
     },
     "metadata": {},
     "output_type": "display_data"
    },
    {
     "data": {
      "application/vnd.jupyter.widget-view+json": {
       "model_id": "6cec667b41794aa4854ff1d08d3fe214",
       "version_major": 2,
       "version_minor": 0
      },
      "text/plain": [
       "FloatText(value=0.3, description='Title')"
      ]
     },
     "metadata": {},
     "output_type": "display_data"
    },
    {
     "data": {
      "application/vnd.jupyter.widget-view+json": {
       "model_id": "f60eee619d6a4989aff8b9acaf1882c5",
       "version_major": 2,
       "version_minor": 0
      },
      "text/plain": [
       "FloatText(value=0.3, description='Year')"
      ]
     },
     "metadata": {},
     "output_type": "display_data"
    },
    {
     "data": {
      "application/vnd.jupyter.widget-view+json": {
       "model_id": "f53cbe6ec2944c3bb082806cd7e18009",
       "version_major": 2,
       "version_minor": 0
      },
      "text/plain": [
       "FloatText(value=0.3, description='Image URL')"
      ]
     },
     "metadata": {},
     "output_type": "display_data"
    },
    {
     "data": {
      "application/vnd.jupyter.widget-view+json": {
       "model_id": "247df1ceba0540d2801f755131971a33",
       "version_major": 2,
       "version_minor": 0
      },
      "text/plain": [
       "FloatText(value=0.3, description='Painting Info URL')"
      ]
     },
     "metadata": {},
     "output_type": "display_data"
    },
    {
     "data": {
      "application/vnd.jupyter.widget-view+json": {
       "model_id": "e088bb29c0b047e486ec3aad03037bfd",
       "version_major": 2,
       "version_minor": 0
      },
      "text/plain": [
       "FloatText(value=0.3, description='Artist Info URL')"
      ]
     },
     "metadata": {},
     "output_type": "display_data"
    },
    {
     "data": {
      "application/vnd.jupyter.widget-view+json": {
       "model_id": "f1b13fa4e88443aaac3c44331bdbcbde",
       "version_major": 2,
       "version_minor": 0
      },
      "text/plain": [
       "FloatText(value=0.3, description='Location')"
      ]
     },
     "metadata": {},
     "output_type": "display_data"
    },
    {
     "data": {
      "application/vnd.jupyter.widget-view+json": {
       "model_id": "986b816ffcad44cf8e38fc2230e71292",
       "version_major": 2,
       "version_minor": 0
      },
      "text/plain": [
       "FloatText(value=0.3, description='wd:paintingID')"
      ]
     },
     "metadata": {},
     "output_type": "display_data"
    },
    {
     "data": {
      "application/vnd.jupyter.widget-view+json": {
       "model_id": "8a778d3b805240c2a5b3c7d190c887f2",
       "version_major": 2,
       "version_minor": 0
      },
      "text/plain": [
       "FloatText(value=0.3, description='wd:paintingURL')"
      ]
     },
     "metadata": {},
     "output_type": "display_data"
    },
    {
     "data": {
      "application/vnd.jupyter.widget-view+json": {
       "model_id": "68dfd2fdf0a541bbab6e91aa9ebbdc9d",
       "version_major": 2,
       "version_minor": 0
      },
      "text/plain": [
       "FloatText(value=0.3, description='wd:artistID')"
      ]
     },
     "metadata": {},
     "output_type": "display_data"
    },
    {
     "data": {
      "application/vnd.jupyter.widget-view+json": {
       "model_id": "753c7ad205a84ebd8b886faf5d4767ed",
       "version_major": 2,
       "version_minor": 0
      },
      "text/plain": [
       "FloatText(value=0.3, description='wd:artistURL')"
      ]
     },
     "metadata": {},
     "output_type": "display_data"
    }
   ],
   "source": [
    "atributes_artworks = [key for key,value in atr_dropdowns.items() if value is not None]\n",
    "\n",
    "float_texts, colorFloatText = elegirPesosItems(atr_dropdowns, colorDropdown)\n",
    "for key, value in float_texts.items():\n",
    "  display(value)\n",
    "\n",
    "if colorDropdown.value is not None:\n",
    "  display(colorFloatText) "
   ]
  },
  {
   "cell_type": "code",
   "execution_count": 33,
   "id": "214b7f93-5fdc-405c-92a5-619f05c95414",
   "metadata": {},
   "outputs": [
    {
     "data": {
      "application/vnd.jupyter.widget-view+json": {
       "model_id": "b445aa2b48d64d0c9fa2309c07603e17",
       "version_major": 2,
       "version_minor": 0
      },
      "text/plain": [
       "HBox(children=(Dropdown(description='Items:', index=8, options=('artworkColors.json', 'artworkEmotions.json', …"
      ]
     },
     "metadata": {},
     "output_type": "display_data"
    }
   ],
   "source": [
    "widgets.HBox([itemsDropdown, usersDropdown, colorDropdown])"
   ]
  },
  {
   "cell_type": "code",
   "execution_count": null,
   "id": "9d11365f-e2fc-4507-b6e9-18481b16c505",
   "metadata": {},
   "outputs": [],
   "source": []
  }
 ],
 "metadata": {
  "kernelspec": {
   "display_name": "Python 3 (ipykernel)",
   "language": "python",
   "name": "python3"
  },
  "language_info": {
   "codemirror_mode": {
    "name": "ipython",
    "version": 3
   },
   "file_extension": ".py",
   "mimetype": "text/x-python",
   "name": "python",
   "nbconvert_exporter": "python",
   "pygments_lexer": "ipython3",
   "version": "3.9.7"
  }
 },
 "nbformat": 4,
 "nbformat_minor": 5
}

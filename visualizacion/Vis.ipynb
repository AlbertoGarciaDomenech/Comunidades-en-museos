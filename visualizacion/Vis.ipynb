{
 "cells": [
  {
   "cell_type": "code",
   "execution_count": 1,
   "id": "67caf996-f5e6-4fb0-a0e5-dec9a6910cd0",
   "metadata": {},
   "outputs": [],
   "source": [
    "%%capture output\n",
    "!pip install pyvis.network"
   ]
  },
  {
   "cell_type": "code",
   "execution_count": 1,
   "id": "5cd9fad1-2e12-42e7-afa8-336882fe1364",
   "metadata": {},
   "outputs": [],
   "source": [
    "import pandas as pd\n",
    "from pyvis.network import Network # Visualización de los grafos\n",
    "\n",
    "import random\n",
    "import matplotlib.pyplot as plt # Para seleccionar colores aleatorios (necesito nº comunidades a pintar)"
   ]
  },
  {
   "cell_type": "code",
   "execution_count": 2,
   "id": "3c560bac",
   "metadata": {},
   "outputs": [],
   "source": [
    "def get_random_colors(n_communities):\n",
    "    colors = [\"#\"+''.join([random.choice('0123456789ABCDEF') for i in range(6)])]\n",
    "    return colors"
   ]
  },
  {
   "cell_type": "code",
   "execution_count": 3,
   "id": "1e6c691c",
   "metadata": {},
   "outputs": [
    {
     "data": {
      "text/html": [
       "<div>\n",
       "<style scoped>\n",
       "    .dataframe tbody tr th:only-of-type {\n",
       "        vertical-align: middle;\n",
       "    }\n",
       "\n",
       "    .dataframe tbody tr th {\n",
       "        vertical-align: top;\n",
       "    }\n",
       "\n",
       "    .dataframe thead th {\n",
       "        text-align: right;\n",
       "    }\n",
       "</style>\n",
       "<table border=\"1\" class=\"dataframe\">\n",
       "  <thead>\n",
       "    <tr style=\"text-align: right;\">\n",
       "      <th></th>\n",
       "      <th>userId</th>\n",
       "      <th>age</th>\n",
       "      <th>gender</th>\n",
       "      <th>country</th>\n",
       "      <th>cluster</th>\n",
       "      <th>medoid</th>\n",
       "    </tr>\n",
       "  </thead>\n",
       "  <tbody>\n",
       "    <tr>\n",
       "      <th>0</th>\n",
       "      <td>1</td>\n",
       "      <td>55-64</td>\n",
       "      <td>male</td>\n",
       "      <td>Spain</td>\n",
       "      <td>2</td>\n",
       "      <td>-1.0</td>\n",
       "    </tr>\n",
       "    <tr>\n",
       "      <th>1</th>\n",
       "      <td>2</td>\n",
       "      <td>25-34</td>\n",
       "      <td>female</td>\n",
       "      <td>Spain</td>\n",
       "      <td>0</td>\n",
       "      <td>-1.0</td>\n",
       "    </tr>\n",
       "    <tr>\n",
       "      <th>2</th>\n",
       "      <td>3</td>\n",
       "      <td>18-24</td>\n",
       "      <td>female</td>\n",
       "      <td>Spain</td>\n",
       "      <td>4</td>\n",
       "      <td>-1.0</td>\n",
       "    </tr>\n",
       "    <tr>\n",
       "      <th>3</th>\n",
       "      <td>4</td>\n",
       "      <td>18-24</td>\n",
       "      <td>female</td>\n",
       "      <td>Spain</td>\n",
       "      <td>1</td>\n",
       "      <td>-1.0</td>\n",
       "    </tr>\n",
       "    <tr>\n",
       "      <th>4</th>\n",
       "      <td>5</td>\n",
       "      <td>35-44</td>\n",
       "      <td>male</td>\n",
       "      <td>Spain</td>\n",
       "      <td>1</td>\n",
       "      <td>-1.0</td>\n",
       "    </tr>\n",
       "  </tbody>\n",
       "</table>\n",
       "</div>"
      ],
      "text/plain": [
       "   userId    age  gender country  cluster  medoid\n",
       "0       1  55-64    male   Spain        2    -1.0\n",
       "1       2  25-34  female   Spain        0    -1.0\n",
       "2       3  18-24  female   Spain        4    -1.0\n",
       "3       4  18-24  female   Spain        1    -1.0\n",
       "4       5  35-44    male   Spain        1    -1.0"
      ]
     },
     "execution_count": 3,
     "metadata": {},
     "output_type": "execute_result"
    }
   ],
   "source": [
    "hetch_nodes = pd.read_csv('../data/Prado_users_clusters_OnePolarity.csv')\n",
    "hetch_nodes.head()"
   ]
  },
  {
   "cell_type": "code",
   "execution_count": 4,
   "id": "ed151fd7-1319-40b6-b5c0-b42b0d7c3887",
   "metadata": {},
   "outputs": [
    {
     "data": {
      "text/plain": [
       "0"
      ]
     },
     "execution_count": 4,
     "metadata": {},
     "output_type": "execute_result"
    }
   ],
   "source": [
    "hetch_nodes.values[1][4]"
   ]
  },
  {
   "cell_type": "code",
   "execution_count": 5,
   "id": "5173a6c1-140f-4215-8145-58c823310688",
   "metadata": {},
   "outputs": [
    {
     "data": {
      "text/plain": [
       "5"
      ]
     },
     "execution_count": 5,
     "metadata": {},
     "output_type": "execute_result"
    }
   ],
   "source": [
    "len(hetch_nodes['cluster'].unique())"
   ]
  },
  {
   "cell_type": "code",
   "execution_count": 6,
   "id": "528cbe45-3743-41f0-a1ee-911ed51222e8",
   "metadata": {},
   "outputs": [
    {
     "data": {
      "text/plain": [
       "['red', 'green', 'blue', 'black', 'orange']"
      ]
     },
     "execution_count": 6,
     "metadata": {},
     "output_type": "execute_result"
    }
   ],
   "source": [
    "colors =  [get_random_colors(len(hetch_nodes['cluster'].unique())) for i in range(5)]\n",
    "colors = [\"red\",\"green\",\"blue\",\"black\",\"orange\"]\n",
    "colors"
   ]
  },
  {
   "cell_type": "code",
   "execution_count": 7,
   "id": "2f3fb5a3-aa6d-445a-98ef-1675313c8b87",
   "metadata": {},
   "outputs": [
    {
     "data": {
      "text/html": [
       "<div>\n",
       "<style scoped>\n",
       "    .dataframe tbody tr th:only-of-type {\n",
       "        vertical-align: middle;\n",
       "    }\n",
       "\n",
       "    .dataframe tbody tr th {\n",
       "        vertical-align: top;\n",
       "    }\n",
       "\n",
       "    .dataframe thead th {\n",
       "        text-align: right;\n",
       "    }\n",
       "</style>\n",
       "<table border=\"1\" class=\"dataframe\">\n",
       "  <thead>\n",
       "    <tr style=\"text-align: right;\">\n",
       "      <th></th>\n",
       "      <th>1</th>\n",
       "      <th>2</th>\n",
       "      <th>3</th>\n",
       "      <th>4</th>\n",
       "      <th>5</th>\n",
       "      <th>6</th>\n",
       "      <th>7</th>\n",
       "      <th>8</th>\n",
       "      <th>9</th>\n",
       "      <th>10</th>\n",
       "      <th>...</th>\n",
       "      <th>270</th>\n",
       "      <th>275</th>\n",
       "      <th>277</th>\n",
       "      <th>288</th>\n",
       "      <th>289</th>\n",
       "      <th>298</th>\n",
       "      <th>299</th>\n",
       "      <th>300</th>\n",
       "      <th>301</th>\n",
       "      <th>306</th>\n",
       "    </tr>\n",
       "  </thead>\n",
       "  <tbody>\n",
       "    <tr>\n",
       "      <th>1</th>\n",
       "      <td>1.000000</td>\n",
       "      <td>0.398389</td>\n",
       "      <td>0.595236</td>\n",
       "      <td>0.590202</td>\n",
       "      <td>0.788626</td>\n",
       "      <td>0.569726</td>\n",
       "      <td>0.540071</td>\n",
       "      <td>0.439293</td>\n",
       "      <td>0.783930</td>\n",
       "      <td>0.473626</td>\n",
       "      <td>...</td>\n",
       "      <td>0.161579</td>\n",
       "      <td>0.640189</td>\n",
       "      <td>0.498389</td>\n",
       "      <td>0.558526</td>\n",
       "      <td>0.501126</td>\n",
       "      <td>0.573263</td>\n",
       "      <td>0.676863</td>\n",
       "      <td>0.459789</td>\n",
       "      <td>0.596463</td>\n",
       "      <td>0.553400</td>\n",
       "    </tr>\n",
       "    <tr>\n",
       "      <th>2</th>\n",
       "      <td>0.398389</td>\n",
       "      <td>1.000000</td>\n",
       "      <td>0.526213</td>\n",
       "      <td>0.514363</td>\n",
       "      <td>0.412863</td>\n",
       "      <td>0.627863</td>\n",
       "      <td>0.510102</td>\n",
       "      <td>0.377463</td>\n",
       "      <td>0.394526</td>\n",
       "      <td>0.347263</td>\n",
       "      <td>...</td>\n",
       "      <td>0.494989</td>\n",
       "      <td>0.500000</td>\n",
       "      <td>0.900000</td>\n",
       "      <td>0.581663</td>\n",
       "      <td>0.481663</td>\n",
       "      <td>0.563326</td>\n",
       "      <td>0.463326</td>\n",
       "      <td>0.831200</td>\n",
       "      <td>0.694526</td>\n",
       "      <td>0.844989</td>\n",
       "    </tr>\n",
       "    <tr>\n",
       "      <th>3</th>\n",
       "      <td>0.595236</td>\n",
       "      <td>0.526213</td>\n",
       "      <td>1.000000</td>\n",
       "      <td>0.766617</td>\n",
       "      <td>0.617202</td>\n",
       "      <td>0.693795</td>\n",
       "      <td>0.594230</td>\n",
       "      <td>0.517012</td>\n",
       "      <td>0.614063</td>\n",
       "      <td>0.450336</td>\n",
       "      <td>...</td>\n",
       "      <td>0.336126</td>\n",
       "      <td>0.472577</td>\n",
       "      <td>0.426213</td>\n",
       "      <td>0.554240</td>\n",
       "      <td>0.434098</td>\n",
       "      <td>0.392023</td>\n",
       "      <td>0.435904</td>\n",
       "      <td>0.614913</td>\n",
       "      <td>0.478239</td>\n",
       "      <td>0.371202</td>\n",
       "    </tr>\n",
       "    <tr>\n",
       "      <th>4</th>\n",
       "      <td>0.590202</td>\n",
       "      <td>0.514363</td>\n",
       "      <td>0.766617</td>\n",
       "      <td>1.000000</td>\n",
       "      <td>0.639414</td>\n",
       "      <td>0.645293</td>\n",
       "      <td>0.619016</td>\n",
       "      <td>0.558201</td>\n",
       "      <td>0.632839</td>\n",
       "      <td>0.472676</td>\n",
       "      <td>...</td>\n",
       "      <td>0.341826</td>\n",
       "      <td>0.504913</td>\n",
       "      <td>0.414363</td>\n",
       "      <td>0.586576</td>\n",
       "      <td>0.403076</td>\n",
       "      <td>0.359989</td>\n",
       "      <td>0.468239</td>\n",
       "      <td>0.650163</td>\n",
       "      <td>0.513489</td>\n",
       "      <td>0.359352</td>\n",
       "    </tr>\n",
       "    <tr>\n",
       "      <th>5</th>\n",
       "      <td>0.788626</td>\n",
       "      <td>0.412863</td>\n",
       "      <td>0.617202</td>\n",
       "      <td>0.639414</td>\n",
       "      <td>1.000000</td>\n",
       "      <td>0.566371</td>\n",
       "      <td>0.498831</td>\n",
       "      <td>0.432733</td>\n",
       "      <td>0.861530</td>\n",
       "      <td>0.554600</td>\n",
       "      <td>...</td>\n",
       "      <td>0.193152</td>\n",
       "      <td>0.599513</td>\n",
       "      <td>0.512863</td>\n",
       "      <td>0.517850</td>\n",
       "      <td>0.534800</td>\n",
       "      <td>0.581663</td>\n",
       "      <td>0.599513</td>\n",
       "      <td>0.581663</td>\n",
       "      <td>0.681663</td>\n",
       "      <td>0.494526</td>\n",
       "    </tr>\n",
       "    <tr>\n",
       "      <th>...</th>\n",
       "      <td>...</td>\n",
       "      <td>...</td>\n",
       "      <td>...</td>\n",
       "      <td>...</td>\n",
       "      <td>...</td>\n",
       "      <td>...</td>\n",
       "      <td>...</td>\n",
       "      <td>...</td>\n",
       "      <td>...</td>\n",
       "      <td>...</td>\n",
       "      <td>...</td>\n",
       "      <td>...</td>\n",
       "      <td>...</td>\n",
       "      <td>...</td>\n",
       "      <td>...</td>\n",
       "      <td>...</td>\n",
       "      <td>...</td>\n",
       "      <td>...</td>\n",
       "      <td>...</td>\n",
       "      <td>...</td>\n",
       "      <td>...</td>\n",
       "    </tr>\n",
       "    <tr>\n",
       "      <th>298</th>\n",
       "      <td>0.573263</td>\n",
       "      <td>0.563326</td>\n",
       "      <td>0.392023</td>\n",
       "      <td>0.359989</td>\n",
       "      <td>0.581663</td>\n",
       "      <td>0.381663</td>\n",
       "      <td>0.372926</td>\n",
       "      <td>0.253963</td>\n",
       "      <td>0.600000</td>\n",
       "      <td>0.353263</td>\n",
       "      <td>...</td>\n",
       "      <td>0.574816</td>\n",
       "      <td>0.663326</td>\n",
       "      <td>0.663326</td>\n",
       "      <td>0.581663</td>\n",
       "      <td>0.681663</td>\n",
       "      <td>1.000000</td>\n",
       "      <td>0.700000</td>\n",
       "      <td>0.563326</td>\n",
       "      <td>0.700000</td>\n",
       "      <td>0.681663</td>\n",
       "    </tr>\n",
       "    <tr>\n",
       "      <th>299</th>\n",
       "      <td>0.676863</td>\n",
       "      <td>0.463326</td>\n",
       "      <td>0.435904</td>\n",
       "      <td>0.468239</td>\n",
       "      <td>0.599513</td>\n",
       "      <td>0.564663</td>\n",
       "      <td>0.433460</td>\n",
       "      <td>0.350063</td>\n",
       "      <td>0.594267</td>\n",
       "      <td>0.381463</td>\n",
       "      <td>...</td>\n",
       "      <td>0.358316</td>\n",
       "      <td>0.963326</td>\n",
       "      <td>0.563326</td>\n",
       "      <td>0.881663</td>\n",
       "      <td>0.814663</td>\n",
       "      <td>0.700000</td>\n",
       "      <td>1.000000</td>\n",
       "      <td>0.463326</td>\n",
       "      <td>0.600000</td>\n",
       "      <td>0.581663</td>\n",
       "    </tr>\n",
       "    <tr>\n",
       "      <th>300</th>\n",
       "      <td>0.459789</td>\n",
       "      <td>0.831200</td>\n",
       "      <td>0.614913</td>\n",
       "      <td>0.650163</td>\n",
       "      <td>0.581663</td>\n",
       "      <td>0.679063</td>\n",
       "      <td>0.503202</td>\n",
       "      <td>0.403730</td>\n",
       "      <td>0.563326</td>\n",
       "      <td>0.347263</td>\n",
       "      <td>...</td>\n",
       "      <td>0.494989</td>\n",
       "      <td>0.500000</td>\n",
       "      <td>0.731200</td>\n",
       "      <td>0.581663</td>\n",
       "      <td>0.481663</td>\n",
       "      <td>0.563326</td>\n",
       "      <td>0.463326</td>\n",
       "      <td>1.000000</td>\n",
       "      <td>0.863326</td>\n",
       "      <td>0.676189</td>\n",
       "    </tr>\n",
       "    <tr>\n",
       "      <th>301</th>\n",
       "      <td>0.596463</td>\n",
       "      <td>0.694526</td>\n",
       "      <td>0.478239</td>\n",
       "      <td>0.513489</td>\n",
       "      <td>0.681663</td>\n",
       "      <td>0.579063</td>\n",
       "      <td>0.439876</td>\n",
       "      <td>0.303730</td>\n",
       "      <td>0.700000</td>\n",
       "      <td>0.447263</td>\n",
       "      <td>...</td>\n",
       "      <td>0.358316</td>\n",
       "      <td>0.563326</td>\n",
       "      <td>0.794526</td>\n",
       "      <td>0.481663</td>\n",
       "      <td>0.581663</td>\n",
       "      <td>0.700000</td>\n",
       "      <td>0.600000</td>\n",
       "      <td>0.863326</td>\n",
       "      <td>1.000000</td>\n",
       "      <td>0.812863</td>\n",
       "    </tr>\n",
       "    <tr>\n",
       "      <th>306</th>\n",
       "      <td>0.553400</td>\n",
       "      <td>0.844989</td>\n",
       "      <td>0.371202</td>\n",
       "      <td>0.359352</td>\n",
       "      <td>0.494526</td>\n",
       "      <td>0.509526</td>\n",
       "      <td>0.465113</td>\n",
       "      <td>0.259126</td>\n",
       "      <td>0.512863</td>\n",
       "      <td>0.428926</td>\n",
       "      <td>...</td>\n",
       "      <td>0.339979</td>\n",
       "      <td>0.544989</td>\n",
       "      <td>0.944989</td>\n",
       "      <td>0.463326</td>\n",
       "      <td>0.563326</td>\n",
       "      <td>0.681663</td>\n",
       "      <td>0.581663</td>\n",
       "      <td>0.676189</td>\n",
       "      <td>0.812863</td>\n",
       "      <td>1.000000</td>\n",
       "    </tr>\n",
       "  </tbody>\n",
       "</table>\n",
       "<p>171 rows × 171 columns</p>\n",
       "</div>"
      ],
      "text/plain": [
       "            1         2         3         4         5         6         7  \\\n",
       "1    1.000000  0.398389  0.595236  0.590202  0.788626  0.569726  0.540071   \n",
       "2    0.398389  1.000000  0.526213  0.514363  0.412863  0.627863  0.510102   \n",
       "3    0.595236  0.526213  1.000000  0.766617  0.617202  0.693795  0.594230   \n",
       "4    0.590202  0.514363  0.766617  1.000000  0.639414  0.645293  0.619016   \n",
       "5    0.788626  0.412863  0.617202  0.639414  1.000000  0.566371  0.498831   \n",
       "..        ...       ...       ...       ...       ...       ...       ...   \n",
       "298  0.573263  0.563326  0.392023  0.359989  0.581663  0.381663  0.372926   \n",
       "299  0.676863  0.463326  0.435904  0.468239  0.599513  0.564663  0.433460   \n",
       "300  0.459789  0.831200  0.614913  0.650163  0.581663  0.679063  0.503202   \n",
       "301  0.596463  0.694526  0.478239  0.513489  0.681663  0.579063  0.439876   \n",
       "306  0.553400  0.844989  0.371202  0.359352  0.494526  0.509526  0.465113   \n",
       "\n",
       "            8         9        10  ...       270       275       277  \\\n",
       "1    0.439293  0.783930  0.473626  ...  0.161579  0.640189  0.498389   \n",
       "2    0.377463  0.394526  0.347263  ...  0.494989  0.500000  0.900000   \n",
       "3    0.517012  0.614063  0.450336  ...  0.336126  0.472577  0.426213   \n",
       "4    0.558201  0.632839  0.472676  ...  0.341826  0.504913  0.414363   \n",
       "5    0.432733  0.861530  0.554600  ...  0.193152  0.599513  0.512863   \n",
       "..        ...       ...       ...  ...       ...       ...       ...   \n",
       "298  0.253963  0.600000  0.353263  ...  0.574816  0.663326  0.663326   \n",
       "299  0.350063  0.594267  0.381463  ...  0.358316  0.963326  0.563326   \n",
       "300  0.403730  0.563326  0.347263  ...  0.494989  0.500000  0.731200   \n",
       "301  0.303730  0.700000  0.447263  ...  0.358316  0.563326  0.794526   \n",
       "306  0.259126  0.512863  0.428926  ...  0.339979  0.544989  0.944989   \n",
       "\n",
       "          288       289       298       299       300       301       306  \n",
       "1    0.558526  0.501126  0.573263  0.676863  0.459789  0.596463  0.553400  \n",
       "2    0.581663  0.481663  0.563326  0.463326  0.831200  0.694526  0.844989  \n",
       "3    0.554240  0.434098  0.392023  0.435904  0.614913  0.478239  0.371202  \n",
       "4    0.586576  0.403076  0.359989  0.468239  0.650163  0.513489  0.359352  \n",
       "5    0.517850  0.534800  0.581663  0.599513  0.581663  0.681663  0.494526  \n",
       "..        ...       ...       ...       ...       ...       ...       ...  \n",
       "298  0.581663  0.681663  1.000000  0.700000  0.563326  0.700000  0.681663  \n",
       "299  0.881663  0.814663  0.700000  1.000000  0.463326  0.600000  0.581663  \n",
       "300  0.581663  0.481663  0.563326  0.463326  1.000000  0.863326  0.676189  \n",
       "301  0.481663  0.581663  0.700000  0.600000  0.863326  1.000000  0.812863  \n",
       "306  0.463326  0.563326  0.681663  0.581663  0.676189  0.812863  1.000000  \n",
       "\n",
       "[171 rows x 171 columns]"
      ]
     },
     "execution_count": 7,
     "metadata": {},
     "output_type": "execute_result"
    }
   ],
   "source": [
    "similUsers = pd.read_csv('../data/Prado_users_similarity_OnePolarity.csv',index_col=0)\n",
    "similUsers"
   ]
  },
  {
   "cell_type": "code",
   "execution_count": 8,
   "id": "81ee6eb2-da03-41f4-8299-87a51ca5e3b5",
   "metadata": {},
   "outputs": [
    {
     "data": {
      "text/plain": [
       "0.5952357534628379"
      ]
     },
     "execution_count": 8,
     "metadata": {},
     "output_type": "execute_result"
    }
   ],
   "source": [
    "similUsers.loc[1][2]"
   ]
  },
  {
   "cell_type": "code",
   "execution_count": 9,
   "id": "40cd6da0-de2b-4337-b91d-e63bc27bec6b",
   "metadata": {},
   "outputs": [],
   "source": [
    "net = Network(notebook = True)\n",
    "\n",
    "for u in range(len(hetch_nodes.userId)):\n",
    "    net.add_node(n_id = similUsers.columns[u], title=\"I am from cluster \"+str(hetch_nodes.values[u][4]), label=hetch_nodes.values[u][0],color = colors[hetch_nodes.values[u][4]])\n",
    "    # print(colors[hetch_nodes.values[u][4]])\n",
    "    # net.add_node(u, title=\"I am from cluster\"+str(hetch_nodes.values[u][4]), label=hetch_nodes.values[u][0],color ='#00ff1e')\n",
    "\n",
    "\n",
    "for u in range(len(hetch_nodes.userId)):\n",
    "    for k in range(len(hetch_nodes.userId)):\n",
    "        net.add_edge(similUsers.columns[u],similUsers.columns[k],value = similUsers.iloc[u][k],hidden=True)\n",
    "        "
   ]
  },
  {
   "cell_type": "code",
   "execution_count": 11,
   "id": "64c01b20-2a69-4a39-ba53-3f3b8dad1aca",
   "metadata": {},
   "outputs": [
    {
     "data": {
      "text/plain": [
       "{'title': 'I am from cluster 2',\n",
       " 'color': 'blue',\n",
       " 'id': '1',\n",
       " 'label': 1,\n",
       " 'shape': 'dot'}"
      ]
     },
     "execution_count": 11,
     "metadata": {},
     "output_type": "execute_result"
    }
   ],
   "source": [
    "net.nodes[0]"
   ]
  },
  {
   "cell_type": "code",
   "execution_count": 98,
   "id": "efd68767-486f-47c5-a056-e0833834cdb9",
   "metadata": {},
   "outputs": [],
   "source": [
    "# net.get_network_data()"
   ]
  },
  {
   "cell_type": "code",
   "execution_count": 101,
   "id": "e086a865-3717-46ef-a48e-b9e2c5fa68f0",
   "metadata": {},
   "outputs": [
    {
     "data": {
      "text/html": [
       "\n",
       "        <iframe\n",
       "            width=\"500px\"\n",
       "            height=\"500px\"\n",
       "            src=\"nodes.html\"\n",
       "            frameborder=\"0\"\n",
       "            allowfullscreen\n",
       "            \n",
       "        ></iframe>\n",
       "        "
      ],
      "text/plain": [
       "<IPython.lib.display.IFrame at 0x24bd9c05ac0>"
      ]
     },
     "execution_count": 101,
     "metadata": {},
     "output_type": "execute_result"
    }
   ],
   "source": [
    "net.show_buttons()#(filter_=['physics'])\n",
    "net.show('nodes.html')"
   ]
  },
  {
   "cell_type": "code",
   "execution_count": 13,
   "id": "395e9e7f-ab40-4968-9149-c57dfcc76211",
   "metadata": {},
   "outputs": [],
   "source": [
    "import networkx as nx\n",
    "import matplotlib.pyplot as plt"
   ]
  },
  {
   "cell_type": "code",
   "execution_count": 3,
   "id": "c0bfe57b",
   "metadata": {},
   "outputs": [],
   "source": [
    "G = nx.Graph()"
   ]
  },
  {
   "cell_type": "code",
   "execution_count": 4,
   "id": "a19a76d3",
   "metadata": {},
   "outputs": [],
   "source": [
    "nodes = [\n",
    "    (1, {\"userId\": 'N4536', \"community\": 1}),\n",
    "    (2, {\"userId\": 'N4567', \"community\": 2})\n",
    "]"
   ]
  },
  {
   "cell_type": "code",
   "execution_count": 5,
   "id": "e47b6ad3",
   "metadata": {},
   "outputs": [],
   "source": [
    "G.add_nodes_from(nodes)"
   ]
  },
  {
   "cell_type": "code",
   "execution_count": 11,
   "id": "6a45310b",
   "metadata": {},
   "outputs": [],
   "source": [
    "edges = [(1, 2, {'similarity': '0.78'})]"
   ]
  },
  {
   "cell_type": "code",
   "execution_count": 12,
   "id": "bd291d7b",
   "metadata": {},
   "outputs": [],
   "source": [
    "G.add_edges_from(edges)"
   ]
  },
  {
   "cell_type": "code",
   "execution_count": 14,
   "id": "2371114d",
   "metadata": {},
   "outputs": [
    {
     "data": {
      "image/png": "[encoded data removed]",
      "text/plain": [
       "<Figure size 432x288 with 1 Axes>"
      ]
     },
     "metadata": {},
     "output_type": "display_data"
    }
   ],
   "source": [
    "nx.draw(G)"
   ]
  },
  {
   "cell_type": "code",
   "execution_count": 17,
   "id": "e39a8e4c",
   "metadata": {},
   "outputs": [],
   "source": [
    "G = nx.path_graph(4)\n",
    "pos = nx.spring_layout(G)"
   ]
  },
  {
   "cell_type": "code",
   "execution_count": 21,
   "id": "b509103e",
   "metadata": {},
   "outputs": [
    {
     "data": {
      "image/png": "[encoded data removed]",
      "text/plain": [
       "<Figure size 432x288 with 1 Axes>"
      ]
     },
     "metadata": {},
     "output_type": "display_data"
    }
   ],
   "source": [
    "nx.draw_networkx_nodes(G, pos)\n",
    "nx.draw_networkx_edges(G, pos)\n",
    "plt.show()"
   ]
  },
  {
   "cell_type": "code",
   "execution_count": null,
   "id": "c548dd7b",
   "metadata": {},
   "outputs": [],
   "source": []
  }
 ],
 "metadata": {
  "kernelspec": {
   "display_name": "Python 3 (ipykernel)",
   "language": "python",
   "name": "python3"
  },
  "language_info": {
   "codemirror_mode": {
    "name": "ipython",
    "version": 3
   },
   "file_extension": ".py",
   "mimetype": "text/x-python",
   "name": "python",
   "nbconvert_exporter": "python",
   "pygments_lexer": "ipython3",
   "version": "3.9.7"
  }
 },
 "nbformat": 4,
 "nbformat_minor": 5
}

{
 "cells": [
  {
   "cell_type": "code",
   "execution_count": 1,
   "id": "1452d92d-61e5-4978-97bb-5ee3cc813d74",
   "metadata": {},
   "outputs": [],
   "source": [
    "import numpy as np\n",
    "import pandas as pd\n",
    "import networkx as nx"
   ]
  },
  {
   "cell_type": "code",
   "execution_count": 66,
   "id": "e9f198a4-b6dd-4403-92af-aba1b1fd5197",
   "metadata": {},
   "outputs": [],
   "source": [
    "users = pd.read_csv(\"data/Prado_users_scaled_clusters.csv\")"
   ]
  },
  {
   "cell_type": "code",
   "execution_count": 67,
   "id": "620a85bb-7508-4ab0-ad75-6ae5ac16d391",
   "metadata": {},
   "outputs": [
    {
     "data": {
      "text/html": [
       "<div>\n",
       "<style scoped>\n",
       "    .dataframe tbody tr th:only-of-type {\n",
       "        vertical-align: middle;\n",
       "    }\n",
       "\n",
       "    .dataframe tbody tr th {\n",
       "        vertical-align: top;\n",
       "    }\n",
       "\n",
       "    .dataframe thead th {\n",
       "        text-align: right;\n",
       "    }\n",
       "</style>\n",
       "<table border=\"1\" class=\"dataframe\">\n",
       "  <thead>\n",
       "    <tr style=\"text-align: right;\">\n",
       "      <th></th>\n",
       "      <th>userId</th>\n",
       "      <th>age</th>\n",
       "      <th>gender</th>\n",
       "      <th>country</th>\n",
       "      <th>cluster</th>\n",
       "    </tr>\n",
       "  </thead>\n",
       "  <tbody>\n",
       "    <tr>\n",
       "      <th>0</th>\n",
       "      <td>1</td>\n",
       "      <td>4.107464</td>\n",
       "      <td>2.021723</td>\n",
       "      <td>1.787405</td>\n",
       "      <td>4</td>\n",
       "    </tr>\n",
       "    <tr>\n",
       "      <th>1</th>\n",
       "      <td>2</td>\n",
       "      <td>2.347123</td>\n",
       "      <td>0.000000</td>\n",
       "      <td>1.787405</td>\n",
       "      <td>3</td>\n",
       "    </tr>\n",
       "    <tr>\n",
       "      <th>2</th>\n",
       "      <td>3</td>\n",
       "      <td>1.760342</td>\n",
       "      <td>0.000000</td>\n",
       "      <td>1.787405</td>\n",
       "      <td>1</td>\n",
       "    </tr>\n",
       "    <tr>\n",
       "      <th>3</th>\n",
       "      <td>4</td>\n",
       "      <td>1.760342</td>\n",
       "      <td>0.000000</td>\n",
       "      <td>1.787405</td>\n",
       "      <td>1</td>\n",
       "    </tr>\n",
       "    <tr>\n",
       "      <th>4</th>\n",
       "      <td>5</td>\n",
       "      <td>2.933903</td>\n",
       "      <td>2.021723</td>\n",
       "      <td>1.787405</td>\n",
       "      <td>3</td>\n",
       "    </tr>\n",
       "    <tr>\n",
       "      <th>...</th>\n",
       "      <td>...</td>\n",
       "      <td>...</td>\n",
       "      <td>...</td>\n",
       "      <td>...</td>\n",
       "      <td>...</td>\n",
       "    </tr>\n",
       "    <tr>\n",
       "      <th>166</th>\n",
       "      <td>298</td>\n",
       "      <td>3.520684</td>\n",
       "      <td>2.021723</td>\n",
       "      <td>1.787405</td>\n",
       "      <td>4</td>\n",
       "    </tr>\n",
       "    <tr>\n",
       "      <th>167</th>\n",
       "      <td>299</td>\n",
       "      <td>3.520684</td>\n",
       "      <td>2.021723</td>\n",
       "      <td>1.787405</td>\n",
       "      <td>4</td>\n",
       "    </tr>\n",
       "    <tr>\n",
       "      <th>168</th>\n",
       "      <td>300</td>\n",
       "      <td>2.347123</td>\n",
       "      <td>0.000000</td>\n",
       "      <td>1.787405</td>\n",
       "      <td>1</td>\n",
       "    </tr>\n",
       "    <tr>\n",
       "      <th>169</th>\n",
       "      <td>301</td>\n",
       "      <td>3.520684</td>\n",
       "      <td>2.021723</td>\n",
       "      <td>1.787405</td>\n",
       "      <td>4</td>\n",
       "    </tr>\n",
       "    <tr>\n",
       "      <th>170</th>\n",
       "      <td>306</td>\n",
       "      <td>4.107464</td>\n",
       "      <td>2.021723</td>\n",
       "      <td>1.787405</td>\n",
       "      <td>3</td>\n",
       "    </tr>\n",
       "  </tbody>\n",
       "</table>\n",
       "<p>171 rows × 5 columns</p>\n",
       "</div>"
      ],
      "text/plain": [
       "     userId       age    gender   country  cluster\n",
       "0         1  4.107464  2.021723  1.787405        4\n",
       "1         2  2.347123  0.000000  1.787405        3\n",
       "2         3  1.760342  0.000000  1.787405        1\n",
       "3         4  1.760342  0.000000  1.787405        1\n",
       "4         5  2.933903  2.021723  1.787405        3\n",
       "..      ...       ...       ...       ...      ...\n",
       "166     298  3.520684  2.021723  1.787405        4\n",
       "167     299  3.520684  2.021723  1.787405        4\n",
       "168     300  2.347123  0.000000  1.787405        1\n",
       "169     301  3.520684  2.021723  1.787405        4\n",
       "170     306  4.107464  2.021723  1.787405        3\n",
       "\n",
       "[171 rows x 5 columns]"
      ]
     },
     "execution_count": 67,
     "metadata": {},
     "output_type": "execute_result"
    }
   ],
   "source": [
    "users"
   ]
  },
  {
   "cell_type": "code",
   "execution_count": 77,
   "id": "f6f567c7-2f08-48f6-87d3-2ca3fbec4389",
   "metadata": {},
   "outputs": [],
   "source": [
    "G = nx.Graph()\n",
    "\n",
    "for i in range(len(users)):\n",
    "  G.add_node(i, userId=int(users.loc[i].userId), \n",
    "                 age=users.loc[i].age, \n",
    "                 gender=users.loc[i].gender, \n",
    "                 country=users.loc[i].country, \n",
    "                 cluster=int(users.loc[i].cluster))"
   ]
  },
  {
   "cell_type": "code",
   "execution_count": 78,
   "id": "c722a96b-2ac6-4824-85f2-c39e25f56589",
   "metadata": {},
   "outputs": [],
   "source": [
    "for i in range(len(G.nodes())):\n",
    "  G.add_edges_from([(list(G.nodes())[i], node) for node in list(G.nodes)[i+1:]])"
   ]
  },
  {
   "cell_type": "code",
   "execution_count": 79,
   "id": "4e76a00e-92f2-4665-9277-d586651c5fef",
   "metadata": {},
   "outputs": [
    {
     "data": {
      "text/plain": [
       "{'userId': 1,\n",
       " 'age': 4.107464472747751,\n",
       " 'gender': 2.021722956442927,\n",
       " 'country': 1.7874048008113603,\n",
       " 'cluster': 4}"
      ]
     },
     "execution_count": 79,
     "metadata": {},
     "output_type": "execute_result"
    }
   ],
   "source": [
    "G.nodes()[0]"
   ]
  },
  {
   "cell_type": "code",
   "execution_count": 80,
   "id": "f6074a56-49c6-46cb-9187-597ca57a365f",
   "metadata": {},
   "outputs": [],
   "source": [
    "nx.write_gexf(G, \"data/Users.gexf\")"
   ]
  },
  {
   "cell_type": "code",
   "execution_count": null,
   "id": "ba274c72-bd3f-4b8f-86f0-b5022c87df19",
   "metadata": {},
   "outputs": [],
   "source": []
  }
 ],
 "metadata": {
  "kernelspec": {
   "display_name": "Python 3 (ipykernel)",
   "language": "python",
   "name": "python3"
  },
  "language_info": {
   "codemirror_mode": {
    "name": "ipython",
    "version": 3
   },
   "file_extension": ".py",
   "mimetype": "text/x-python",
   "name": "python",
   "nbconvert_exporter": "python",
   "pygments_lexer": "ipython3",
   "version": "3.9.7"
  }
 },
 "nbformat": 4,
 "nbformat_minor": 5
}
